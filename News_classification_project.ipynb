{
  "nbformat": 4,
  "nbformat_minor": 0,
  "metadata": {
    "colab": {
      "provenance": [],
      "mount_file_id": "1Gp4TH99G0pcXPj1bWsE2YHlQZGDYFerM",
      "authorship_tag": "ABX9TyNPMDOGV320EbGnKhLUSlOA",
      "include_colab_link": true
    },
    "kernelspec": {
      "name": "python3",
      "display_name": "Python 3"
    },
    "language_info": {
      "name": "python"
    }
  },
  "cells": [
    {
      "cell_type": "markdown",
      "metadata": {
        "id": "view-in-github",
        "colab_type": "text"
      },
      "source": [
        "<a href=\"https://colab.research.google.com/github/Ganesh7134/Automated_News_Classification_System_Using_NLP/blob/main/News_classification_project.ipynb\" target=\"_parent\"><img src=\"https://colab.research.google.com/assets/colab-badge.svg\" alt=\"Open In Colab\"/></a>"
      ]
    },
    {
      "cell_type": "code",
      "execution_count": 2,
      "metadata": {
        "id": "Il2fDZE-HrGz"
      },
      "outputs": [],
      "source": [
        "import pandas as pd\n",
        "import numpy as np"
      ]
    },
    {
      "cell_type": "code",
      "source": [
        "df1 = pd.read_csv(\"/content/drive/MyDrive/Science.csv\")\n",
        "df2 = pd.read_csv(\"/content/drive/MyDrive/sports.csv\")\n",
        "df3 = pd.read_csv(\"/content/drive/MyDrive/Business.csv\")\n",
        "df = pd.concat([df1,df2,df3],axis=0)\n",
        "df.head()"
      ],
      "metadata": {
        "colab": {
          "base_uri": "https://localhost:8080/",
          "height": 206
        },
        "id": "KYrAebUPH-Ay",
        "outputId": "d9cc14ee-48c4-4c35-dceb-9e27e66567f7"
      },
      "execution_count": 3,
      "outputs": [
        {
          "output_type": "execute_result",
          "data": {
            "text/plain": [
              "                                        article_name  \\\n",
              "0  Why the multiverse is possible according to ph...   \n",
              "1  Webb telescope captures 'stunning' images of 1...   \n",
              "2  NASA’s historic Mars helicopter Ingenuity grou...   \n",
              "3                         How many trees do we have?   \n",
              "4  India-made typhoid vaccine efficacy lasts for ...   \n",
              "\n",
              "                                         description category  \n",
              "0  If a theory about the physical world is experi...  Science  \n",
              "1  A batch of newly released images captured by t...  Science  \n",
              "2  NASA said on Thursday its Mars robot helicopte...  Science  \n",
              "3  A detailed analysis of the earth’s trees was m...  Science  \n",
              "4  A phase-3 trial in children aged between nine ...  Science  "
            ],
            "text/html": [
              "\n",
              "  <div id=\"df-6fec54a5-0ca9-4bb3-8998-2051b3343527\" class=\"colab-df-container\">\n",
              "    <div>\n",
              "<style scoped>\n",
              "    .dataframe tbody tr th:only-of-type {\n",
              "        vertical-align: middle;\n",
              "    }\n",
              "\n",
              "    .dataframe tbody tr th {\n",
              "        vertical-align: top;\n",
              "    }\n",
              "\n",
              "    .dataframe thead th {\n",
              "        text-align: right;\n",
              "    }\n",
              "</style>\n",
              "<table border=\"1\" class=\"dataframe\">\n",
              "  <thead>\n",
              "    <tr style=\"text-align: right;\">\n",
              "      <th></th>\n",
              "      <th>article_name</th>\n",
              "      <th>description</th>\n",
              "      <th>category</th>\n",
              "    </tr>\n",
              "  </thead>\n",
              "  <tbody>\n",
              "    <tr>\n",
              "      <th>0</th>\n",
              "      <td>Why the multiverse is possible according to ph...</td>\n",
              "      <td>If a theory about the physical world is experi...</td>\n",
              "      <td>Science</td>\n",
              "    </tr>\n",
              "    <tr>\n",
              "      <th>1</th>\n",
              "      <td>Webb telescope captures 'stunning' images of 1...</td>\n",
              "      <td>A batch of newly released images captured by t...</td>\n",
              "      <td>Science</td>\n",
              "    </tr>\n",
              "    <tr>\n",
              "      <th>2</th>\n",
              "      <td>NASA’s historic Mars helicopter Ingenuity grou...</td>\n",
              "      <td>NASA said on Thursday its Mars robot helicopte...</td>\n",
              "      <td>Science</td>\n",
              "    </tr>\n",
              "    <tr>\n",
              "      <th>3</th>\n",
              "      <td>How many trees do we have?</td>\n",
              "      <td>A detailed analysis of the earth’s trees was m...</td>\n",
              "      <td>Science</td>\n",
              "    </tr>\n",
              "    <tr>\n",
              "      <th>4</th>\n",
              "      <td>India-made typhoid vaccine efficacy lasts for ...</td>\n",
              "      <td>A phase-3 trial in children aged between nine ...</td>\n",
              "      <td>Science</td>\n",
              "    </tr>\n",
              "  </tbody>\n",
              "</table>\n",
              "</div>\n",
              "    <div class=\"colab-df-buttons\">\n",
              "\n",
              "  <div class=\"colab-df-container\">\n",
              "    <button class=\"colab-df-convert\" onclick=\"convertToInteractive('df-6fec54a5-0ca9-4bb3-8998-2051b3343527')\"\n",
              "            title=\"Convert this dataframe to an interactive table.\"\n",
              "            style=\"display:none;\">\n",
              "\n",
              "  <svg xmlns=\"http://www.w3.org/2000/svg\" height=\"24px\" viewBox=\"0 -960 960 960\">\n",
              "    <path d=\"M120-120v-720h720v720H120Zm60-500h600v-160H180v160Zm220 220h160v-160H400v160Zm0 220h160v-160H400v160ZM180-400h160v-160H180v160Zm440 0h160v-160H620v160ZM180-180h160v-160H180v160Zm440 0h160v-160H620v160Z\"/>\n",
              "  </svg>\n",
              "    </button>\n",
              "\n",
              "  <style>\n",
              "    .colab-df-container {\n",
              "      display:flex;\n",
              "      gap: 12px;\n",
              "    }\n",
              "\n",
              "    .colab-df-convert {\n",
              "      background-color: #E8F0FE;\n",
              "      border: none;\n",
              "      border-radius: 50%;\n",
              "      cursor: pointer;\n",
              "      display: none;\n",
              "      fill: #1967D2;\n",
              "      height: 32px;\n",
              "      padding: 0 0 0 0;\n",
              "      width: 32px;\n",
              "    }\n",
              "\n",
              "    .colab-df-convert:hover {\n",
              "      background-color: #E2EBFA;\n",
              "      box-shadow: 0px 1px 2px rgba(60, 64, 67, 0.3), 0px 1px 3px 1px rgba(60, 64, 67, 0.15);\n",
              "      fill: #174EA6;\n",
              "    }\n",
              "\n",
              "    .colab-df-buttons div {\n",
              "      margin-bottom: 4px;\n",
              "    }\n",
              "\n",
              "    [theme=dark] .colab-df-convert {\n",
              "      background-color: #3B4455;\n",
              "      fill: #D2E3FC;\n",
              "    }\n",
              "\n",
              "    [theme=dark] .colab-df-convert:hover {\n",
              "      background-color: #434B5C;\n",
              "      box-shadow: 0px 1px 3px 1px rgba(0, 0, 0, 0.15);\n",
              "      filter: drop-shadow(0px 1px 2px rgba(0, 0, 0, 0.3));\n",
              "      fill: #FFFFFF;\n",
              "    }\n",
              "  </style>\n",
              "\n",
              "    <script>\n",
              "      const buttonEl =\n",
              "        document.querySelector('#df-6fec54a5-0ca9-4bb3-8998-2051b3343527 button.colab-df-convert');\n",
              "      buttonEl.style.display =\n",
              "        google.colab.kernel.accessAllowed ? 'block' : 'none';\n",
              "\n",
              "      async function convertToInteractive(key) {\n",
              "        const element = document.querySelector('#df-6fec54a5-0ca9-4bb3-8998-2051b3343527');\n",
              "        const dataTable =\n",
              "          await google.colab.kernel.invokeFunction('convertToInteractive',\n",
              "                                                    [key], {});\n",
              "        if (!dataTable) return;\n",
              "\n",
              "        const docLinkHtml = 'Like what you see? Visit the ' +\n",
              "          '<a target=\"_blank\" href=https://colab.research.google.com/notebooks/data_table.ipynb>data table notebook</a>'\n",
              "          + ' to learn more about interactive tables.';\n",
              "        element.innerHTML = '';\n",
              "        dataTable['output_type'] = 'display_data';\n",
              "        await google.colab.output.renderOutput(dataTable, element);\n",
              "        const docLink = document.createElement('div');\n",
              "        docLink.innerHTML = docLinkHtml;\n",
              "        element.appendChild(docLink);\n",
              "      }\n",
              "    </script>\n",
              "  </div>\n",
              "\n",
              "\n",
              "<div id=\"df-ec2a304e-27c0-4783-be33-29d62439e869\">\n",
              "  <button class=\"colab-df-quickchart\" onclick=\"quickchart('df-ec2a304e-27c0-4783-be33-29d62439e869')\"\n",
              "            title=\"Suggest charts\"\n",
              "            style=\"display:none;\">\n",
              "\n",
              "<svg xmlns=\"http://www.w3.org/2000/svg\" height=\"24px\"viewBox=\"0 0 24 24\"\n",
              "     width=\"24px\">\n",
              "    <g>\n",
              "        <path d=\"M19 3H5c-1.1 0-2 .9-2 2v14c0 1.1.9 2 2 2h14c1.1 0 2-.9 2-2V5c0-1.1-.9-2-2-2zM9 17H7v-7h2v7zm4 0h-2V7h2v10zm4 0h-2v-4h2v4z\"/>\n",
              "    </g>\n",
              "</svg>\n",
              "  </button>\n",
              "\n",
              "<style>\n",
              "  .colab-df-quickchart {\n",
              "      --bg-color: #E8F0FE;\n",
              "      --fill-color: #1967D2;\n",
              "      --hover-bg-color: #E2EBFA;\n",
              "      --hover-fill-color: #174EA6;\n",
              "      --disabled-fill-color: #AAA;\n",
              "      --disabled-bg-color: #DDD;\n",
              "  }\n",
              "\n",
              "  [theme=dark] .colab-df-quickchart {\n",
              "      --bg-color: #3B4455;\n",
              "      --fill-color: #D2E3FC;\n",
              "      --hover-bg-color: #434B5C;\n",
              "      --hover-fill-color: #FFFFFF;\n",
              "      --disabled-bg-color: #3B4455;\n",
              "      --disabled-fill-color: #666;\n",
              "  }\n",
              "\n",
              "  .colab-df-quickchart {\n",
              "    background-color: var(--bg-color);\n",
              "    border: none;\n",
              "    border-radius: 50%;\n",
              "    cursor: pointer;\n",
              "    display: none;\n",
              "    fill: var(--fill-color);\n",
              "    height: 32px;\n",
              "    padding: 0;\n",
              "    width: 32px;\n",
              "  }\n",
              "\n",
              "  .colab-df-quickchart:hover {\n",
              "    background-color: var(--hover-bg-color);\n",
              "    box-shadow: 0 1px 2px rgba(60, 64, 67, 0.3), 0 1px 3px 1px rgba(60, 64, 67, 0.15);\n",
              "    fill: var(--button-hover-fill-color);\n",
              "  }\n",
              "\n",
              "  .colab-df-quickchart-complete:disabled,\n",
              "  .colab-df-quickchart-complete:disabled:hover {\n",
              "    background-color: var(--disabled-bg-color);\n",
              "    fill: var(--disabled-fill-color);\n",
              "    box-shadow: none;\n",
              "  }\n",
              "\n",
              "  .colab-df-spinner {\n",
              "    border: 2px solid var(--fill-color);\n",
              "    border-color: transparent;\n",
              "    border-bottom-color: var(--fill-color);\n",
              "    animation:\n",
              "      spin 1s steps(1) infinite;\n",
              "  }\n",
              "\n",
              "  @keyframes spin {\n",
              "    0% {\n",
              "      border-color: transparent;\n",
              "      border-bottom-color: var(--fill-color);\n",
              "      border-left-color: var(--fill-color);\n",
              "    }\n",
              "    20% {\n",
              "      border-color: transparent;\n",
              "      border-left-color: var(--fill-color);\n",
              "      border-top-color: var(--fill-color);\n",
              "    }\n",
              "    30% {\n",
              "      border-color: transparent;\n",
              "      border-left-color: var(--fill-color);\n",
              "      border-top-color: var(--fill-color);\n",
              "      border-right-color: var(--fill-color);\n",
              "    }\n",
              "    40% {\n",
              "      border-color: transparent;\n",
              "      border-right-color: var(--fill-color);\n",
              "      border-top-color: var(--fill-color);\n",
              "    }\n",
              "    60% {\n",
              "      border-color: transparent;\n",
              "      border-right-color: var(--fill-color);\n",
              "    }\n",
              "    80% {\n",
              "      border-color: transparent;\n",
              "      border-right-color: var(--fill-color);\n",
              "      border-bottom-color: var(--fill-color);\n",
              "    }\n",
              "    90% {\n",
              "      border-color: transparent;\n",
              "      border-bottom-color: var(--fill-color);\n",
              "    }\n",
              "  }\n",
              "</style>\n",
              "\n",
              "  <script>\n",
              "    async function quickchart(key) {\n",
              "      const quickchartButtonEl =\n",
              "        document.querySelector('#' + key + ' button');\n",
              "      quickchartButtonEl.disabled = true;  // To prevent multiple clicks.\n",
              "      quickchartButtonEl.classList.add('colab-df-spinner');\n",
              "      try {\n",
              "        const charts = await google.colab.kernel.invokeFunction(\n",
              "            'suggestCharts', [key], {});\n",
              "      } catch (error) {\n",
              "        console.error('Error during call to suggestCharts:', error);\n",
              "      }\n",
              "      quickchartButtonEl.classList.remove('colab-df-spinner');\n",
              "      quickchartButtonEl.classList.add('colab-df-quickchart-complete');\n",
              "    }\n",
              "    (() => {\n",
              "      let quickchartButtonEl =\n",
              "        document.querySelector('#df-ec2a304e-27c0-4783-be33-29d62439e869 button');\n",
              "      quickchartButtonEl.style.display =\n",
              "        google.colab.kernel.accessAllowed ? 'block' : 'none';\n",
              "    })();\n",
              "  </script>\n",
              "</div>\n",
              "\n",
              "    </div>\n",
              "  </div>\n"
            ],
            "application/vnd.google.colaboratory.intrinsic+json": {
              "type": "dataframe",
              "variable_name": "df",
              "summary": "{\n  \"name\": \"df\",\n  \"rows\": 1918,\n  \"fields\": [\n    {\n      \"column\": \"article_name\",\n      \"properties\": {\n        \"dtype\": \"string\",\n        \"samples\": [\n          \"TNCPL secures \\u20b923-crore worth orders\",\n          \"2024 to be a year of Gaganyaan readiness: ISRO Chairman\",\n          \"CG Power Q3 net dips to \\u20b9216 cr. on rising costs\"\n        ],\n        \"num_unique_values\": 1909,\n        \"semantic_type\": \"\",\n        \"description\": \"\"\n      }\n    },\n    {\n      \"column\": \"description\",\n      \"properties\": {\n        \"dtype\": \"string\",\n        \"samples\": [\n          \"Rahul Dravid and his three comrades in the coaching staff have been reappointed at the helm of India\\u2019s men\\u2019s cricket team at least till the 2024 T20 World Cup.\",\n          \"Phil Salt smashed a brilliant unbeaten century as England defeated West Indies by seven wickets to keep their Twenty20 international series alive in Grenada on Saturday.\",\n          \"In view of the upcoming State Budget on February 5, the beleaguered rubber growers of central Travancore are raising pressure on the Kerala government over an \\u201cunacknowledged\\u201d suspension of the Rubber Price Incentive Scheme (RPIS).\"\n        ],\n        \"num_unique_values\": 1760,\n        \"semantic_type\": \"\",\n        \"description\": \"\"\n      }\n    },\n    {\n      \"column\": \"category\",\n      \"properties\": {\n        \"dtype\": \"category\",\n        \"samples\": [\n          \"Science\",\n          \"Sports\",\n          \"Business\"\n        ],\n        \"num_unique_values\": 3,\n        \"semantic_type\": \"\",\n        \"description\": \"\"\n      }\n    }\n  ]\n}"
            }
          },
          "metadata": {},
          "execution_count": 3
        }
      ]
    },
    {
      "cell_type": "code",
      "source": [
        "df.isna().sum()"
      ],
      "metadata": {
        "colab": {
          "base_uri": "https://localhost:8080/"
        },
        "id": "7px9x_hoIKlx",
        "outputId": "f4cda487-c70f-4130-b9d8-86c7efb84a24"
      },
      "execution_count": 4,
      "outputs": [
        {
          "output_type": "execute_result",
          "data": {
            "text/plain": [
              "article_name      0\n",
              "description     120\n",
              "category          0\n",
              "dtype: int64"
            ]
          },
          "metadata": {},
          "execution_count": 4
        }
      ]
    },
    {
      "cell_type": "code",
      "source": [
        "df.dropna(inplace=True)"
      ],
      "metadata": {
        "id": "utZvAnT_MfqZ"
      },
      "execution_count": 5,
      "outputs": []
    },
    {
      "cell_type": "code",
      "source": [
        "len(df)"
      ],
      "metadata": {
        "colab": {
          "base_uri": "https://localhost:8080/"
        },
        "id": "SuEUpfWoIXWw",
        "outputId": "6cfae1dd-e1d4-4a1c-b01e-c81a61456d0e"
      },
      "execution_count": 6,
      "outputs": [
        {
          "output_type": "execute_result",
          "data": {
            "text/plain": [
              "1798"
            ]
          },
          "metadata": {},
          "execution_count": 6
        }
      ]
    },
    {
      "cell_type": "code",
      "source": [
        "df[\"description\"].apply(lambda x :len(x))"
      ],
      "metadata": {
        "colab": {
          "base_uri": "https://localhost:8080/"
        },
        "id": "_UzWhOwCIZBT",
        "outputId": "d120da28-bbad-4cc6-cb87-8e9ec0c9c982"
      },
      "execution_count": 7,
      "outputs": [
        {
          "output_type": "execute_result",
          "data": {
            "text/plain": [
              "0      295\n",
              "1      242\n",
              "2      268\n",
              "3      560\n",
              "4      458\n",
              "      ... \n",
              "598    203\n",
              "599    203\n",
              "600    115\n",
              "601    179\n",
              "602    173\n",
              "Name: description, Length: 1798, dtype: int64"
            ]
          },
          "metadata": {},
          "execution_count": 7
        }
      ]
    },
    {
      "cell_type": "code",
      "source": [
        "df[\"category\"].value_counts()"
      ],
      "metadata": {
        "colab": {
          "base_uri": "https://localhost:8080/"
        },
        "id": "202dKmqEMl8-",
        "outputId": "39dff012-6ee8-4540-8d2c-adac877b046c"
      },
      "execution_count": 8,
      "outputs": [
        {
          "output_type": "execute_result",
          "data": {
            "text/plain": [
              "Science     693\n",
              "Sports      576\n",
              "Business    529\n",
              "Name: category, dtype: int64"
            ]
          },
          "metadata": {},
          "execution_count": 8
        }
      ]
    },
    {
      "cell_type": "code",
      "source": [
        "import re\n",
        "from nltk.corpus import stopwords\n",
        "from nltk.stem import WordNetLemmatizer\n",
        "from sklearn.feature_extraction.text import TfidfVectorizer\n",
        "from nltk.tokenize import word_tokenize"
      ],
      "metadata": {
        "id": "bDjFoma9J9uq"
      },
      "execution_count": 9,
      "outputs": []
    },
    {
      "cell_type": "code",
      "source": [
        "import nltk\n",
        "nltk.download(\"stopwords\")"
      ],
      "metadata": {
        "colab": {
          "base_uri": "https://localhost:8080/"
        },
        "id": "VhwCJfVHKx4c",
        "outputId": "2f2d0f4c-a870-4f72-a512-77184c2ab24a"
      },
      "execution_count": 10,
      "outputs": [
        {
          "output_type": "stream",
          "name": "stderr",
          "text": [
            "[nltk_data] Downloading package stopwords to /root/nltk_data...\n",
            "[nltk_data]   Unzipping corpora/stopwords.zip.\n"
          ]
        },
        {
          "output_type": "execute_result",
          "data": {
            "text/plain": [
              "True"
            ]
          },
          "metadata": {},
          "execution_count": 10
        }
      ]
    },
    {
      "cell_type": "code",
      "source": [
        "sw = stopwords.words(\"english\")\n",
        "sw"
      ],
      "metadata": {
        "colab": {
          "base_uri": "https://localhost:8080/"
        },
        "id": "ox8XHF_oLP6C",
        "outputId": "98c4de9b-54b3-4edd-d283-3f0167abd352"
      },
      "execution_count": 11,
      "outputs": [
        {
          "output_type": "execute_result",
          "data": {
            "text/plain": [
              "['i',\n",
              " 'me',\n",
              " 'my',\n",
              " 'myself',\n",
              " 'we',\n",
              " 'our',\n",
              " 'ours',\n",
              " 'ourselves',\n",
              " 'you',\n",
              " \"you're\",\n",
              " \"you've\",\n",
              " \"you'll\",\n",
              " \"you'd\",\n",
              " 'your',\n",
              " 'yours',\n",
              " 'yourself',\n",
              " 'yourselves',\n",
              " 'he',\n",
              " 'him',\n",
              " 'his',\n",
              " 'himself',\n",
              " 'she',\n",
              " \"she's\",\n",
              " 'her',\n",
              " 'hers',\n",
              " 'herself',\n",
              " 'it',\n",
              " \"it's\",\n",
              " 'its',\n",
              " 'itself',\n",
              " 'they',\n",
              " 'them',\n",
              " 'their',\n",
              " 'theirs',\n",
              " 'themselves',\n",
              " 'what',\n",
              " 'which',\n",
              " 'who',\n",
              " 'whom',\n",
              " 'this',\n",
              " 'that',\n",
              " \"that'll\",\n",
              " 'these',\n",
              " 'those',\n",
              " 'am',\n",
              " 'is',\n",
              " 'are',\n",
              " 'was',\n",
              " 'were',\n",
              " 'be',\n",
              " 'been',\n",
              " 'being',\n",
              " 'have',\n",
              " 'has',\n",
              " 'had',\n",
              " 'having',\n",
              " 'do',\n",
              " 'does',\n",
              " 'did',\n",
              " 'doing',\n",
              " 'a',\n",
              " 'an',\n",
              " 'the',\n",
              " 'and',\n",
              " 'but',\n",
              " 'if',\n",
              " 'or',\n",
              " 'because',\n",
              " 'as',\n",
              " 'until',\n",
              " 'while',\n",
              " 'of',\n",
              " 'at',\n",
              " 'by',\n",
              " 'for',\n",
              " 'with',\n",
              " 'about',\n",
              " 'against',\n",
              " 'between',\n",
              " 'into',\n",
              " 'through',\n",
              " 'during',\n",
              " 'before',\n",
              " 'after',\n",
              " 'above',\n",
              " 'below',\n",
              " 'to',\n",
              " 'from',\n",
              " 'up',\n",
              " 'down',\n",
              " 'in',\n",
              " 'out',\n",
              " 'on',\n",
              " 'off',\n",
              " 'over',\n",
              " 'under',\n",
              " 'again',\n",
              " 'further',\n",
              " 'then',\n",
              " 'once',\n",
              " 'here',\n",
              " 'there',\n",
              " 'when',\n",
              " 'where',\n",
              " 'why',\n",
              " 'how',\n",
              " 'all',\n",
              " 'any',\n",
              " 'both',\n",
              " 'each',\n",
              " 'few',\n",
              " 'more',\n",
              " 'most',\n",
              " 'other',\n",
              " 'some',\n",
              " 'such',\n",
              " 'no',\n",
              " 'nor',\n",
              " 'not',\n",
              " 'only',\n",
              " 'own',\n",
              " 'same',\n",
              " 'so',\n",
              " 'than',\n",
              " 'too',\n",
              " 'very',\n",
              " 's',\n",
              " 't',\n",
              " 'can',\n",
              " 'will',\n",
              " 'just',\n",
              " 'don',\n",
              " \"don't\",\n",
              " 'should',\n",
              " \"should've\",\n",
              " 'now',\n",
              " 'd',\n",
              " 'll',\n",
              " 'm',\n",
              " 'o',\n",
              " 're',\n",
              " 've',\n",
              " 'y',\n",
              " 'ain',\n",
              " 'aren',\n",
              " \"aren't\",\n",
              " 'couldn',\n",
              " \"couldn't\",\n",
              " 'didn',\n",
              " \"didn't\",\n",
              " 'doesn',\n",
              " \"doesn't\",\n",
              " 'hadn',\n",
              " \"hadn't\",\n",
              " 'hasn',\n",
              " \"hasn't\",\n",
              " 'haven',\n",
              " \"haven't\",\n",
              " 'isn',\n",
              " \"isn't\",\n",
              " 'ma',\n",
              " 'mightn',\n",
              " \"mightn't\",\n",
              " 'mustn',\n",
              " \"mustn't\",\n",
              " 'needn',\n",
              " \"needn't\",\n",
              " 'shan',\n",
              " \"shan't\",\n",
              " 'shouldn',\n",
              " \"shouldn't\",\n",
              " 'wasn',\n",
              " \"wasn't\",\n",
              " 'weren',\n",
              " \"weren't\",\n",
              " 'won',\n",
              " \"won't\",\n",
              " 'wouldn',\n",
              " \"wouldn't\"]"
            ]
          },
          "metadata": {},
          "execution_count": 11
        }
      ]
    },
    {
      "cell_type": "code",
      "source": [
        "import nltk\n",
        "nltk.download('punkt')"
      ],
      "metadata": {
        "colab": {
          "base_uri": "https://localhost:8080/"
        },
        "id": "rd1UxdRsMP8f",
        "outputId": "01609112-31f8-4fbb-c636-46480d690e8e"
      },
      "execution_count": 12,
      "outputs": [
        {
          "output_type": "stream",
          "name": "stderr",
          "text": [
            "[nltk_data] Downloading package punkt to /root/nltk_data...\n",
            "[nltk_data]   Unzipping tokenizers/punkt.zip.\n"
          ]
        },
        {
          "output_type": "execute_result",
          "data": {
            "text/plain": [
              "True"
            ]
          },
          "metadata": {},
          "execution_count": 12
        }
      ]
    },
    {
      "cell_type": "code",
      "source": [
        "import nltk\n",
        "def preprocessing(text):\n",
        "    pattern = r\"https?://[^\\s]+|[^a-zA-Z]\"  # Match URLs and non-alphabetic characters\n",
        "    clean_text = re.sub(pattern, \" \", text)\n",
        "    lower_text = clean_text.lower()\n",
        "    word_tokenize = nltk.word_tokenize(lower_text)\n",
        "    stop_words = set(sw)  # Get English stop words\n",
        "    filtered_tokens = [word for word in word_tokenize if word not in stop_words]  # Filter stop words\n",
        "    preprocessed_sent = \" \".join(filtered_tokens)\n",
        "\n",
        "    return preprocessed_sent"
      ],
      "metadata": {
        "id": "e28WS3J_LZfT"
      },
      "execution_count": 13,
      "outputs": []
    },
    {
      "cell_type": "code",
      "source": [
        "df[\"preprocessed_text\"] = df[\"description\"].apply(preprocessing)"
      ],
      "metadata": {
        "id": "sFDsnINBLpCp"
      },
      "execution_count": 14,
      "outputs": []
    },
    {
      "cell_type": "code",
      "source": [
        "df.head()"
      ],
      "metadata": {
        "colab": {
          "base_uri": "https://localhost:8080/",
          "height": 241
        },
        "id": "mXNlh6XgMKvB",
        "outputId": "1a422e99-b375-4e47-ff2e-c66a907f60eb"
      },
      "execution_count": 15,
      "outputs": [
        {
          "output_type": "execute_result",
          "data": {
            "text/plain": [
              "                                        article_name  \\\n",
              "0  Why the multiverse is possible according to ph...   \n",
              "1  Webb telescope captures 'stunning' images of 1...   \n",
              "2  NASA’s historic Mars helicopter Ingenuity grou...   \n",
              "3                         How many trees do we have?   \n",
              "4  India-made typhoid vaccine efficacy lasts for ...   \n",
              "\n",
              "                                         description category  \\\n",
              "0  If a theory about the physical world is experi...  Science   \n",
              "1  A batch of newly released images captured by t...  Science   \n",
              "2  NASA said on Thursday its Mars robot helicopte...  Science   \n",
              "3  A detailed analysis of the earth’s trees was m...  Science   \n",
              "4  A phase-3 trial in children aged between nine ...  Science   \n",
              "\n",
              "                                   preprocessed_text  \n",
              "0  theory physical world experimentally testable ...  \n",
              "1  batch newly released images captured james web...  \n",
              "2  nasa said thursday mars robot helicopter ingen...  \n",
              "3  detailed analysis earth trees made years ago m...  \n",
              "4  phase trial children aged nine months years ca...  "
            ],
            "text/html": [
              "\n",
              "  <div id=\"df-a144240d-0ced-4848-a052-07bc26980922\" class=\"colab-df-container\">\n",
              "    <div>\n",
              "<style scoped>\n",
              "    .dataframe tbody tr th:only-of-type {\n",
              "        vertical-align: middle;\n",
              "    }\n",
              "\n",
              "    .dataframe tbody tr th {\n",
              "        vertical-align: top;\n",
              "    }\n",
              "\n",
              "    .dataframe thead th {\n",
              "        text-align: right;\n",
              "    }\n",
              "</style>\n",
              "<table border=\"1\" class=\"dataframe\">\n",
              "  <thead>\n",
              "    <tr style=\"text-align: right;\">\n",
              "      <th></th>\n",
              "      <th>article_name</th>\n",
              "      <th>description</th>\n",
              "      <th>category</th>\n",
              "      <th>preprocessed_text</th>\n",
              "    </tr>\n",
              "  </thead>\n",
              "  <tbody>\n",
              "    <tr>\n",
              "      <th>0</th>\n",
              "      <td>Why the multiverse is possible according to ph...</td>\n",
              "      <td>If a theory about the physical world is experi...</td>\n",
              "      <td>Science</td>\n",
              "      <td>theory physical world experimentally testable ...</td>\n",
              "    </tr>\n",
              "    <tr>\n",
              "      <th>1</th>\n",
              "      <td>Webb telescope captures 'stunning' images of 1...</td>\n",
              "      <td>A batch of newly released images captured by t...</td>\n",
              "      <td>Science</td>\n",
              "      <td>batch newly released images captured james web...</td>\n",
              "    </tr>\n",
              "    <tr>\n",
              "      <th>2</th>\n",
              "      <td>NASA’s historic Mars helicopter Ingenuity grou...</td>\n",
              "      <td>NASA said on Thursday its Mars robot helicopte...</td>\n",
              "      <td>Science</td>\n",
              "      <td>nasa said thursday mars robot helicopter ingen...</td>\n",
              "    </tr>\n",
              "    <tr>\n",
              "      <th>3</th>\n",
              "      <td>How many trees do we have?</td>\n",
              "      <td>A detailed analysis of the earth’s trees was m...</td>\n",
              "      <td>Science</td>\n",
              "      <td>detailed analysis earth trees made years ago m...</td>\n",
              "    </tr>\n",
              "    <tr>\n",
              "      <th>4</th>\n",
              "      <td>India-made typhoid vaccine efficacy lasts for ...</td>\n",
              "      <td>A phase-3 trial in children aged between nine ...</td>\n",
              "      <td>Science</td>\n",
              "      <td>phase trial children aged nine months years ca...</td>\n",
              "    </tr>\n",
              "  </tbody>\n",
              "</table>\n",
              "</div>\n",
              "    <div class=\"colab-df-buttons\">\n",
              "\n",
              "  <div class=\"colab-df-container\">\n",
              "    <button class=\"colab-df-convert\" onclick=\"convertToInteractive('df-a144240d-0ced-4848-a052-07bc26980922')\"\n",
              "            title=\"Convert this dataframe to an interactive table.\"\n",
              "            style=\"display:none;\">\n",
              "\n",
              "  <svg xmlns=\"http://www.w3.org/2000/svg\" height=\"24px\" viewBox=\"0 -960 960 960\">\n",
              "    <path d=\"M120-120v-720h720v720H120Zm60-500h600v-160H180v160Zm220 220h160v-160H400v160Zm0 220h160v-160H400v160ZM180-400h160v-160H180v160Zm440 0h160v-160H620v160ZM180-180h160v-160H180v160Zm440 0h160v-160H620v160Z\"/>\n",
              "  </svg>\n",
              "    </button>\n",
              "\n",
              "  <style>\n",
              "    .colab-df-container {\n",
              "      display:flex;\n",
              "      gap: 12px;\n",
              "    }\n",
              "\n",
              "    .colab-df-convert {\n",
              "      background-color: #E8F0FE;\n",
              "      border: none;\n",
              "      border-radius: 50%;\n",
              "      cursor: pointer;\n",
              "      display: none;\n",
              "      fill: #1967D2;\n",
              "      height: 32px;\n",
              "      padding: 0 0 0 0;\n",
              "      width: 32px;\n",
              "    }\n",
              "\n",
              "    .colab-df-convert:hover {\n",
              "      background-color: #E2EBFA;\n",
              "      box-shadow: 0px 1px 2px rgba(60, 64, 67, 0.3), 0px 1px 3px 1px rgba(60, 64, 67, 0.15);\n",
              "      fill: #174EA6;\n",
              "    }\n",
              "\n",
              "    .colab-df-buttons div {\n",
              "      margin-bottom: 4px;\n",
              "    }\n",
              "\n",
              "    [theme=dark] .colab-df-convert {\n",
              "      background-color: #3B4455;\n",
              "      fill: #D2E3FC;\n",
              "    }\n",
              "\n",
              "    [theme=dark] .colab-df-convert:hover {\n",
              "      background-color: #434B5C;\n",
              "      box-shadow: 0px 1px 3px 1px rgba(0, 0, 0, 0.15);\n",
              "      filter: drop-shadow(0px 1px 2px rgba(0, 0, 0, 0.3));\n",
              "      fill: #FFFFFF;\n",
              "    }\n",
              "  </style>\n",
              "\n",
              "    <script>\n",
              "      const buttonEl =\n",
              "        document.querySelector('#df-a144240d-0ced-4848-a052-07bc26980922 button.colab-df-convert');\n",
              "      buttonEl.style.display =\n",
              "        google.colab.kernel.accessAllowed ? 'block' : 'none';\n",
              "\n",
              "      async function convertToInteractive(key) {\n",
              "        const element = document.querySelector('#df-a144240d-0ced-4848-a052-07bc26980922');\n",
              "        const dataTable =\n",
              "          await google.colab.kernel.invokeFunction('convertToInteractive',\n",
              "                                                    [key], {});\n",
              "        if (!dataTable) return;\n",
              "\n",
              "        const docLinkHtml = 'Like what you see? Visit the ' +\n",
              "          '<a target=\"_blank\" href=https://colab.research.google.com/notebooks/data_table.ipynb>data table notebook</a>'\n",
              "          + ' to learn more about interactive tables.';\n",
              "        element.innerHTML = '';\n",
              "        dataTable['output_type'] = 'display_data';\n",
              "        await google.colab.output.renderOutput(dataTable, element);\n",
              "        const docLink = document.createElement('div');\n",
              "        docLink.innerHTML = docLinkHtml;\n",
              "        element.appendChild(docLink);\n",
              "      }\n",
              "    </script>\n",
              "  </div>\n",
              "\n",
              "\n",
              "<div id=\"df-80676be8-cf05-4ed9-9226-77da2f73f128\">\n",
              "  <button class=\"colab-df-quickchart\" onclick=\"quickchart('df-80676be8-cf05-4ed9-9226-77da2f73f128')\"\n",
              "            title=\"Suggest charts\"\n",
              "            style=\"display:none;\">\n",
              "\n",
              "<svg xmlns=\"http://www.w3.org/2000/svg\" height=\"24px\"viewBox=\"0 0 24 24\"\n",
              "     width=\"24px\">\n",
              "    <g>\n",
              "        <path d=\"M19 3H5c-1.1 0-2 .9-2 2v14c0 1.1.9 2 2 2h14c1.1 0 2-.9 2-2V5c0-1.1-.9-2-2-2zM9 17H7v-7h2v7zm4 0h-2V7h2v10zm4 0h-2v-4h2v4z\"/>\n",
              "    </g>\n",
              "</svg>\n",
              "  </button>\n",
              "\n",
              "<style>\n",
              "  .colab-df-quickchart {\n",
              "      --bg-color: #E8F0FE;\n",
              "      --fill-color: #1967D2;\n",
              "      --hover-bg-color: #E2EBFA;\n",
              "      --hover-fill-color: #174EA6;\n",
              "      --disabled-fill-color: #AAA;\n",
              "      --disabled-bg-color: #DDD;\n",
              "  }\n",
              "\n",
              "  [theme=dark] .colab-df-quickchart {\n",
              "      --bg-color: #3B4455;\n",
              "      --fill-color: #D2E3FC;\n",
              "      --hover-bg-color: #434B5C;\n",
              "      --hover-fill-color: #FFFFFF;\n",
              "      --disabled-bg-color: #3B4455;\n",
              "      --disabled-fill-color: #666;\n",
              "  }\n",
              "\n",
              "  .colab-df-quickchart {\n",
              "    background-color: var(--bg-color);\n",
              "    border: none;\n",
              "    border-radius: 50%;\n",
              "    cursor: pointer;\n",
              "    display: none;\n",
              "    fill: var(--fill-color);\n",
              "    height: 32px;\n",
              "    padding: 0;\n",
              "    width: 32px;\n",
              "  }\n",
              "\n",
              "  .colab-df-quickchart:hover {\n",
              "    background-color: var(--hover-bg-color);\n",
              "    box-shadow: 0 1px 2px rgba(60, 64, 67, 0.3), 0 1px 3px 1px rgba(60, 64, 67, 0.15);\n",
              "    fill: var(--button-hover-fill-color);\n",
              "  }\n",
              "\n",
              "  .colab-df-quickchart-complete:disabled,\n",
              "  .colab-df-quickchart-complete:disabled:hover {\n",
              "    background-color: var(--disabled-bg-color);\n",
              "    fill: var(--disabled-fill-color);\n",
              "    box-shadow: none;\n",
              "  }\n",
              "\n",
              "  .colab-df-spinner {\n",
              "    border: 2px solid var(--fill-color);\n",
              "    border-color: transparent;\n",
              "    border-bottom-color: var(--fill-color);\n",
              "    animation:\n",
              "      spin 1s steps(1) infinite;\n",
              "  }\n",
              "\n",
              "  @keyframes spin {\n",
              "    0% {\n",
              "      border-color: transparent;\n",
              "      border-bottom-color: var(--fill-color);\n",
              "      border-left-color: var(--fill-color);\n",
              "    }\n",
              "    20% {\n",
              "      border-color: transparent;\n",
              "      border-left-color: var(--fill-color);\n",
              "      border-top-color: var(--fill-color);\n",
              "    }\n",
              "    30% {\n",
              "      border-color: transparent;\n",
              "      border-left-color: var(--fill-color);\n",
              "      border-top-color: var(--fill-color);\n",
              "      border-right-color: var(--fill-color);\n",
              "    }\n",
              "    40% {\n",
              "      border-color: transparent;\n",
              "      border-right-color: var(--fill-color);\n",
              "      border-top-color: var(--fill-color);\n",
              "    }\n",
              "    60% {\n",
              "      border-color: transparent;\n",
              "      border-right-color: var(--fill-color);\n",
              "    }\n",
              "    80% {\n",
              "      border-color: transparent;\n",
              "      border-right-color: var(--fill-color);\n",
              "      border-bottom-color: var(--fill-color);\n",
              "    }\n",
              "    90% {\n",
              "      border-color: transparent;\n",
              "      border-bottom-color: var(--fill-color);\n",
              "    }\n",
              "  }\n",
              "</style>\n",
              "\n",
              "  <script>\n",
              "    async function quickchart(key) {\n",
              "      const quickchartButtonEl =\n",
              "        document.querySelector('#' + key + ' button');\n",
              "      quickchartButtonEl.disabled = true;  // To prevent multiple clicks.\n",
              "      quickchartButtonEl.classList.add('colab-df-spinner');\n",
              "      try {\n",
              "        const charts = await google.colab.kernel.invokeFunction(\n",
              "            'suggestCharts', [key], {});\n",
              "      } catch (error) {\n",
              "        console.error('Error during call to suggestCharts:', error);\n",
              "      }\n",
              "      quickchartButtonEl.classList.remove('colab-df-spinner');\n",
              "      quickchartButtonEl.classList.add('colab-df-quickchart-complete');\n",
              "    }\n",
              "    (() => {\n",
              "      let quickchartButtonEl =\n",
              "        document.querySelector('#df-80676be8-cf05-4ed9-9226-77da2f73f128 button');\n",
              "      quickchartButtonEl.style.display =\n",
              "        google.colab.kernel.accessAllowed ? 'block' : 'none';\n",
              "    })();\n",
              "  </script>\n",
              "</div>\n",
              "\n",
              "    </div>\n",
              "  </div>\n"
            ],
            "application/vnd.google.colaboratory.intrinsic+json": {
              "type": "dataframe",
              "variable_name": "df",
              "summary": "{\n  \"name\": \"df\",\n  \"rows\": 1798,\n  \"fields\": [\n    {\n      \"column\": \"article_name\",\n      \"properties\": {\n        \"dtype\": \"string\",\n        \"samples\": [\n          \"Union Budget 2024 live streaming: When and where to watch Finance Minister Nirmala Sitharaman\\u2019s Budget speech\",\n          \"India in South Africa | I have learnt a lot from my first two tours: Yashasvi Jaiswal\",\n          \"Chandrayaan-3 | How NASA, ESA will support ISRO during the Moon landing on August 23\"\n        ],\n        \"num_unique_values\": 1789,\n        \"semantic_type\": \"\",\n        \"description\": \"\"\n      }\n    },\n    {\n      \"column\": \"description\",\n      \"properties\": {\n        \"dtype\": \"string\",\n        \"samples\": [\n          \"Rahul Dravid and his three comrades in the coaching staff have been reappointed at the helm of India\\u2019s men\\u2019s cricket team at least till the 2024 T20 World Cup.\",\n          \"Phil Salt smashed a brilliant unbeaten century as England defeated West Indies by seven wickets to keep their Twenty20 international series alive in Grenada on Saturday.\",\n          \"In view of the upcoming State Budget on February 5, the beleaguered rubber growers of central Travancore are raising pressure on the Kerala government over an \\u201cunacknowledged\\u201d suspension of the Rubber Price Incentive Scheme (RPIS).\"\n        ],\n        \"num_unique_values\": 1760,\n        \"semantic_type\": \"\",\n        \"description\": \"\"\n      }\n    },\n    {\n      \"column\": \"category\",\n      \"properties\": {\n        \"dtype\": \"category\",\n        \"samples\": [\n          \"Science\",\n          \"Sports\",\n          \"Business\"\n        ],\n        \"num_unique_values\": 3,\n        \"semantic_type\": \"\",\n        \"description\": \"\"\n      }\n    },\n    {\n      \"column\": \"preprocessed_text\",\n      \"properties\": {\n        \"dtype\": \"string\",\n        \"samples\": [\n          \"columnists love argument one way initiate choose time best team everybody sport secret selector list every selection admits alternatives players guaranteed everybody list\",\n          \"wicketkeeper batter ashiqur rahman shibli continued splendid run second century five matches bangladesh crushed uae runs win asia cup dubai december\",\n          \"edtech major think learn pvt ltd operates brand name byju said investors voting rights ceo management change per shareholder agreement\"\n        ],\n        \"num_unique_values\": 1757,\n        \"semantic_type\": \"\",\n        \"description\": \"\"\n      }\n    }\n  ]\n}"
            }
          },
          "metadata": {},
          "execution_count": 15
        }
      ]
    },
    {
      "cell_type": "code",
      "source": [
        "df.drop(df.loc[df[\"preprocessed_text\"].apply(lambda x: len(x)) == 1].index,axis=0,inplace=True)"
      ],
      "metadata": {
        "id": "nPhXrEh7MVYi"
      },
      "execution_count": 16,
      "outputs": []
    },
    {
      "cell_type": "code",
      "source": [
        "len(df)"
      ],
      "metadata": {
        "colab": {
          "base_uri": "https://localhost:8080/"
        },
        "id": "29MJTrzEMb7S",
        "outputId": "0ac750aa-81ad-4d6f-ca95-99e89563dcd1"
      },
      "execution_count": 17,
      "outputs": [
        {
          "output_type": "execute_result",
          "data": {
            "text/plain": [
              "1798"
            ]
          },
          "metadata": {},
          "execution_count": 17
        }
      ]
    },
    {
      "cell_type": "code",
      "source": [
        "df.drop(df.loc[df[\"preprocessed_text\"] == \"questions\"].index,axis=0,inplace=True)"
      ],
      "metadata": {
        "id": "MA7tjH_ZOlfz"
      },
      "execution_count": 18,
      "outputs": []
    },
    {
      "cell_type": "code",
      "source": [
        "len(df)"
      ],
      "metadata": {
        "colab": {
          "base_uri": "https://localhost:8080/"
        },
        "id": "vByD47QHOzfz",
        "outputId": "029ad782-0974-401f-e2a7-cbd6734a9c3e"
      },
      "execution_count": 19,
      "outputs": [
        {
          "output_type": "execute_result",
          "data": {
            "text/plain": [
              "1742"
            ]
          },
          "metadata": {},
          "execution_count": 19
        }
      ]
    },
    {
      "cell_type": "code",
      "source": [
        "df[\"category\"].value_counts()"
      ],
      "metadata": {
        "colab": {
          "base_uri": "https://localhost:8080/"
        },
        "id": "elU8aVOON4Sw",
        "outputId": "62fbb6ff-8ce8-403d-f73f-0fbab2e835ae"
      },
      "execution_count": 20,
      "outputs": [
        {
          "output_type": "execute_result",
          "data": {
            "text/plain": [
              "Science     674\n",
              "Sports      558\n",
              "Business    510\n",
              "Name: category, dtype: int64"
            ]
          },
          "metadata": {},
          "execution_count": 20
        }
      ]
    },
    {
      "cell_type": "code",
      "source": [
        "import nltk\n",
        "nltk.download('averaged_perceptron_tagger')\n",
        "nltk.download('wordnet')"
      ],
      "metadata": {
        "colab": {
          "base_uri": "https://localhost:8080/"
        },
        "id": "NnsosHjcPls7",
        "outputId": "6b9232eb-e258-4be1-9e62-a65f48f88a76"
      },
      "execution_count": 21,
      "outputs": [
        {
          "output_type": "stream",
          "name": "stderr",
          "text": [
            "[nltk_data] Downloading package averaged_perceptron_tagger to\n",
            "[nltk_data]     /root/nltk_data...\n",
            "[nltk_data]   Unzipping taggers/averaged_perceptron_tagger.zip.\n",
            "[nltk_data] Downloading package wordnet to /root/nltk_data...\n"
          ]
        },
        {
          "output_type": "execute_result",
          "data": {
            "text/plain": [
              "True"
            ]
          },
          "metadata": {},
          "execution_count": 21
        }
      ]
    },
    {
      "cell_type": "code",
      "source": [
        "from nltk import pos_tag\n",
        "\n",
        "# Preprocessing functions\n",
        "def tokenize(text):\n",
        "  return word_tokenize(text.lower())\n",
        "\n",
        "def tag_pos(tokens):\n",
        "  return pos_tag(tokens)\n",
        "\n",
        "# Conditional lemmatization based on POS\n",
        "def conditioned_lemmatize(tagged_tokens):\n",
        "  lemmatizer = WordNetLemmatizer()\n",
        "  lemmatized_tokens = []\n",
        "  for token, pos in tagged_tokens:\n",
        "    if pos.startswith(\"N\"):\n",
        "      lemmatized_tokens.append(lemmatizer.lemmatize(token, \"n\"))\n",
        "    elif pos.startswith(\"V\"):\n",
        "      lemmatized_tokens.append(lemmatizer.lemmatize(token, \"v\"))\n",
        "    else:\n",
        "      lemmatized_tokens.append(token)\n",
        "  return lemmatized_tokens\n",
        "\n",
        "# Example usage\n",
        "text = \"The students are studying hard for the exams.\"\n",
        "\n",
        "tokens = tokenize(text)\n",
        "tagged_tokens = tag_pos(tokens)\n",
        "lemmatized_tokens = conditioned_lemmatize(tagged_tokens)\n",
        "\n",
        "lemmatized_text = \" \".join(lemmatized_tokens)\n",
        "\n",
        "print(f\"Original text: {text}\")\n",
        "\n",
        "print(f\"Lemmatized text: {lemmatized_text}\")"
      ],
      "metadata": {
        "colab": {
          "base_uri": "https://localhost:8080/"
        },
        "id": "katCOuxWPFXC",
        "outputId": "834b4d5b-71d4-4943-c89b-ed87825176c9"
      },
      "execution_count": 22,
      "outputs": [
        {
          "output_type": "stream",
          "name": "stdout",
          "text": [
            "Original text: The students are studying hard for the exams.\n",
            "Lemmatized text: the student be study hard for the exam .\n"
          ]
        }
      ]
    },
    {
      "cell_type": "code",
      "source": [
        "tokens"
      ],
      "metadata": {
        "colab": {
          "base_uri": "https://localhost:8080/"
        },
        "id": "hDrjW2tVPiME",
        "outputId": "c2feedc5-db32-4a34-bc02-d06a07895403"
      },
      "execution_count": 23,
      "outputs": [
        {
          "output_type": "execute_result",
          "data": {
            "text/plain": [
              "['the', 'students', 'are', 'studying', 'hard', 'for', 'the', 'exams', '.']"
            ]
          },
          "metadata": {},
          "execution_count": 23
        }
      ]
    },
    {
      "cell_type": "code",
      "source": [
        "tagged_tokens"
      ],
      "metadata": {
        "colab": {
          "base_uri": "https://localhost:8080/"
        },
        "id": "AD3eJdZlP2FM",
        "outputId": "1e7d4efc-badf-4e24-e941-7f59e6e3f02c"
      },
      "execution_count": 24,
      "outputs": [
        {
          "output_type": "execute_result",
          "data": {
            "text/plain": [
              "[('the', 'DT'),\n",
              " ('students', 'NNS'),\n",
              " ('are', 'VBP'),\n",
              " ('studying', 'VBG'),\n",
              " ('hard', 'RB'),\n",
              " ('for', 'IN'),\n",
              " ('the', 'DT'),\n",
              " ('exams', 'NNS'),\n",
              " ('.', '.')]"
            ]
          },
          "metadata": {},
          "execution_count": 24
        }
      ]
    },
    {
      "cell_type": "code",
      "source": [
        "lemmatized_tokens"
      ],
      "metadata": {
        "colab": {
          "base_uri": "https://localhost:8080/"
        },
        "id": "DbzLDKOJP3mk",
        "outputId": "1a95dcad-fd6c-4b64-9787-07fe2b430a58"
      },
      "execution_count": 25,
      "outputs": [
        {
          "output_type": "execute_result",
          "data": {
            "text/plain": [
              "['the', 'student', 'be', 'study', 'hard', 'for', 'the', 'exam', '.']"
            ]
          },
          "metadata": {},
          "execution_count": 25
        }
      ]
    },
    {
      "cell_type": "code",
      "source": [
        "nltk.download(\"tagsets\")"
      ],
      "metadata": {
        "colab": {
          "base_uri": "https://localhost:8080/"
        },
        "id": "GBvWXpVSP81z",
        "outputId": "0efbc2d9-6ad7-4735-dac9-756bbacf1052"
      },
      "execution_count": 26,
      "outputs": [
        {
          "output_type": "stream",
          "name": "stderr",
          "text": [
            "[nltk_data] Downloading package tagsets to /root/nltk_data...\n",
            "[nltk_data]   Unzipping help/tagsets.zip.\n"
          ]
        },
        {
          "output_type": "execute_result",
          "data": {
            "text/plain": [
              "True"
            ]
          },
          "metadata": {},
          "execution_count": 26
        }
      ]
    },
    {
      "cell_type": "code",
      "source": [
        "import nltk\n",
        "nltk.help.upenn_tagset() # to check pos_tag description"
      ],
      "metadata": {
        "colab": {
          "base_uri": "https://localhost:8080/"
        },
        "id": "riGVzF-nQEWr",
        "outputId": "a5346395-bc62-4e39-c24e-7ede8ca65022"
      },
      "execution_count": 27,
      "outputs": [
        {
          "output_type": "stream",
          "name": "stdout",
          "text": [
            "$: dollar\n",
            "    $ -$ --$ A$ C$ HK$ M$ NZ$ S$ U.S.$ US$\n",
            "'': closing quotation mark\n",
            "    ' ''\n",
            "(: opening parenthesis\n",
            "    ( [ {\n",
            "): closing parenthesis\n",
            "    ) ] }\n",
            ",: comma\n",
            "    ,\n",
            "--: dash\n",
            "    --\n",
            ".: sentence terminator\n",
            "    . ! ?\n",
            ":: colon or ellipsis\n",
            "    : ; ...\n",
            "CC: conjunction, coordinating\n",
            "    & 'n and both but either et for less minus neither nor or plus so\n",
            "    therefore times v. versus vs. whether yet\n",
            "CD: numeral, cardinal\n",
            "    mid-1890 nine-thirty forty-two one-tenth ten million 0.5 one forty-\n",
            "    seven 1987 twenty '79 zero two 78-degrees eighty-four IX '60s .025\n",
            "    fifteen 271,124 dozen quintillion DM2,000 ...\n",
            "DT: determiner\n",
            "    all an another any both del each either every half la many much nary\n",
            "    neither no some such that the them these this those\n",
            "EX: existential there\n",
            "    there\n",
            "FW: foreign word\n",
            "    gemeinschaft hund ich jeux habeas Haementeria Herr K'ang-si vous\n",
            "    lutihaw alai je jour objets salutaris fille quibusdam pas trop Monte\n",
            "    terram fiche oui corporis ...\n",
            "IN: preposition or conjunction, subordinating\n",
            "    astride among uppon whether out inside pro despite on by throughout\n",
            "    below within for towards near behind atop around if like until below\n",
            "    next into if beside ...\n",
            "JJ: adjective or numeral, ordinal\n",
            "    third ill-mannered pre-war regrettable oiled calamitous first separable\n",
            "    ectoplasmic battery-powered participatory fourth still-to-be-named\n",
            "    multilingual multi-disciplinary ...\n",
            "JJR: adjective, comparative\n",
            "    bleaker braver breezier briefer brighter brisker broader bumper busier\n",
            "    calmer cheaper choosier cleaner clearer closer colder commoner costlier\n",
            "    cozier creamier crunchier cuter ...\n",
            "JJS: adjective, superlative\n",
            "    calmest cheapest choicest classiest cleanest clearest closest commonest\n",
            "    corniest costliest crassest creepiest crudest cutest darkest deadliest\n",
            "    dearest deepest densest dinkiest ...\n",
            "LS: list item marker\n",
            "    A A. B B. C C. D E F First G H I J K One SP-44001 SP-44002 SP-44005\n",
            "    SP-44007 Second Third Three Two * a b c d first five four one six three\n",
            "    two\n",
            "MD: modal auxiliary\n",
            "    can cannot could couldn't dare may might must need ought shall should\n",
            "    shouldn't will would\n",
            "NN: noun, common, singular or mass\n",
            "    common-carrier cabbage knuckle-duster Casino afghan shed thermostat\n",
            "    investment slide humour falloff slick wind hyena override subhumanity\n",
            "    machinist ...\n",
            "NNP: noun, proper, singular\n",
            "    Motown Venneboerger Czestochwa Ranzer Conchita Trumplane Christos\n",
            "    Oceanside Escobar Kreisler Sawyer Cougar Yvette Ervin ODI Darryl CTCA\n",
            "    Shannon A.K.C. Meltex Liverpool ...\n",
            "NNPS: noun, proper, plural\n",
            "    Americans Americas Amharas Amityvilles Amusements Anarcho-Syndicalists\n",
            "    Andalusians Andes Andruses Angels Animals Anthony Antilles Antiques\n",
            "    Apache Apaches Apocrypha ...\n",
            "NNS: noun, common, plural\n",
            "    undergraduates scotches bric-a-brac products bodyguards facets coasts\n",
            "    divestitures storehouses designs clubs fragrances averages\n",
            "    subjectivists apprehensions muses factory-jobs ...\n",
            "PDT: pre-determiner\n",
            "    all both half many quite such sure this\n",
            "POS: genitive marker\n",
            "    ' 's\n",
            "PRP: pronoun, personal\n",
            "    hers herself him himself hisself it itself me myself one oneself ours\n",
            "    ourselves ownself self she thee theirs them themselves they thou thy us\n",
            "PRP$: pronoun, possessive\n",
            "    her his mine my our ours their thy your\n",
            "RB: adverb\n",
            "    occasionally unabatingly maddeningly adventurously professedly\n",
            "    stirringly prominently technologically magisterially predominately\n",
            "    swiftly fiscally pitilessly ...\n",
            "RBR: adverb, comparative\n",
            "    further gloomier grander graver greater grimmer harder harsher\n",
            "    healthier heavier higher however larger later leaner lengthier less-\n",
            "    perfectly lesser lonelier longer louder lower more ...\n",
            "RBS: adverb, superlative\n",
            "    best biggest bluntest earliest farthest first furthest hardest\n",
            "    heartiest highest largest least less most nearest second tightest worst\n",
            "RP: particle\n",
            "    aboard about across along apart around aside at away back before behind\n",
            "    by crop down ever fast for forth from go high i.e. in into just later\n",
            "    low more off on open out over per pie raising start teeth that through\n",
            "    under unto up up-pp upon whole with you\n",
            "SYM: symbol\n",
            "    % & ' '' ''. ) ). * + ,. < = > @ A[fj] U.S U.S.S.R * ** ***\n",
            "TO: \"to\" as preposition or infinitive marker\n",
            "    to\n",
            "UH: interjection\n",
            "    Goodbye Goody Gosh Wow Jeepers Jee-sus Hubba Hey Kee-reist Oops amen\n",
            "    huh howdy uh dammit whammo shucks heck anyways whodunnit honey golly\n",
            "    man baby diddle hush sonuvabitch ...\n",
            "VB: verb, base form\n",
            "    ask assemble assess assign assume atone attention avoid bake balkanize\n",
            "    bank begin behold believe bend benefit bevel beware bless boil bomb\n",
            "    boost brace break bring broil brush build ...\n",
            "VBD: verb, past tense\n",
            "    dipped pleaded swiped regummed soaked tidied convened halted registered\n",
            "    cushioned exacted snubbed strode aimed adopted belied figgered\n",
            "    speculated wore appreciated contemplated ...\n",
            "VBG: verb, present participle or gerund\n",
            "    telegraphing stirring focusing angering judging stalling lactating\n",
            "    hankerin' alleging veering capping approaching traveling besieging\n",
            "    encrypting interrupting erasing wincing ...\n",
            "VBN: verb, past participle\n",
            "    multihulled dilapidated aerosolized chaired languished panelized used\n",
            "    experimented flourished imitated reunifed factored condensed sheared\n",
            "    unsettled primed dubbed desired ...\n",
            "VBP: verb, present tense, not 3rd person singular\n",
            "    predominate wrap resort sue twist spill cure lengthen brush terminate\n",
            "    appear tend stray glisten obtain comprise detest tease attract\n",
            "    emphasize mold postpone sever return wag ...\n",
            "VBZ: verb, present tense, 3rd person singular\n",
            "    bases reconstructs marks mixes displeases seals carps weaves snatches\n",
            "    slumps stretches authorizes smolders pictures emerges stockpiles\n",
            "    seduces fizzes uses bolsters slaps speaks pleads ...\n",
            "WDT: WH-determiner\n",
            "    that what whatever which whichever\n",
            "WP: WH-pronoun\n",
            "    that what whatever whatsoever which who whom whosoever\n",
            "WP$: WH-pronoun, possessive\n",
            "    whose\n",
            "WRB: Wh-adverb\n",
            "    how however whence whenever where whereby whereever wherein whereof why\n",
            "``: opening quotation mark\n",
            "    ` ``\n"
          ]
        }
      ]
    },
    {
      "cell_type": "code",
      "source": [
        "Lemmatize_text = []\n",
        "for i in df[\"preprocessed_text\"]:\n",
        "    tokens = tokenize(i)\n",
        "    tagged_tokens = tag_pos(tokens)\n",
        "    lemmatized_tokens = conditioned_lemmatize(tagged_tokens)\n",
        "    lemmatized_text = \" \".join(lemmatized_tokens)\n",
        "    Lemmatize_text.append(lemmatized_text)"
      ],
      "metadata": {
        "id": "bYaBdgZEQOfb"
      },
      "execution_count": 28,
      "outputs": []
    },
    {
      "cell_type": "code",
      "source": [
        "df[\"filtered_text\"] = Lemmatize_text"
      ],
      "metadata": {
        "id": "VqoQRnURQgA0"
      },
      "execution_count": 29,
      "outputs": []
    },
    {
      "cell_type": "code",
      "source": [
        "from nltk.tokenize import word_tokenize\n",
        "tokens = []\n",
        "for i in df[\"filtered_text\"]:\n",
        "    tokens.append(word_tokenize(i))"
      ],
      "metadata": {
        "id": "pzGAXI1VQ4hY"
      },
      "execution_count": 30,
      "outputs": []
    },
    {
      "cell_type": "markdown",
      "source": [
        "## **Frequency distribution of words occurance**"
      ],
      "metadata": {
        "id": "FcEqsY93QtC0"
      }
    },
    {
      "cell_type": "code",
      "source": [
        "from nltk import FreqDist\n",
        "\n",
        "combined_fdist = FreqDist()  # Create a new, empty FreqDist\n",
        "\n",
        "for i in tokens:\n",
        "    # Create a FreqDist for each token and add its counts to the combined one\n",
        "    fdist = FreqDist(i)\n",
        "    combined_fdist += fdist\n",
        "\n",
        "# Print the most common words and their frequencies\n",
        "print(combined_fdist.most_common(10))"
      ],
      "metadata": {
        "colab": {
          "base_uri": "https://localhost:8080/"
        },
        "id": "uR-I_KyPQlIc",
        "outputId": "88f36e53-e42e-4cab-d636-c6f0d7b7e689"
      },
      "execution_count": 31,
      "outputs": [
        {
          "output_type": "stream",
          "name": "stdout",
          "text": [
            "[('india', 472), ('year', 360), ('say', 281), ('first', 233), ('indian', 226), ('test', 207), ('cricket', 204), ('space', 199), ('day', 182), ('world', 179)]\n"
          ]
        }
      ]
    },
    {
      "cell_type": "code",
      "source": [
        "from matplotlib import pyplot as plt\n",
        "FreqDist.plot(FreqDist(combined_fdist), 10)\n",
        "plt.figure(figsize=(20,20))\n",
        "plt.show()"
      ],
      "metadata": {
        "colab": {
          "base_uri": "https://localhost:8080/",
          "height": 499
        },
        "id": "KWE3khUgRCVM",
        "outputId": "1ebfe81a-15b8-4e78-ba82-0ca7f5a556db"
      },
      "execution_count": 32,
      "outputs": [
        {
          "output_type": "display_data",
          "data": {
            "text/plain": [
              "<Figure size 640x480 with 1 Axes>"
            ],
            "image/png": "[encoded data removed]"
          },
          "metadata": {}
        },
        {
          "output_type": "display_data",
          "data": {
            "text/plain": [
              "<Figure size 2000x2000 with 0 Axes>"
            ]
          },
          "metadata": {}
        }
      ]
    },
    {
      "cell_type": "code",
      "source": [
        "df.drop(df.loc[df[\"filtered_text\"] == \"\"].index,axis=0,inplace=True)"
      ],
      "metadata": {
        "id": "mAPKTtF1O-JM"
      },
      "execution_count": 33,
      "outputs": []
    },
    {
      "cell_type": "code",
      "source": [
        "len(df)"
      ],
      "metadata": {
        "colab": {
          "base_uri": "https://localhost:8080/"
        },
        "id": "3xEEu9zjPURo",
        "outputId": "c0551e34-fb46-44af-9c5f-553a4f342236"
      },
      "execution_count": 34,
      "outputs": [
        {
          "output_type": "execute_result",
          "data": {
            "text/plain": [
              "1730"
            ]
          },
          "metadata": {},
          "execution_count": 34
        }
      ]
    },
    {
      "cell_type": "code",
      "source": [
        "# Display WordCloud\n",
        "import matplotlib.pyplot as plt\n",
        "from wordcloud import WordCloud, STOPWORDS\n",
        "\n",
        "for i in df[\"filtered_text\"]:\n",
        "  # Create WordCloud\n",
        "  wordcloud = WordCloud(stopwords=STOPWORDS, background_color='white').generate(i)\n",
        "\n",
        "\n",
        "plt.imshow(wordcloud)\n",
        "plt.axis(\"off\")\n",
        "plt.show()"
      ],
      "metadata": {
        "colab": {
          "base_uri": "https://localhost:8080/",
          "height": 285
        },
        "id": "7trN372VRJdL",
        "outputId": "6c046a79-8a29-4a84-8ce3-7fcd61e13cd5"
      },
      "execution_count": 35,
      "outputs": [
        {
          "output_type": "display_data",
          "data": {
            "text/plain": [
              "<Figure size 640x480 with 1 Axes>"
            ],
            "image/png": "[encoded data removed]"
          },
          "metadata": {}
        }
      ]
    },
    {
      "cell_type": "code",
      "source": [
        "len(df)"
      ],
      "metadata": {
        "colab": {
          "base_uri": "https://localhost:8080/"
        },
        "id": "fjgFvSKzTPb0",
        "outputId": "4cd5914e-3877-4b2f-fe8a-ec943b3cf803"
      },
      "execution_count": 36,
      "outputs": [
        {
          "output_type": "execute_result",
          "data": {
            "text/plain": [
              "1730"
            ]
          },
          "metadata": {},
          "execution_count": 36
        }
      ]
    },
    {
      "cell_type": "code",
      "source": [
        "!pip install -U sentence-transformers"
      ],
      "metadata": {
        "colab": {
          "base_uri": "https://localhost:8080/"
        },
        "id": "ERTpYBnesA_2",
        "outputId": "e1b3365a-7d95-429c-b945-974419186c58"
      },
      "execution_count": 37,
      "outputs": [
        {
          "output_type": "stream",
          "name": "stdout",
          "text": [
            "Collecting sentence-transformers\n",
            "  Downloading sentence_transformers-2.3.1-py3-none-any.whl (132 kB)\n",
            "\u001b[2K     \u001b[90m━━━━━━━━━━━━━━━━━━━━━━━━━━━━━━━━━━━━━━━━\u001b[0m \u001b[32m132.8/132.8 kB\u001b[0m \u001b[31m1.5 MB/s\u001b[0m eta \u001b[36m0:00:00\u001b[0m\n",
            "\u001b[?25hRequirement already satisfied: transformers<5.0.0,>=4.32.0 in /usr/local/lib/python3.10/dist-packages (from sentence-transformers) (4.35.2)\n",
            "Requirement already satisfied: tqdm in /usr/local/lib/python3.10/dist-packages (from sentence-transformers) (4.66.1)\n",
            "Requirement already satisfied: torch>=1.11.0 in /usr/local/lib/python3.10/dist-packages (from sentence-transformers) (2.1.0+cu121)\n",
            "Requirement already satisfied: numpy in /usr/local/lib/python3.10/dist-packages (from sentence-transformers) (1.25.2)\n",
            "Requirement already satisfied: scikit-learn in /usr/local/lib/python3.10/dist-packages (from sentence-transformers) (1.2.2)\n",
            "Requirement already satisfied: scipy in /usr/local/lib/python3.10/dist-packages (from sentence-transformers) (1.11.4)\n",
            "Requirement already satisfied: nltk in /usr/local/lib/python3.10/dist-packages (from sentence-transformers) (3.8.1)\n",
            "Requirement already satisfied: sentencepiece in /usr/local/lib/python3.10/dist-packages (from sentence-transformers) (0.1.99)\n",
            "Requirement already satisfied: huggingface-hub>=0.15.1 in /usr/local/lib/python3.10/dist-packages (from sentence-transformers) (0.20.3)\n",
            "Requirement already satisfied: Pillow in /usr/local/lib/python3.10/dist-packages (from sentence-transformers) (9.4.0)\n",
            "Requirement already satisfied: filelock in /usr/local/lib/python3.10/dist-packages (from huggingface-hub>=0.15.1->sentence-transformers) (3.13.1)\n",
            "Requirement already satisfied: fsspec>=2023.5.0 in /usr/local/lib/python3.10/dist-packages (from huggingface-hub>=0.15.1->sentence-transformers) (2023.6.0)\n",
            "Requirement already satisfied: requests in /usr/local/lib/python3.10/dist-packages (from huggingface-hub>=0.15.1->sentence-transformers) (2.31.0)\n",
            "Requirement already satisfied: pyyaml>=5.1 in /usr/local/lib/python3.10/dist-packages (from huggingface-hub>=0.15.1->sentence-transformers) (6.0.1)\n",
            "Requirement already satisfied: typing-extensions>=3.7.4.3 in /usr/local/lib/python3.10/dist-packages (from huggingface-hub>=0.15.1->sentence-transformers) (4.9.0)\n",
            "Requirement already satisfied: packaging>=20.9 in /usr/local/lib/python3.10/dist-packages (from huggingface-hub>=0.15.1->sentence-transformers) (23.2)\n",
            "Requirement already satisfied: sympy in /usr/local/lib/python3.10/dist-packages (from torch>=1.11.0->sentence-transformers) (1.12)\n",
            "Requirement already satisfied: networkx in /usr/local/lib/python3.10/dist-packages (from torch>=1.11.0->sentence-transformers) (3.2.1)\n",
            "Requirement already satisfied: jinja2 in /usr/local/lib/python3.10/dist-packages (from torch>=1.11.0->sentence-transformers) (3.1.3)\n",
            "Requirement already satisfied: triton==2.1.0 in /usr/local/lib/python3.10/dist-packages (from torch>=1.11.0->sentence-transformers) (2.1.0)\n",
            "Requirement already satisfied: regex!=2019.12.17 in /usr/local/lib/python3.10/dist-packages (from transformers<5.0.0,>=4.32.0->sentence-transformers) (2023.12.25)\n",
            "Requirement already satisfied: tokenizers<0.19,>=0.14 in /usr/local/lib/python3.10/dist-packages (from transformers<5.0.0,>=4.32.0->sentence-transformers) (0.15.1)\n",
            "Requirement already satisfied: safetensors>=0.3.1 in /usr/local/lib/python3.10/dist-packages (from transformers<5.0.0,>=4.32.0->sentence-transformers) (0.4.2)\n",
            "Requirement already satisfied: click in /usr/local/lib/python3.10/dist-packages (from nltk->sentence-transformers) (8.1.7)\n",
            "Requirement already satisfied: joblib in /usr/local/lib/python3.10/dist-packages (from nltk->sentence-transformers) (1.3.2)\n",
            "Requirement already satisfied: threadpoolctl>=2.0.0 in /usr/local/lib/python3.10/dist-packages (from scikit-learn->sentence-transformers) (3.2.0)\n",
            "Requirement already satisfied: MarkupSafe>=2.0 in /usr/local/lib/python3.10/dist-packages (from jinja2->torch>=1.11.0->sentence-transformers) (2.1.5)\n",
            "Requirement already satisfied: charset-normalizer<4,>=2 in /usr/local/lib/python3.10/dist-packages (from requests->huggingface-hub>=0.15.1->sentence-transformers) (3.3.2)\n",
            "Requirement already satisfied: idna<4,>=2.5 in /usr/local/lib/python3.10/dist-packages (from requests->huggingface-hub>=0.15.1->sentence-transformers) (3.6)\n",
            "Requirement already satisfied: urllib3<3,>=1.21.1 in /usr/local/lib/python3.10/dist-packages (from requests->huggingface-hub>=0.15.1->sentence-transformers) (2.0.7)\n",
            "Requirement already satisfied: certifi>=2017.4.17 in /usr/local/lib/python3.10/dist-packages (from requests->huggingface-hub>=0.15.1->sentence-transformers) (2024.2.2)\n",
            "Requirement already satisfied: mpmath>=0.19 in /usr/local/lib/python3.10/dist-packages (from sympy->torch>=1.11.0->sentence-transformers) (1.3.0)\n",
            "Installing collected packages: sentence-transformers\n",
            "Successfully installed sentence-transformers-2.3.1\n"
          ]
        }
      ]
    },
    {
      "cell_type": "code",
      "source": [
        "# from sklearn.feature_extraction.text import TfidfVectorizer\n",
        "# from sklearn.cluster import KMeans\n",
        "# vectorizer = TfidfVectorizer()\n",
        "# text_features = vectorizer.fit_transform(df['article_name'])\n",
        "\n",
        "# # Use 'text_features' for clustering with K-means\n",
        "# kmeans = KMeans(n_clusters=3)\n",
        "# kmeans.fit(text_features)\n",
        "\n"
      ],
      "metadata": {
        "colab": {
          "base_uri": "https://localhost:8080/",
          "height": 129
        },
        "id": "Fel0jjJpTUhu",
        "outputId": "f1a2eb6c-cc53-47d9-f10a-651b297f2b98"
      },
      "execution_count": null,
      "outputs": [
        {
          "output_type": "stream",
          "name": "stderr",
          "text": [
            "/usr/local/lib/python3.10/dist-packages/sklearn/cluster/_kmeans.py:870: FutureWarning: The default value of `n_init` will change from 10 to 'auto' in 1.4. Set the value of `n_init` explicitly to suppress the warning\n",
            "  warnings.warn(\n"
          ]
        },
        {
          "output_type": "execute_result",
          "data": {
            "text/plain": [
              "KMeans(n_clusters=3)"
            ],
            "text/html": [
              "<style>#sk-container-id-1 {color: black;background-color: white;}#sk-container-id-1 pre{padding: 0;}#sk-container-id-1 div.sk-toggleable {background-color: white;}#sk-container-id-1 label.sk-toggleable__label {cursor: pointer;display: block;width: 100%;margin-bottom: 0;padding: 0.3em;box-sizing: border-box;text-align: center;}#sk-container-id-1 label.sk-toggleable__label-arrow:before {content: \"▸\";float: left;margin-right: 0.25em;color: #696969;}#sk-container-id-1 label.sk-toggleable__label-arrow:hover:before {color: black;}#sk-container-id-1 div.sk-estimator:hover label.sk-toggleable__label-arrow:before {color: black;}#sk-container-id-1 div.sk-toggleable__content {max-height: 0;max-width: 0;overflow: hidden;text-align: left;background-color: #f0f8ff;}#sk-container-id-1 div.sk-toggleable__content pre {margin: 0.2em;color: black;border-radius: 0.25em;background-color: #f0f8ff;}#sk-container-id-1 input.sk-toggleable__control:checked~div.sk-toggleable__content {max-height: 200px;max-width: 100%;overflow: auto;}#sk-container-id-1 input.sk-toggleable__control:checked~label.sk-toggleable__label-arrow:before {content: \"▾\";}#sk-container-id-1 div.sk-estimator input.sk-toggleable__control:checked~label.sk-toggleable__label {background-color: #d4ebff;}#sk-container-id-1 div.sk-label input.sk-toggleable__control:checked~label.sk-toggleable__label {background-color: #d4ebff;}#sk-container-id-1 input.sk-hidden--visually {border: 0;clip: rect(1px 1px 1px 1px);clip: rect(1px, 1px, 1px, 1px);height: 1px;margin: -1px;overflow: hidden;padding: 0;position: absolute;width: 1px;}#sk-container-id-1 div.sk-estimator {font-family: monospace;background-color: #f0f8ff;border: 1px dotted black;border-radius: 0.25em;box-sizing: border-box;margin-bottom: 0.5em;}#sk-container-id-1 div.sk-estimator:hover {background-color: #d4ebff;}#sk-container-id-1 div.sk-parallel-item::after {content: \"\";width: 100%;border-bottom: 1px solid gray;flex-grow: 1;}#sk-container-id-1 div.sk-label:hover label.sk-toggleable__label {background-color: #d4ebff;}#sk-container-id-1 div.sk-serial::before {content: \"\";position: absolute;border-left: 1px solid gray;box-sizing: border-box;top: 0;bottom: 0;left: 50%;z-index: 0;}#sk-container-id-1 div.sk-serial {display: flex;flex-direction: column;align-items: center;background-color: white;padding-right: 0.2em;padding-left: 0.2em;position: relative;}#sk-container-id-1 div.sk-item {position: relative;z-index: 1;}#sk-container-id-1 div.sk-parallel {display: flex;align-items: stretch;justify-content: center;background-color: white;position: relative;}#sk-container-id-1 div.sk-item::before, #sk-container-id-1 div.sk-parallel-item::before {content: \"\";position: absolute;border-left: 1px solid gray;box-sizing: border-box;top: 0;bottom: 0;left: 50%;z-index: -1;}#sk-container-id-1 div.sk-parallel-item {display: flex;flex-direction: column;z-index: 1;position: relative;background-color: white;}#sk-container-id-1 div.sk-parallel-item:first-child::after {align-self: flex-end;width: 50%;}#sk-container-id-1 div.sk-parallel-item:last-child::after {align-self: flex-start;width: 50%;}#sk-container-id-1 div.sk-parallel-item:only-child::after {width: 0;}#sk-container-id-1 div.sk-dashed-wrapped {border: 1px dashed gray;margin: 0 0.4em 0.5em 0.4em;box-sizing: border-box;padding-bottom: 0.4em;background-color: white;}#sk-container-id-1 div.sk-label label {font-family: monospace;font-weight: bold;display: inline-block;line-height: 1.2em;}#sk-container-id-1 div.sk-label-container {text-align: center;}#sk-container-id-1 div.sk-container {/* jupyter's `normalize.less` sets `[hidden] { display: none; }` but bootstrap.min.css set `[hidden] { display: none !important; }` so we also need the `!important` here to be able to override the default hidden behavior on the sphinx rendered scikit-learn.org. See: https://github.com/scikit-learn/scikit-learn/issues/21755 */display: inline-block !important;position: relative;}#sk-container-id-1 div.sk-text-repr-fallback {display: none;}</style><div id=\"sk-container-id-1\" class=\"sk-top-container\"><div class=\"sk-text-repr-fallback\"><pre>KMeans(n_clusters=3)</pre><b>In a Jupyter environment, please rerun this cell to show the HTML representation or trust the notebook. <br />On GitHub, the HTML representation is unable to render, please try loading this page with nbviewer.org.</b></div><div class=\"sk-container\" hidden><div class=\"sk-item\"><div class=\"sk-estimator sk-toggleable\"><input class=\"sk-toggleable__control sk-hidden--visually\" id=\"sk-estimator-id-1\" type=\"checkbox\" checked><label for=\"sk-estimator-id-1\" class=\"sk-toggleable__label sk-toggleable__label-arrow\">KMeans</label><div class=\"sk-toggleable__content\"><pre>KMeans(n_clusters=3)</pre></div></div></div></div></div>"
            ]
          },
          "metadata": {},
          "execution_count": 55
        }
      ]
    },
    {
      "cell_type": "code",
      "source": [
        "df[\"article_name\"].values"
      ],
      "metadata": {
        "colab": {
          "base_uri": "https://localhost:8080/"
        },
        "id": "hJOIJSkSwHg6",
        "outputId": "8ec5ca4a-b20f-4180-bb18-0ac8bd79a90e"
      },
      "execution_count": null,
      "outputs": [
        {
          "output_type": "execute_result",
          "data": {
            "text/plain": [
              "array(['Why the multiverse is possible according to physics, but not definitely',\n",
              "       \"Webb telescope captures 'stunning' images of 19 spiral galaxies\",\n",
              "       'NASA’s historic Mars helicopter Ingenuity grounded for good after 72 flights',\n",
              "       ...,\n",
              "       'Hangzhou Asian Games cricket | Indian men clinch gold without having to bat',\n",
              "       'Logan van Beek charts a ‘different way’ to the World Cup',\n",
              "       'Hangzhou Asian Games cricket | Washington and Sai Kishore help India trump Bangladesh, to face Afghanistan in the final'],\n",
              "      dtype=object)"
            ]
          },
          "metadata": {},
          "execution_count": 58
        }
      ]
    },
    {
      "cell_type": "code",
      "source": [
        "from sentence_transformers import SentenceTransformer\n",
        "from sklearn.cluster import AgglomerativeClustering\n",
        "from sklearn.cluster import KMeans\n",
        "model = SentenceTransformer('all-MiniLM-L6-v2')\n",
        "\n",
        "corpus = df[\"article_name\"].values\n",
        "\n",
        "corpus_embeddings = model.encode(corpus)\n",
        "\n",
        "cluster = KMeans(n_clusters=3)\n",
        "\n",
        "cluster.fit(corpus_embeddings)\n",
        "\n",
        "cluster_assignment = cluster.labels_\n",
        "\n",
        "cluster_sentence = [[] for i in range(3)]\n",
        "\n",
        "for sentence_id , cluster_id in enumerate(cluster_assignment):\n",
        "  cluster_sentence[cluster_id].append(corpus[sentence_id])\n",
        "\n",
        "for i , cluster in enumerate(cluster_sentence):\n",
        "  print(\"Cluster \",i+1)\n",
        "  print(cluster)\n",
        "  print(\"\")"
      ],
      "metadata": {
        "id": "MPEQ_Ra1cdRf",
        "colab": {
          "base_uri": "https://localhost:8080/"
        },
        "outputId": "79b1b2ca-ae2f-4aa7-9061-eb1f10f36ad1"
      },
      "execution_count": 39,
      "outputs": [
        {
          "output_type": "stream",
          "name": "stderr",
          "text": [
            "/usr/local/lib/python3.10/dist-packages/sklearn/cluster/_kmeans.py:870: FutureWarning: The default value of `n_init` will change from 10 to 'auto' in 1.4. Set the value of `n_init` explicitly to suppress the warning\n",
            "  warnings.warn(\n"
          ]
        },
        {
          "output_type": "stream",
          "name": "stdout",
          "text": [
            "Cluster  1\n",
            "['Fixing food could produce trillions in annual benefits: report', 'Urbanisation in Bhubaneswar impacts winter surface temperatures', 'India will ‘commission a nuclear power reactor every year’: NPCIL chief', 'Why are tubeless tyres not popular in India?', 'With pooled procurement, drugs cost 82% less', 'Could sisal leaves make sanitary napkins more sustainable in India?', '2024 to be a year of Gaganyaan readiness: ISRO Chairman', 'Missing TB cases in the private sector', 'Levy 20-30% health tax on food high in sugar, salt, fat: study', 'Bezos hopes Amazon strategy will help Blue Origin top SpaceX', 'India’s extreme rain was restricted to a ‘corridor’ during 1901-2019 | Explained', 'IIT-Madras researchers find home use products cause microplastic pollution', 'Building Blocks', 'COP28: will there be an agreement to phase out fossil fuels?', 'Could COP28 help UAE become a post-oil economy? | Explained', 'Indian drug manufacturers benefit from Big Pharma interest beyond China', 'Eight months on, States wait for 3HP TB preventive drug', 'Space sector reforms provided ‘enabling milieu,’ says Union Minister Jitendra Singh', 'Modest start to big strides: India’s space programme turns 60', 'Some houses are being built to stand up to hurricanes and sharply cut emissions, too', 'Japan provides up to $80 million subsidy to moonshot startup ispace', \"India's Agnikul raises 2 billion rupees more ahead of first rocket launch\", 'Rising number of ‘predatory’ academic journals undermines research and public trust in scholarship', 'The Silent Killer: tackling hypertension in India', 'India is running out of phosphorus. Does the solution lie in our sewage?', 'Libya dam collapse: engineering expert raises questions about management', 'One-third of TB patients received no payment for nutrition support', '23 private companies in race for SSLV technology transfer from ISRO', 'Smooth operation of Liquid Apogee Motor engine critical to Aditya-L1 success', 'Health Ministry withdraws fiat mandating doctors prescribe only generic drugs', 'Karnataka CM Siddaramaiah visits ISRO, felicitates Chairperson S. Somnath', 'Pipeline work leads to vast megalithic site in Kerala', 'ISRO achieved record high in last one year, says Chairperson S. Somanath', 'Explained | How One Health can help India respond better to health crises', 'Can small modular nuclear reactors help India achieve net-zero?', 'Tuberculosis: over 85% cure rate seen in modified BPaL regimen trial', 'Semiconductor tech: What exactly is India going to manufacture?', 'Indian group proposes radical new way to settle universe expansion dispute', 'Explained | North India’s monsoon mayhem is a confluence of factors', 'ISRO to transfer SSLV to private sector', 'Downside of living in high-rise buildings', 'Tamil Nadu has turned it around and is sitting pretty', 'Sai Kishore proves too hot to handle for Chandigarh', 'CBI closes 2019 IPL betting cases over lack of evidence', 'India in South Africa: India penalised for slow over-rate', 'Watch | RCB at IPL Auction 2024: Hit or miss?', 'IPL Auction 2024 | Siddharth finds his way back into the fold', 'Big Ticket IPL 2024 auction to get underway in Dubai', 'IPL Auction 2024 | Bidding war on the cards for big-ticket acquisitions', 'IPL Auction 2024 | The franchises’ shoppinglist', 'Vrinda Dinesh not worried about price tag, wants to give her best in the WPL', 'WPL auction will not be a distraction for us: Harmanpreet Kaur', 'My job is to ensure the system’s overall development, says Robin Singh about his stint with the TNCA', 'Black marketing of World Cup tickets: Kolkata police seeks response from CAB', 'Brook, Root among players to get ECB multi-year central contract; Stokes in one-year category', 'Women’s Premier League | Chaffing at its last-place finish Giants opt for wholesale changes', 'Rupee falls 4 paise to 83.12 against U.S. dollar in early trade', 'India fears losing out to China in smartphone exports race', 'Buyers have fewer choices as brands cut offerings to focus on best sellers', 'BHEL reports ₹149 crore net loss in Q3', 'JSW Steel, JFE Corporation to set up electrical steel facility in India with ₹5,500 crore investment', '‘Nutraceuticals market size likely to double in 5 years’', 'Thorny clause in ripening India-European Free Trade Association deal may hit generic drug industry', 'IRDAI issues exposure draft on Bima Sugam e-marketplace for insurance', 'Wipro picks up 60% stake in U.S. firm Aggne Global for $66 mn', 'Ashok Leyland invests ₹537 cr. in U.K. subsidiary', 'Surge in demand for vehicles drove Q3 profit: Bosch', 'Food factor may hold up further price rise relief', 'OPEC sticks to oil demand view, sees better economic growth', '‘We must act now’: IT Ministry fears losing out to China, Vietnam in smartphone exports race', 'OpenAI executives discuss election misinformation and safety with civil society in India', 'Stocks decline in early trade; Paytm shares hit record low', 'Rupee marginally falls to 83.01 in early trade', 'Gas booming for UN COP29 host Azerbaijan', 'Hygiene and sanitation rating system for the hospitality sector yet to take off', 'Decoding India’s economic realities: Comparing the state of the economy under the NDA and UPA governments', 'JSW Group said to plan making EVs at Odisha in 3 years', 'Manali Petro Q3 net affected by dumping and cyclone', 'Repco Home Finance Q3 standalone net rises 23% to ₹99 cr', 'Park Hotels parent gets listed at over 20% premium', 'DGAQA approves making Airbus C295 detailed parts, assemblies in India', 'LIC raises stake in SBI Cards ', 'SC issues notice on GST’s anti-profiteering provisions', '‘No review on the cards for Paytm Payments Bank curbs’', \"Steel Authority of India's Q3 profit drops as imports dent sales, prices\", 'R&D facility of Dr. Reddy’s in Hyderabad gets VAI classification of U.S. FDA', 'December rang in mild recovery in industrial output', 'RuPay, UPI payment services rolled out in Mauritius, Sri Lanka', 'RBI Governor Shaktikanta Das rules out review of action against Paytm Payments Bank', 'Market benchmarks tumble on profit booking', \"UPI payment services launched in Sri Lanka, Mauritius; PM Modi describes it as 'special day'\", 'Stock market sees volatile trading in morning session', 'Time for European Central Bank rate cuts fast approaching: Panetta', 'Farmers’ income will be increased with innovative schemes: Himachal CM Sukhvinder Singh Sukhu', 'Duty concession on gold will be major concern for India under proposed FTA with Peru: GTRI', 'FPIs infuse over ₹15,000 crore in debt market in February', 'RBI sticks to its mandate to curb inflation by keeping rates unchanged', 'Panasonic to develop India operations into export hub', 'India should not become sicker before it becomes richer: Chief Economic Adviser', 'U.S. FDA issues inspection report with VAI to Dr. Reddy’s plant ', 'Aurobindo Pharma Q3 net surges to ₹940 crore ', 'Manmohan Singh missed the reforms bus as PM: FM Nirmala Sitharaman', 'Red sea disruptions cost exporters dear', 'JSW Group to set up EV manufacturing industrial complex in Odisha with investment of ₹40,000 crore', 'Tata Steel’s Kalinganagar, Meramandali plants in Odisha receive Responsible Steel certification', '‘India’s AVGC-XR sector to become $26-bn industry by 2030’', 'TVS Motor plans roll out of slew of products in ICE, EV segment', 'EPFO to marginally hike interest on PF deposits to 8.25%', 'One Point One Solutions Q3 PAT grows three times to ₹5.97 crore', 'Pitti Engineering Q3 PAT up 10% to ₹13.32 crore', 'INDIA bloc calls White Paper document a ‘political manifesto’', 'Fugitive economic offenders will be extradited: FM in reply to White Paper debate in Lok Sabha', 'Kennametal India Q2 net profit rises 14% to ₹24 cr.', 'Va Tech Wabag Q3 consolidated net up 35% to ₹63 cr.', 'Vedanta says completed repayments to bond holders', 'TBO Tek plans to expand in North America, Europe', 'Watch | P. Chidambaram: ‘When we come to power GST will be reformed; States will be empowered’', 'MRF Q3 net surges threefold to ₹508 cr. on sales', 'Murugappa group EV arm plans next round of fund raise', 'Rane group to merge 2 units with Rane (Madras)', 'RBI raises wage ceiling for Non Executive Directors of banks to ₹30 lakh', 'Pizza Hut India operator reports biggest profit fall since listing', 'Petronet draws ₹40,000 cr. investment plan to treble profit by 2028', 'Disruptions in Red Sea route likely to raise freight and forwarding cost by 25-30%: Report', 'OpenAI hits $2 bln revenue milestone: Report', 'Supreme Court plea wants govt to allow MGNREGA workers to choose how they want their wages paid', 'Small tea growers in Nilgiris demand creation of corpus fund', 'What are the regulations with respect to rice prices? | Explained', 'The Paytm Payments Bank debacle | Explained', 'Ramco Cements Q3 standalone net up 39% to ₹93 cr.', 'External sector of economy remains resilient, CAD to be eminently manageable, says Das', 'Airbus contracts Bengaluru firm for assembly of doors for A220 Family aircraft', 'Rane Holdings posts consolidated profit of ₹48 cr. in Q3', 'India biggest GitHub centre after U.S., says Microsoft’s Nadella', 'TNCPL secures ₹23-crore worth orders', 'Action is against Paytm Bank, not app, clarifies RBI Dy. Governor ', 'RBI asks banks to extend KFS facility to retail, MSME borrowers', 'Show sensitivity to exporters in view of Red Sea crisis: Finmin to PSU banks', 'LIC net rises 49% in Q3 to ₹9444 cr., declares ₹4 interim dividend ', 'Apollo Hospitals Q3 consolidated net up 57% to ₹254 cr.', \"Parliament panel suggests govt to seek 3 years deferment on EU's carbon tax for MSMEs\", 'White paper on the economy | We rescued the economy from crisis, says government', 'Rupee settles on a flat note at 82.96 after RBI monetary policy decision', 'Stock markets tumble 1% after RBI monetary policy decision; bank stocks drag', 'RBI says no systemic worries, action on Paytm due to \"persisted non-compliance\"', 'CAD for 2023-24, 2024-25 to be eminently manageable: RBI Governor Shasikanta Das ', \"RBI pegs FY'25 GDP growth at 7% on improved consumption demand, private capex spends\", \"Markets climb in early trade ahead of RBI's interest rate decision\", 'SEBI proposes ways for deregistered offshore funds to dispose of securities', 'RBI’s MPC keeps repo rate unchanged at 6.5% to bring down inflation, support growth', 'Panchayats in India earn only one per cent of their revenue through taxes: Data', \"Argentina's President weighs next steps after economic reform bill setback\", 'UAE wealth fund said to plan $4-5 bn investments via India’s new finance hub', 'Uncertainty creeps back into Treasury market after Fed, blockbuster data', 'European Union wavers over funding UNRWA amid financial collapse fears', 'India-China bilateral trade hit a new record in 2023: Envoy', 'IRDAI moots changes to insurers rural, social sector, motor TP obligations  ', 'Realty firm Square Feet Group to invest ₹1,500 crore in 4 projects', 'Diversification of fuel-import sources keeping fuel prices affordable in India: Puri', \"India plans to protest EU's carbon tax at WTO meeting: sources\", 'With China’s help, Maldives plans to lower dependence on India in tourism, trade and healthcare: Data', 'Gold jumps ₹170; silver plunges ₹300', 'Govt. has set up a task force to resolve non-tariff barriers: Piyush Goyal', 'Microsoft’s sales pitch for Artificial Intelligence in India: move fast or be left behind', 'Torus Robotics secures USD 470,000 seed investment from T.N. Infrastructure Fund Management Corporation', 'Paytm shares climb for 2nd day; jump 10%', 'Markets climb for second day running on buying in State Bank of India, Reliance', 'Rupee rises 2 paise against US dollar in early trade', 'Paytm Founder Vijay Shekhar Sharma meets Finance Minister Nirmala Sitharaman', 'Drawing customers no mean task for consumer brand start-ups offering sustainable products', 'India to stay alert for ‘hot money’ after bond index inclusion: official', 'With solar industry in crisis, Europe in a bind over imports from China', \"UPI payments hit due to glitch in some banks' systems\", 'Nexus Select Trust achieves 8% YoY growth in tenant sales ', 'Arrest of Chanda Kochhar, Deepak Kochhar by CBI illegal: Bombay High Court', 'Thermax to acquire 51% stake in TSA Process Equipments', 'EID Parry India Q3 consolidated net halves to ₹217 cr.', 'Jindal group’s announcement of setting up unit in Tiruchi district seen as a game changer', 'India’s tax-to-GDP ratio to hit a record high of 11.7% of GDP in 2024-25: Revenue Secretary', 'Inflation within tolerance band; government taking steps to check price rise: Nirmala Sitharaman', 'Gold falls ₹150; silver tumbles ₹600', 'Rupee settles 2 paise lower at 83.05 against U.S. dollar', 'Sensex rebounds 454 points on buying in IT shares, foreign fund inflows', 'India to see investment of $67 billion in next five to six years in energy sector: PM Modi', 'HDFC Bank gets RBI nod to acquire up to 9.5% stake in ICICI Bank, 5 others', 'Home broadband growth sluggish, even as per-user consumption increases', 'Money laundering case | SC upholds HC’s order of quashing of ECIR against Suresh Venkatachari', 'Markets trade firm on buying in IT stocks', 'Rupee turns flat at 83.03 against U.S. dollar in early trade', 'China’s tumbling prices push some exporters to the brink', 'Indian village fair gives new lease of life to electronic scrap', '‘Rigid, statutory fiscal targets are getting discredited globally,’ says Finance Secretary', 'IRDAI moots consolidation, changes to norms relating to insurer registration, capital, shares ', 'Track, trace system roll out for drug formulation exports extended again', 'TVS Supply Chain turned ₹10 crore profit in Q3', 'CII unveils guidelines on appointment of independent directors', 'Bharti Airtel misses Q3 profit estimate as higher costs weigh', '‘States welcome private investors, but push back on PSU privatisation’', 'Cholamandalam Financial Holdings Q3 net rises 43% to ₹1,027 cr.', 'Ashok Leyland Q3 net profit rises 60% to ₹580 cr.', 'Anarock raises ₹200 crore from 360 One Asset Management', 'Aurobindo Pharma arm in U.S. to dispose business assets for $52 million ', 'LIC unveils unit linked policy Index Plus ', 'Sundaram Finance Q3 net rises 24% to ₹300 cr.', 'ED probing Paytm and bank unit over currency transactions: sources', 'Jammu and Kashmir Interim Budget | Sitharaman proposes ₹1.18 lakh crore for 2024-25', 'Govt has collected Rs 600 cr penalty for delay in PAN-Aadhaar linking; 11.48 cr PANs not linked yet', 'Rupee falls eight paise to settle at 83.06 against U.S. dollar', 'Stock markets settle lower on fag-end selling; Reliance, Airtel drag', 'Govt seeks Lok Sabha nod for net additional spending of ₹78,673 crore this fiscal', \"India's January services PMI hits 6-month high amid strongest upturn in new business since mid-2023\", 'IOC, BPCL, HPCL post ₹69,000 crore net profit in April-December, higher than pre-oil crisis annual earnings', 'States to play a critical role in next generation reforms: CEA Anantha Nageswaran', 'Thales Group to expand strategic collaborations, set up MRO for civil aviation in India', 'CBI charge sheets former Air India CMD, IBM & SAP in software purchase irregularities', \"Red Sea crisis | Costs up, but no adverse impact on India's trade so far, says official\", 'Paytm Payments Bank meltdown, its meaning | Explained', 'RBI restriction on Paytm: CAIT advises traders to switch from Paytm to other payment apps in light of RBI action', 'Pune, Chennai and Kolkata are on IKEA’s radar', \"Focus to be on concluding ongoing strategic sales in FY'25: DIPAM secretary\", 'Toyota to outshine rivals as more consumers opt for hybrids amid EV slowdown', 'Finnish phone maker says Nokia, HMD brands will co-exist', '‘Expect GST Appellate Tribunals by around July or August’', 'SBI Q3 net slips 35% on wages, pension', 'One Nation, One Election to improve govt efficiency, foster economic development: CII', 'To curb price rise, Centre tells traders, millers to declare rice stocks on government portal', 'Sundaram Home Finance Q3 net up 18% to ₹62 cr.', '‘Seek professional advice in retirement planning to avoid scam’', 'Vihang Group sells 200 flats worth ₹150 crore in over a week', \"India's lower fiscal deficit target a 'surprise' – ICRA's Nayar\", 'KYC issues, money laundering concerns said to have led to RBI order on Paytm’s bank', 'Jana Small Finance Bank IPO to open on Feb 7', 'NMDC logs best ever January iron ore sales  ', 'Capital Small Finance Bank fixes IPO price band at ₹445-468', 'Interim Budget 2024 | Thrust for PM Vishwakarma Scheme, cluster projects for MSMEs', 'IRDAI mandates AYUSH options in health covers from April 1 ', 'Tata Motors Q3 net profit surges over two-fold to ₹7,025 crore', 'India Cements incurs net loss of ₹17 cr. in Q3', \"Investors have no voting rights on CEO change: BYJU'S\", 'Markets rebound on firm global trends; Nifty hits lifetime peak', 'Rupee rises 7 paise to close at 82.91 against U.S. dollar', 'In videos | Highlights and key features of Interim Budget 2024', 'CBDT says 56 lakh updated ITRs filed; ₹4,600 crore taxes mopped up in two years', 'Paytm shares tank another 20%; hit fresh lower circuit limit', 'Rupee rises 16 paise to 82.82 against U.S. dollar', 'Nifty hits all-time high level; Sensex jumps over 1,400 points', 'Continued focus on infrastructure, inclusive development', 'Budget 2024 | Expenditure on welfare schemes cut or remain stagnant, say Left parties', 'Budget 2024 | The pace of fiscal consolidation took everyone by surprise', 'Budget 2024 | Expansion of capex outlay will boost infra sector', 'Budget 2024 | An action-oriented Budget, with the mantra of reforming, performing and transforming India', 'Byju’s U.S. unit files for bankruptcy in Delaware', 'Budget 2024: Prudent as expected with promise of bigger things', '2024 Interim Budget | After PM Modi’s call, Centre’s measure for social justice progress focuses on poor, women, youth, and farmers', 'Ignoring an agricultural sector in distress', 'Interim Budget 2024 — in campaign mode', 'A case of capex under the ‘macroscope’', 'Interim Union Budget 2024 | Taxes', 'Interim Union Budget 2024 | Infra outlays', 'Interim Union Budget 2024 | Economy', '2024 Interim Budget | Biased in favour of rich: Chidambaram', 'Puffed-up and poll-ready: Nirmala Sitharaman’s first Interim Budget', '2024 Interm Budget | Allocations for Social Justice and Tribal Affairs Ministries see a marginal increase', 'Budget 2024 | Three economic rail corridors on the anvil', 'Watch | Highlights of interim budget 2024', 'Interim Budget 2024 | ₹1 lakh crore fund to help India leapfrog in deep-tech', 'Experts back plan to add 2 crore homes under PMAY-Rural', '2024 Interim Budget | Allocation for Minority Ministry remains same', 'Interim Budget enthuses startups with extension of tax expiry exemption by a year', 'Government moots ₹1 lakh-crore corpus for research and development in interim Budget', 'Rise in allocation for school, higher education in interim Budget', 'Budget for Census slashed, population count may not take place in first quarter', 'Industry welcomes Centre’s plans to augment electric vehicle ecosystem', 'Budget 2024 | Government to withdraw certain long-pending, un-reconciled direct tax demands', '2024 Interim Budget | Government to consolidate the demand of three Services in defence allocation', '2024 Interim Budget | Fertilizer subsidy set to decline, food subsidy sees increase', 'Interim budget increases target for Lakhpati Didi scheme', '60% cut in allocation for regional air connectivity scheme in Interim Budget', 'Budget breakdown: Which sectors gained and lost in the Interim Budget | Data', 'Budget 2024 | Key stock indices end in red', 'Honourable mention for bioeconomy in Interim Budget, with trillion-dollar potential in mind', 'Budget 2024 | One crore households to get 300 units free electricity every month through rooftop solarisation', 'Interim budget 2024: textile industry expresses disappointment', 'Budget 2024: PM Poshan, Samagra Shiksha allocations much lower than pre-pandemic years | Data', '2024 Interim Budget | Marginal rise in allocations for farming, fisheries', 'Key takeaways from interim Budget 2024-25 in charts', 'Budget 2024: Spending on rural development increases marginally, but not all schemes benefit | Data', 'Budget for Census slashed, population count may not take place in first quarter', '2024 Interim Budget | Space gets nominal hike, likely boost for spaceflight start-ups', 'India negotiating bilateral investment treaties with different countries to promote foreign inflow: FM', 'Interim Budget 2024: Spending on IITs and IIMs declines as a share of total Budget | Data ', '2024 Interim Budget | India increasing allocation for Maldives, ₹400 crore revised to ₹770.9 crore', 'Budget 2024 | Road sector budget sees a nominal hike of 2.7%', 'FM Nirmala Sitharaman delivers her shortest Budget speech till date', 'Interim Budget 2024 | Govt to come out with White Paper on mismanagement of economy prior to 2014, says Sitharaman', 'Where does the money come from and where is it allocated?', 'Analysis | Nirmala Sitharaman’s interim Budget reveals BJP’s confidence in comeback', 'Budget 2024 | Branding and marketing of iconic tourist destinations to push tourism', 'Cabinet approves bilateral investment treaty with U.A.E.', 'Cabinet clears marketing margin for supply of domestic gas to urea plants', 'Government approves extension of subsidy scheme on sugar supplied to AAY families by 2 years till March 2026', '2024 Interim Budget | Net zero gain for job guarantee scheme', 'Kerala’s ruling front and Opposition slam Centre’s Interim Budget as political exercise in futility', '2024 Interim Budget | Inclusive, innovative, sign of continuity: PM Modi', 'Union Budget | Centre to expand electric vehicle ecosystem to support charging infra', 'Interim Budget 2024: Highlights', 'Interim Budget 2024 | Viability gap funding to be provided for 1 GW offshore wind energy: FM Sitharaman', 'A new scheme to develop deep tech for defence purposes: Finance Minister', 'Interim Budget 2024-2025 documents presented by FM Nirmala Sitharaman', 'All outstanding direct tax demands upto ₹25,000 for period up to FY2009-10 withdrawn; will benefit 1 crore taxpayers', 'Higher budgetary support for cotton procurement by the Cotton Corporation of India', 'Revised fiscal deficit for 2024-25 at 5.1% against 5.8% in FY24, says FM Nirmala Sitharaman', 'Interim Budget 2024 | ASHA, anganwadi workers and helpers gets health cover under the Ayushman Bharat Pradhan Mantri Jan Arogya Yojana ', 'No change to direct and indirect tax rates: Finance Minister in Budget Speech', 'Budget 2024 | New scheme for affordable middle class housing', '38 lakh farmers benefited from PM Kisan SAMPADA Yojana, says FM Sitharaman', 'Global affairs becoming more complex, challenging with wars: Finance Minister in Budget Speech', 'Three new economic corridors for railways, says Finance Minister in speech', 'Govt to launch new scheme to strengthen deep-tech for defence sector: FM', 'Union Budget | India close to achieving target of 3 crore houses under rural housing scheme, says Finance Minister', 'Union Budget | 300 units of free electricity per month for 1 crore houses under rooftop solar project, announces Finance Minister', 'Govt to focus on vaccination against cervical cancer, announces Finance Minister Nirmala Sitharaman', 'Govt to take up next-generation reforms to facilitate growth: Sitharaman', 'DBTs totalling Rs 34 lakh crore resulted in savings of Rs 2.7 lakh crore to govt: Finance Minister in Budget Speech', 'Union Budget | Proactive inflation management helps keep inflation within manageable level: Sitharaman', 'Working to make India a developed nation by 2047: Sitharaman', 'Union Budget | Indian economy witnessed profound positive transformation in last 10 years, says FM Nirmala Sitharaman', 'IndiGo asks flyers not to share PNR on social media after techie conned by cyber thugs', 'Markets turn highly volatile post Budget presentation', 'Interim Budget 2024 | Sensex gave positive returns to investors 4 times during last 5 Budget days', 'Energy traders, shippers grapple with Red Sea fallout as oil-freight costs swell', 'State-backed ‘national team’ of investors piles in to prop China stocks', 'Wipro said to be set to lay off several mid-level execs at Capco', 'Apeejay Surrendra Park Hotels fixes IPO price band at ₹147-155', 'boAt ties up with Shoobhi Foundation for CSR initiative', 'Maruti beats Q3 profit view on strong SUV sales', 'Coromandel’s board approves new chemical plants in Kakinada ', 'Rane Engine Valve turned a profit of ₹3.5 cr. in Q3', 'With one quarter to go, fiscal deficit at 55% of target', 'GST revenues rev up to second-highest ever in Jan.', 'Sun Pharma Q3 net profit rises 16.52% to ₹2,524 crore', 'Bank of Baroda Q3 PAT rises 19% to ₹4,579 crore', 'Indel Money unveils public issue of secured NCDs of ₹200 crore', 'CUMI Q3 consolidated net remains flat', 'Interim Budget: Kerala keeping its fingers crossed', 'Core sectors’ growth hit 14-month low in December', 'Rupee closes stronger, outperforms major Asian peers in January', 'How is the interim Budget different from Annual Budget? | Explained', 'Japan’s third largest financial services group establishes its global business centre in Chennai', 'Duty cut on mobile parts to positively impact end-pricing of smartphones', 'Union Budget 2024 live streaming: When and where to watch Finance Minister Nirmala Sitharaman’s Budget speech', 'Centre’s capex thrust will continue because the private investment remains weak: Former Niti Aayog VC Rajiv Kumar', 'Kore.ai secures $150 million investment from FTV Capital', \"India's gold demand to rise in 2024 despite subdued March quarter: WGC\", 'Aquaconnect raises ₹33 crore in pre-series B funding round led by S2G Ventures', 'Markets bounce back after weak beginning', 'President clears members’ names; 16th Finance Commission all set to kick off', 'Import duty slashed for mobile phone components to 10%', 'Rupee trades in narrow range against U.S. dollar', 'California and Big Oil are parting ways after their century-long affair', 'IMF says global ‘soft landing’ in sight, lifts 2024 growth outlook', 'CREDAI-MCHI Property Expo attracts 25,000 visitors, over 185 flats booked', 'Shanthi Gears Q3 standalone net remains flat at ₹17 cr.', 'Dr. Reddy’s Q3 net rises 11% to ₹1,380.9 crore ', 'Coromandel International Q3 net profit plunges to ₹228.11 crore', 'L&T Q3 PAT rises 15% to ₹2,947 crore', 'Rane Brake Lining Q3 standalone net rises 10% to ₹10 cr.', 'Wheels India Q3 net impacted by low demand and floods', 'Roca India to invest ₹400 cr. on capacity expansion in TN', 'Rupee rises 5 paise to 83.11 against U.S. dollar', 'Sensex falls over 1%; Reliance drags', 'Suspended MPs to return as last session of 17th Lok Sabha commences on January 31', 'Budget 2024: Indian Medical Association seeks investment in public sector hospitals', 'India on track to export record-low diesel to Europe in January as Red Sea risks drive up freight costs', 'Budget 2024 | Increase budget allocation on health to 2.5% of GDP: Association of Healthcare Providers', 'Red Sea worries cause spike in refined fuel prices, but the market will adjust', \"Toyota keeps crown as world's top-selling automaker in 2023\", 'Rupee trades in narrow range against U.S. dollar', 'Markets fall in early trade dragged by Bajaj Finance and Reliance', 'Boeing withdraws bid for safety exemption for Boeing 737 MAX 7', 'Sensex rebounds 1.8% as RIL surges almost 7%', 'Goa attempts wooing industries, aspires to be logistics hub', 'BPCL net rose 73% to ₹3,397 cr. in Q3 on market sales, refinery throughput', 'SSKL rolls out ERP system for efficient stock management', 'Gainwell Group plans to invest ₹1,000 crore in group entities', 'Finance Ministry says economy likely to grow closer to 7% in 2024-25', 'Domestic auto component aftermarket expected to touch $14 bn mark by 2028: study', 'Sensex, Nifty jump nearly 2% powered by rally in Reliance Industries, firm Asian markets', 'India to become third largest economy with GDP of $5 trillion in three years: Finance Ministry', \"France wants EU law changes 'this week' to quell farmers' protest\", 'SpiceJet gets over ₹900 cr funding; to focus on fleet upgradation, cost cutting measures', 'Ahead of Budget session, Government convenes all-party meeting on January 30', 'Markets open on strong note; Sensex jumps 503 points', '140 crore Indians are living in anyaay kaal created by BJP: Congress', 'Insurance firm can’t reject claim for reimbursement of medical cost on ground that claimant is diabetic, says consumer commission', 'Relief for rubber growers in Kerala as price incentive scheme is back on track', 'Govt. working on SEZ reforms: Commerce Secretary Barthwal', 'Eicher to roll out LNG variant of heavy duty trucks in a year', 'Companies across APAC ramping up investments in GenAI, says Infosys study', 'Companies across APAC ramping up investments in generative AI: Infosys study', 'HP to launch AI PCs in India by mid calendar 2024', 'Compass Group India targets growth rate of 45% in next three years', 'Yes Bank Q3 PAT grows over threefold on improved asset quality', 'RBI’s guidelines on State ‘guarantees’ on borrowings | Explained', 'LIC gets RBI nod to hold up to 9.99% stake in HDFC Bank', 'Laurus Labs, Slovenia’s Krka to set up pharma JV in Hyderabad', 'LIC gets RBI nod to hold up to 9.99% stake in HDFC Bank', 'SCCL needs to produce 2.27 lakh tonnes of coal daily to meet annual target, says CMD', 'Swiggy looks to cut 350-400 jobs', 'Airbus, Tata team up to set up India’s first private helicopter assembly line', 'SBI removes Religare Finvest’s fraud tag after HC order', 'ITC Infotech embarks on a global footprint expansion spree', 'Nirmala Sitharaman to become the second Finance Minister to present the Union Budget six times in a row', 'Rane (Madras) Mexico facility to make steering components', 'Bruised by stock market, Chinese investors rush into banned bitcoin', 'Zee needs strategy shift to survive after Sony merger plan crumbles', 'Loan guarantees given by governments on a rising trend in 12 States | Data', 'Ducab India signs bilateral pact with Emirates NBD India to avail financing support', 'Microsoft lays off 1,900 employees in its gaming division following Activision Blizzard buyout', 'Has the economy improved in the NDA’s second term? | The Hindu parley podcast', 'HDFC Bank sees period of consolidation as it absorbs mega merger: Sources', 'Zomato Payments gets RBI authorisation to operate as online payment aggregator', 'Essar Oil UK rebrands as EET Fuels', 'Vedanta Q3 PAT falls 18% to ₹2,013 crore', '‘Raise Budget outlays to support Indian exports’', 'Ola says India mobility business turned EBITDA positive in FY23', '‘Rice, marine exports bear brunt for now, but Red Sea woes for India Inc. may worsen’', 'Indian Bank eyes 10-12% credit growth in FY24', 'Chola Investment Q3 net up 28% to ₹876 cr.', 'TVS Holdings consolidated Q3 net up 84% to ₹532 cr.', 'Govt ready to discuss all issues as per rules: Union minister Meghwal ahead of Parliament session', 'Rupee settles 1 paisa higher at 83.11 against U.S. dollar', 'Sensex declines 359 points on selling in IT shares, foreign fund outflows', 'Azim Premji gifts 1 crore equity shares of Wipro worth over ₹480 crore to his sons', 'Markets declines 227 points in early trade dragged by IT stocks, foreign fund outflows', 'China’s attempts to lift confidence in economy fall flat', '‘India to become main driver of incremental oil use by 2030’', 'Bengaluru to function as hub of Thomas Cook’s charter operations for south India', 'Laurus Labs Q3 net slumps', 'Citroen rolls out E-C3 Shine all electric car for ₹13.20 lakh', 'Enterprise Saas firm AiDash raises $50 million in Series C round', 'BLS E-Services sets IPO price band at ₹129-135', 'Cashless facility for policyholders at all hospitals: General Insurance Council ', 'Tata Steel returns to profit, reports Q3 PAT at ₹522 crore', 'Eicher plans to roll out LNG variant of heavy duty trucks in a year', 'Indian Oil Q3 net surges 18-fold to ₹8,063 crore, revenue dips  ', 'TechM reports 61% decline in Q3 net profit', 'Canara Bank Q3 net profit rises 27%', 'Zee asks Sony to immediately withdraw termination of merger, moves NCLT to press demand', 'NMDC raises iron ore prices again, a tonne to cost ₹400 more', 'Flash Jan. PMI signals rebound in economic momentum', 'IOB Q3 standalone net rises 30% on interest income', 'Ahead of Budget, rubber growers up the ante', 'Cabinet approves ₹8,500 crore incentive scheme for coal gasification projects', 'Watch | Explained: India’s new Telecommunications Bill, 2023', 'Cabinet approves ₹8,500 crore incentive scheme for coal gasification projects', 'Sensex surges 690 points to reclaim 71k level', 'Government aiming to increase scrap share in steel making to 50% by 2047 to aid green steel initiative: Scindia', \"Japan's exports surge 10% in December on strong demand for autos, revived trade with China\", 'India business growth at four-month high in January: PMI', 'EU draws up economic security plans, with mind on China', 'Asian stocks gain as potential China rescue package lifts mood', '‘Outrageous’ CEO pay targeted in new bill from Sanders, Democrats', 'Riyadh’s multi-billion Electric-Vehicle dream risks crashing into reality', 'Analysing the rising gap in incomes', 'CREDAI-MCHI to hold Property Expo between 26-28 January in Mumbai', '‘Pandemic lent boost to life insurance’', 'Sensex slides on bank stocks, Zee tumbles', 'ZEEL stock falls 33%', 'LinkedIn: 9/10 from Chennai professionals ready to make bold career move in 2024', 'Sugar production remains less than last year', 'Serum Institute of India joins global network to boost production of affordable outbreak vaccines', 'Transportation, healthcare drove growth in Q3: Tata Elxsi', 'Airtel prepays ₹8,325 cr. to clear high cost deferred liabilities for spectrum acquired in 2015', 'Granules Q3 net rises 1% to ₹126 cr. ', 'Hero MotorCorp says EVs, global expansion is the future', 'Public capex push may slacken in 2024-25', 'Rupee falls 9 paise to close at 83.16 against U.S. dollar', \"Byju's to slash valuation by 90% to raise funds: Report\", 'MRPL posts ₹387 crore net profit in Q3 of 2023-24 against ₹188 crore net loss in 2022-23', 'India overtakes Hong Kong to become fourth-largest stock market', 'Equity benchmark indices rise in early trade', 'Alstom emerges lowest bidder for installing platform screen doors in Namma Metro stations in Bengaluru', 'Tech enterprises scouting for global talent to expand footprint: Nasscom', 'Renault expects a 20% additional growth in sales in CY24', 'Beijing sets higher 2024 growth target despite slowing economy', 'Govt expands scope of financial services on offer at IFSC', 'Sony calls off merger with Zee, demands $90 million compensation', 'Karur Vysya Bank Q3 net up 43% on all-round growth', 'Zee Entertainment to take legal action against Sony; denies all allegations', 'Sony calls off merger with Zee, sends termination letter', 'What is the disagreement between Hindustan Unilever and its distributors over margins?', 'Banking on a branch visit on Jan. 22? private, PSU banks have different plans', \"India's power consumption grows nearly 8% in April-December period\", 'FPIs turn cautious, pull out ₹13,000 crore from Indian stocks in January', 'Mcap of five of top-10 most valued firms erode by ₹1.67 lakh crore', 'Textile sector seeks changes in customs duty on fabrics', 'GJEPC asks govt. to cut import duty on gold, silver, platinum bars to 4%', 'Kotak Mahindra Bank Q3 PAT up 8% to ₹3,005 crore', 'IDFC First Bank Q3 PAT rises 18% to ₹716 crore', 'ICICI Bank Q3 net grows 23.6% to ₹10,272 crore on better asset quality', 'Interim Budget | Healthcare industry expectations include incentives to promote private investment, R&D, et al', 'Yet to finalise mechanism for regulating cryptocurrencies: Centre to SC', 'Sensex, Nifty end lower; FMCG, IT stocks top drags', 'Raid exposes decade-long fake Mysore sandal soap operation in Telangana', \"PM Modi says won't be long before Boeing makes aircraft in India\", 'Health experts’ suggestions: Strengthen ICUs, mother and child care, and provide additional budgetary grants for general hospitals in Karnataka', 'Red Sea attacks plunge Tiruppur Garment exporters into crisis ', 'Money markets to remain closed on Monday', 'LIC introduces Jeevan Dhara II deferred annuity plan ', 'UltraTech Cement Q3 PAT rises 68% to ₹1,777 crore', 'Airbus, CSIR-IIP to collaborate on sustainable aviation fuel ', 'HUL Q3 PAT rises 1% to ₹2,519 crore', '‘Air travel recovery in India fastest post COVID’', 'RIL Q3 net grows 10.9% to ₹19,641 cr. on retail unit', 'Modi govt.’s attempt to cut revenue share of States shocking, says Balagopal', 'More than 2,800 jobs to be axed as Tata Steel plans to close Port Talbot furnaces', 'Ayodhya Ram Mandir Pran Pratishtha: Stock markets to remain shut on January 22, to have normal trading session on January 20', 'MSME expects special package from Finance Minister Sitharaman on Feb 1', 'India needs over 2,500 new aircraft by 2042, says Boeing Vice President', 'Stock markets recover after 3 days of loss; ICICI, Airtel major movers', 'Stock markets recover after 3 days of loss; ICICI, Airtel major movers', 'Rupee rises 7 paise to settle at 83.06 against U.S. dollar', 'PM Narendra Modi inaugurates in Bengaluru largest aerospace engineering facility of Boeing outside the United States']\n",
            "\n",
            "Cluster  2\n",
            "['Why the multiverse is possible according to physics, but not definitely', \"Webb telescope captures 'stunning' images of 19 spiral galaxies\", 'NASA’s historic Mars helicopter Ingenuity grounded for good after 72 flights', 'How many trees do we have?', 'India-made typhoid vaccine efficacy lasts for four years: study', 'Science and research should move out of elite institutions: URSC Director', 'India’s next moon mission will be precursor to the country’s ambitious lunar sample return mission: PRL Director ', 'Elon Musk says first human has received Neuralink implant, but other details scant', 'In zodiacal dust mystery, PRL Ahmedabad study points to a familiar source', 'Why does rain fall in drops and sheets?', 'Astronomers spot unusual object falling in the black hole ‘mass gap’', 'NASA’s historic Mars helicopter Ingenuity grounded for good after 72 flights', \"Webb telescope captures 'stunning' images of 19 spiral galaxies\", 'Why the multiverse is possible according to physics, but not definitely', 'Japanese moon probe back to work after sun reaches its solar panels', 'Science sleuths are using technology to find fakery and plagiarism in published research', 'Bengaluru to host largest annual gathering of astronomers from India', 'In breakthrough, neural network ‘explains’ how it found a new antibiotic', 'INSAT-3DS satellite sent to launch port in Sriharikota', 'COVID and beyond: labs unite to boost genomic surveillance globally', 'From genomic medicine, a revolution rolls towards cancer care', 'What enables owls to fly silently? ', 'Chromosome-level assembly reveal low genetic diversity of Arabica coffee', 'Outbreak of Western Equine Encephalitis Virus in Argentina', \"ISRO's unique and inexpensive space platform POEM-3 achieves all payload objectives\", 'How climate change affected the shape of elephant teeth', 'Mars rover data confirms ancient lake sediments on red planet', 'Japan confirms moon-lander made ‘pinpoint’ landing, with Chandrayaan help', \"NASA's little helicopter on Mars has logged its last flight\", 'ISRO successfully deploys magnetometer boom on Aditya-L1 in Halo orbit', 'The palm tree that lives beneath the rainforest floor', \"Atomic scientists keep 'Doomsday Clock' as close to midnight as ever\", 'World’s first white rhinoceros IVF pregnancy may offer way to save subspecies', 'The urgent need for data to make personalised medicine equitable', 'As our universe grows old, how will it change? | Explained', 'Relentless efforts to promote research that resulted in the founding of IMSc', 'Alcohol, drug addiction rewires the brain by changing how genes work', 'Japan, 5th country to moon-land, used tech that will support future missions', 'Does the Solar system have a ninth planet after all?', 'What is end-to-end encryption? How does it secure information? | Explained', 'NISAR Mission on track for early 2024 launch, says JPL official', 'What did people on the west coast of Scandinavia eat 10,000 years ago?', 'How to deal with memory loss', 'Therapeutic antibody may enhance snake venom toxicity', 'We have underestimated amount of tiny plastic particles in bottled water, study says', 'Status of Japan moon-lander SLIM unclear with solar panel glitch', 'Understanding body’s perception of pain key to evolving new drugs: David Julius', \"Japan's SLIM spacecraft lands on moon, a first for the country\", 'NASA spacecraft pings India’s Chandrayaan-3 lander on the moon', 'Scientists training AI to analyse chicken communications', \"Why is Japan's 'moon sniper' landing mission important?\", 'The fungi that can freeze water better than bacteria | Explained', 'Parts of primate DNA unchanged for 65 million years, study finds', 'Crew with first astronaut from Turkey launched on flight to space station', 'How the weather department uses satellites to track North India’s fog | Explained', 'What it will take to make sure science communication works for India | Explained', 'Giant ‘kings of apes’ once roamed southern China', 'Plant roots mysteriously pulsate, and scientists don’t know why', 'North Korea is testing hypersonic missiles. How do they work?', 'What are light-emitting diodes and why are they prized as light sources? | Explained', 'Listen to your gut – it may be telling you something about your heart | Explained', 'Muscle energy depletion linked to Long COVID: study', \"China media warns against taking China's Indian Ocean research as threats\", 'DNA from ancient Europeans reveals surprising multiple sclerosis origins', 'Scientists conclude New Mexico fossil is new Tyrannosaurus species', 'I-STEM to launch Samavesha project on January 16 at IISc Bengaluru to connect researchers with labs and equipment', 'AI, satellite pics reveal ocean activities happening out of sight', 'Jammu CSIR lab finds cannabis plant compound has antibiotic effects | Explained', '19-million-year-old fossil jaw bone hints the biggest whales first evolved somewhere unexpected', 'AI could improve your life by removing bottlenecks between what you want and what you get', 'Alpha, beta, theta: what are brain states and brain waves? And can we control them?', 'The strange story of the grave of Copernicus', 'How we discovered that Uranus and Neptune are actually nearly identical in colour', 'Panspermia: Life from one world to the next', 'China says it will launch its next lunar explorer in the first half of this year', 'With Aditya-L1 spacecraft placed in halo orbit, focus is on data collection on sun  ', 'U.S. moon landing attempt seems doomed after fuel leak ', 'U.S.’s first moon landing attempt in 50 years in jeopardy after ‘critical’ fuel leak', 'First U.S. lunar lander in more than 50 years rockets toward moon with commercial deliveries', 'Claudine Gay | Forced exit', 'Study reveals the oldest evidence of photosynthesis', 'ISRO’s Aditya-L1 successfully placed in a halo orbit around L1 point  ', 'ISRO successfully tests Polymer Electrolyte Membrane Fuel Cell on PSLV-C58’s orbital platform POEM3', 'The physics that lets you forget your glasses are on your face | Explained', 'Study revives South Korea superconductivity claim with new data | Explained', 'ISRO to perform crucial manoeuvre on January 6 to bind Aditya-L1 into L1 orbit', 'Dhruva Space’s tech demonstration payload functioning well', 'From the moon to Europa, six space missions to be excited for in 2024', 'CO2 levels in planet atmosphere could be a sign of its habitability: study', 'Scientists fuse brain-like tissue with electronics to make computer | Explained', 'ISRO’s commercial arm to launch GSAT-20 satellite on SpaceX’s Falcon-9 in 2024', 'Russia extends cross-flight programme with NASA until 2025 - Roscosmos', 'The ‘volcano tourists’ that vied to catch Iceland eruptions ', 'Why are some black holes bigger than others?', 'What Is It: XPoSat: ISRO’s X-ray eye in the sky', 'How a super-energetic particle from outer space could help physics | Explained', 'Could dinosaurs be the reason humans can’t live for 200 years?', 'What is radiocarbon dating? | Explained', 'Genetic ancestries of South-west coast warrior class traced', 'Parliament breach accused underwent psychoanalysis – what is it? | Explained', 'ISRO successfully launches PSLV-C58 XPoSat mission ', 'You had your genome sequenced and found something – now what? | Explained', 'ISRO to launch XPoSat and 10 other payloads on January 1', 'How a Victorian trip to Palestine spurred modern ornithology – and left it with imperial baggage', 'How do we measure distances across the universe? | Explained', 'India planning to launch 50 satellites for intelligence gathering in five years: ISRO chief', 'Human intelligence: how cognitive circuitry, rather than brain size, drove its evolution', 'Humanoid robots in space: the next frontier', 'For Huntington’s disease clues, scientists are looking in fruit flies | Explained', 'The Hindu’s most read science articles of 2023', 'How Japan’s moon-landing attempt in January will affect Chandrayaan 4 | Explained', 'NASA’s Deep Space Network turns 60', 'What incentives do scientists have to study rare diseases? | Explained', 'Pantoea Tagorei | Visva-Bharati discovers new bacteria, names it after Rabindranath Tagore', 'Like sheep and goats, reindeer too sleep while chewing their cud', 'T.N. rains | Predicting extreme rainfall events using probabilistic forecasts', 'ISRO’s Aditya L1 mission will reach destination on Jan 6: Somanath', 'Sleep disruptions, mild ones too, negatively affect our everyday moods, 50 years of research shows', 'When science meets art: recycled metal and lab-grown gems', 'Why scientists should be humble', 'Madagascar cave art hints at ancient connections between Africa and Asia', 'Does free will exist? A Stanford professor says science shows free will doesn’t exist. Here’s why he’s mistaken', 'The longstanding mystery of Mars’ moons – and the mission that could solve it', 'How do touchscreens work? | Explained', 'IIA scientists trace the source of solar burst which occurred in 2013', 'RRI Bengaluru to participate in first winter Indian expedition to Arctic region', 'mRNA, easy to customise, is the next frontier for personalised medicine', 'Kakrapar-4 nuclear reactor attains criticality', 'The era of CRISPR therapeutics is here – what can we expect? | Explained', 'Significance of an influenza A (H1N2)v case in the U.K.', 'CT scans associated with increased risk of blood cancers', 'Rocket Lab successfully launches first Electron rocket since September failure', 'U.S. President Joe Biden hosts four NASA astronauts, first crew aiming to fly around the moon in 50 years', 'Counting scientists’ productivity with numbers undermines science | Explained', 'China’s space programme: Five things to know', 'Scientists see risk of lost opportunity for long COVID research in China', 'Mumbai professor bags Royal Society of Chemistry’s Nyholm prize', 'Next time you have kulhad chai, don’t miss the bubbly physics', 'In the chaos of turbulence, scientists chase glimpses of hidden order', 'Fungi and flatworms: Scientists want more diverse nature emojis', 'Endangered species list grows by 2,000. Climate change is part of the problem', \"What are Europe's landmark AI regulations?\", 'Fossils show dismembered young dinosaurs in belly of T. rex cousin', 'Looking for intelligent alien life is hard not just for space’s size | Explained', 'IIT Madras, Columbia and Colorado varsity scientists develop sustainable plastic recycling technique', 'Protein from Budgett’s frog can block enzymes of disease-causing pathogens: Study ', 'What stones inside fish ears are telling us about climate change', 'Green turtles nesting range expands under warming climate', 'Can electricity from electric eels transfer genetic material to nearby animals?', 'Any activity is better for your heart than sitting', 'Compensation to participants in human challenge studies should not incentivise risk-taking', 'Do we live in a giant void? It could solve the puzzle of the universe’s expansion', 'Controversial claims about extinct humans are stirring up evolution research', 'Payload onboard Aditya-L1 captures full-disk images of the Sun', 'Massive planet too big for its own sun pushes astronomers to rethink exoplanet formation', 'The unusual cabbage mutation that could boost crop yield | Explained', \"China starts up world's first fourth-generation nuclear reactor\", 'Iran sends up rocket with test living capsule', 'Oldest mosquito fossil comes with a bloodsucking surprise', 'Sci-Five | The Hindu Science Quiz: On Marsupials', 'Science for All | What is Diel Vertical Migration and its role in carbon sequestration?', 'Gender gaps and gajras in women’s world of science', 'Giant rabies study with 50,000 dogs says only vaccines can stop disease', 'How does GPS work? | Explained', 'Chandrayaan-3 propulsion module moves from lunar orbit to earth orbit', 'South Korea tests solid-fuel rocket amid space race with North Korea', 'Mystery origin of Egypt’s mummified baboons finally cracked | Explained', 'The transformative benefits of population-level genome sequencing | Explained', 'Watch | Did you know India’s space programme has turned 60?', 'Solar wind particle experiment payload onboard Aditya-L1 starts operations: ISRO', '‘Man the hunter’? Evidence questions gendered labour divide in prehistory', 'AIDS can be stopped with science-backed tools', 'Piezoelectricity: Why quartz ticks', 'NASA to train Indian astronaut for ISS voyage in deepening space ties ', \"In a first, a newborn star's spinning disk is seen in another galaxy\", 'Six planets found in synchronized orbit may help solve cosmic puzzle', 'India set to launch its first X-Ray Polarimeter Satellite: ISRO', 'What are fibre optic cables and how do they work? | Explained', 'ISRO chose to land Chandrayaan in moon’s south pole region for water molecules: Veeramuthuvel', 'How does our brain learn to read?', 'IISc’s Foundation for Science Innovation and Development launches Centre of Data for Public Good', 'ISRO to conduct trusted workhorse PSLV’s 60th flight by end of December', \"Europe's new Ariane 6 rocket passes launch rehearsal: ESA\", 'Scientists identify new dinosaur species from footprints in Brazil', \"Planting 'koala corridors' to save Australia's endangered marsupial\", 'Why carbon capture is no easy solution to climate change', \"Webb space telescope spies precocious 'teenage' galaxies\", 'Plants warn each other of danger, and now we can watch them | Explained', 'The search for the dawn of life', 'COVID-19 vaccine not contributing to sudden deaths, says ICMR study', 'How do animals get their skin patterns? An answer comes from physics', 'URSC and IITG scientists make first detection of radiation from extra-galactic black hole source', 'Using mosquitofish to fight mosquitoes throws India a tougher puzzle | Explained', 'Meet the Langlands Program, the world’s biggest maths project | Explained', '‘Strong evidence’ unusual nitrogen-9 nucleus exists, scientists say', 'Freemartins: black sheep among the cattle', 'Remembering Frank Borman, a vanguard astronaut of the Space Age', 'The chimaeras of nature and their promise to grow human organs | Explained', 'SpaceX launches giant new rocket but a pair of explosions ends the second test flight', \"ISRO's Dr. Mathavaraj selected for Goa Govt.'s first 'Manohar Parrikar Yuva Scientist Award'\", 'The unusual ‘mutations’ that protect humans from viruses | Explained', 'Russia says it plans to send cosmonauts to the Moon next decade', \"Gamma-ray burst in faraway galaxy disturbed Earth's upper atmosphere\", 'Scientists discern internal structure of mysterious dwarf planet Eris', 'Bone bite marks reveal dinosaur predator-prey dynamics', 'How fractals offer a new way to see the quantum realm', 'Pulsar glitch: How physicists are making sense of a cosmic mystery | Explained', 'Cryogenic upper stage of Chandrayaan-3’s launch vehicle makes uncontrolled re-entry into the Earth’s atmosphere ', 'Infosys Science Foundation announces 6 prize winners for 2023, including two from Bengaluru', 'NASA, ISRO complete key tests ahead of NISAR’s launch early next year', 'How many forces are there in nature, really? | Explained', 'How climate change is altering animal brains and behaviour', 'Will Saturn’s rings really ‘disappear’ by 2025? An astronomer explains', \"At SpaceX, worker injuries soar in Elon Musk's rush to Mars\", 'How does an electric battery work and what are the different types? | Explained', 'Health benefits of functional foods', 'Scientists pull paper from journal over Arunachal mention', 'Elusive Attenborough echidna rediscovered in Indonesia', 'Scientists show how to turn lunar soil fertile for agriculture', 'New crustacean parasites found off India', 'Researchers warn we could run out of data to train AI by 2026. What then?', \"Star-filled Euclid images spur mission to probe 'dark universe'\", 'Scientists detect oxygen in noxious atmosphere of Venus', 'Aditya-L1 captures first glimpse of solar flares', 'NASA spacecraft discovers tiny moon around asteroid during close flyby', 'Italy, France and Germany agree on launches of Ariane 6 and Vega-C', 'Europe targets competitive shake-up in space launch deal', 'Oldest black hole discovered dating back to 470 million years after the Big Bang', \"Astronomers find seven planets being 'fried' by their star\", 'How is electricity transmitted? | Explained', '‘3,000-year-old Iron Age’ geoglyph circle discovered in Telangana', 'The Zika genome and insights in the era of emerging outbreaks', 'Always modified my Twitter use in accordance with eLife board’s feedback, says sacked editor Michael Eisen', 'Friendship research – key to deal with loneliness epidemic – is getting an upgrade', 'Gene-edited chickens could stop bird flu', \"Relics of huge primordial collision reside in Earth's deep interior\", 'Biggest Chinese Antarctic fleet sets off to build research station', 'Scientists observe chimpanzees using human-like warfare tactic', 'Realisation about fragility of earth common among astronauts upon return: Rakesh Sharma', 'Inside India’s ‘Deep Ocean Mission’, a challenge harder than going to space', 'Putin aims to have Russian space station by 2027', \"Dinosaur-killing asteroid impact fouled Earth's atmosphere with dust\", 'What does World Thrift Day have to do with physics?', 'The gravitational constant', 'Mouse embryos grown in space for first time: Japan researchers', 'Tiny carbon ‘flowers’ turn light to heat at unrivalled efficiency, IIT team finds', 'What is photocopying and how does it work? | Explained', 'How much salt should you take every day?', 'Where do the wild colours of domesticated silkworm cocoons come from?', 'Partial lunar eclipse to take place on October 28 night', 'Iceland hit by ‘seismic swarm‘ of small earthquakes in volcano warning', 'Chandrayaan-3 | Vikram lander kicked up over 2 tonnes of lunar dust, say scientists', 'Haemoglobin isn’t used only in blood, scientists find in major discovery', \"Rock collected by Apollo 17 astronaut in 1972 reveals moon's age\", 'Scientists identify molten layer deep within interior of Mars', 'Reproduce or it didn’t happen: why replicable science is better science', 'IIT Mandi, DBT-inStem Bengaluru scientists find how dengue mosquito eggs are so hardy', 'ISRO to hold more tests for Gaganyaan in coming months', 'IISc research uncovers link between cell biomechanics and wound healing', 'A star party in the mountains', 'China announces plan for a new space telescope as it readies to launch its next space station crew', 'Ancient landscape cut by rivers found deep under Antarctic ice', 'Bengaluru firm that developed crew module for Gaganyaan maiden test flight ready to supply more critical technologies ', 'Scientists trace powerful radio signal to most distant galaxy yet', 'How do SIM cards work? | Explained', 'Could gut fungi be linked to severe COVID? What to make of new research findings', 'The Gino data scandal in behavioural science and research misconduct', 'Two forerunners that set the stage for ISRO’s Gaganyaan test', 'ISRO chief Somnath says space agency prefers woman fighter test pilots for its crewed mission, possible in future', 'How bat genomes provide insights into immunity and cancer', 'Afghanistan: ‘all four quakes were in the same fault system’', 'Gaganyaan test flight mission successful, crew escape module splashes down', 'Gaganyaan Mission | ISRO is set for first test flight', 'Scientists surprised by source of largest quake detected on Mars', 'This particle’s wobble could help spot cracks in the laws of physics', 'What separates classical and quantum chaos?', 'Seeing the magic of artificial intelligence applications in ophthalmology', 'PM Modi “directs” ISRO to land man on moon by 2040', 'Has AI passed the Turing test yet? | Explained', 'Undervaluing faculty fellowships is bad for scientists, and science', 'PM reviews readiness of Gaganyaan ahead of flight test vehicle abort mission-1 on October 21', \"How a Bronze Age rock became a 'treasure map' for researchers\", \"Math disabilities hold many students back. Schools often don't screen for them\", 'Why are earthquakes frequent in Afghanistan? | Explained', 'Scientists propose sweeping new law of nature, expanding on evolution', 'Estivation: The summer’s urge to nap', 'Hundreds of tests planned, working to get crew module from outside India: ISRO’s Somanath on Gaganyaan', 'Gaganyaan’s maiden test flight to commence at 7 am on October 21  ', 'Centre may raise retirement age of scientists from 60 to 65', 'Bumrah’s ball to Rizwan shows energy conservation law in action', 'How quantum algorithms solve problems that classical computers can’t', 'Skygazers watch ‘Ring of Fire’ eclipse over Western Hemisphere', 'ISRO to hold more test Gaganyaan vehicle missions after maiden test flight on October 21: Somanath', 'Deep-learning helps classification of tumours during surgery', 'How a 6.3 magnitude quake caused another of same intensity', 'The afterglow of an explosive collision between giant planets may have been detected in a far-off star system', 'Gene editing offers chickens some protection against bird flu', 'Neural circuitry of mouse mothers to pups’ calls deciphered', 'Is it possible in mice to restore walking after paralysis from spinal cord injury?', 'Richness of human milk ', 'Draft patent amendment rules undermine pre-grant opposition', 'Most pink diamonds were birthed by a disintegrating supercontinent. Where can we find more?', \"Biologists in slow and steady race to help North America's largest and rarest tortoise species\", 'No brain, no problem: Tiny jellyfish can learn from experience', 'Pragyan rover finds an unexpected surprise on the moon: sulphur | Explained', 'What will ‘cosmic detective’ OSIRIS-REx bring back on September 24? | Explained', 'ISRO says no signals from Chandrayaan-3’s Vikram lander, Pragyan rover', 'Signs of life? Why astronomers are excited about carbon dioxide and methane in the atmosphere of an alien world', 'In a first, RNA is recovered from extinct Tasmanian tiger', 'ISRO hoping to wake up Chandrayaan-3’s Vikram and Pragyan on September 22', 'Science and tech awards to get Padma-style makeover into Rashtriya Vigyan Puraskar', 'Pollen in pee: fossilised urine from a small African mammal helps us understand past environments', 'Breakthrough Prizes 2024 winners include innovative cancer treatment', 'Aditya-L1 embarks on 110-day journey to L1 point', \"India's Aditya-L1 solar mission spacecraft commences collecting scientific data\", 'Science This Week | CSIR announces Bhatnagar prize winners, NASA names chief of UFO research and more', 'NASA names chief of UFO research; panel sees no alien evidence', 'Germany signs U.S.-led space norms pact Artemis Accords', 'Is it possible to reduce the risk of depression?', 'Over 75% of European bumblebee species threatened in the next 40-60 years', 'The cosmological constant problem is one of the biggest crises in physics', 'Study traces Turkey quake to interrupted ‘chat’ between fault lines', 'China’s Chang’e moon missions | Explained', 'What is the legal framework for space missions like the Chandrayaan 3 and Aditya L-1? | Explained', 'Ian Wilmut, a British scientist who led the team that cloned Dolly the Sheep, dies at age 79', 'How microbiomes and the smells they produce help shape behaviour in bugs, birds, beasts and humans', 'Crown shyness: let our realms stay apart', 'Aditya-L1 mission pursues the enigma of space weather', 'Science This Week | Scientists discover ‘bubble of galaxies’, bird-like dinosaur found in China and more', 'Buzzing breakthrough: genetic engineering gives mosquito control an upgrade', 'What are the predicted effects of rising sea level on coastal habitats?', 'Scientists grow a model of human embryo in the lab', 'What helped Vikram lander to soft-land on the moon', 'Watch | Indians are buying land on the moon… but can one ‘own’ lunar land?', 'Science Quiz | The obscure mathematics of string theory', 'The physics of friction, the ‘necessary evil’ that bedevils daily life', 'Black hole is observed snacking on sun-like star, bite by bite', \"Billion-light-year-wide 'bubble of galaxies' discovered\", 'After Chandrayaan success, Midhani is ready for ISRO’s Gaganyaan', 'Horizon project: Which EU science schemes has Britain joined?', 'Lab-grown human ‘embryo’ created without eggs or sperm', 'Racing for Moon real estate | Chandrayaan-3’s landing is motivating Indians to buy land on the Moon', \"U.K. rejoining Europe's Horizon science programme\", 'Bizarre’ bird-like dinosaur has scientists enthralled ', 'Watch | Chandrayaan-3’s journey from the orbit to Moon’s surface', 'NASA’s LRO captures Chandrayaan-3 landing site on the Moon', 'Science Quiz | What computers need to compute: Logic gates', 'Cartesian coordinates: a way to find your way', 'Sahara space rock 4.5 billion years old upends assumptions about the early Solar System', 'Scientists find elusive Pines’s demon particle after 67 years', 'Finally, physicists have a way to ‘see’ inside short-lived nuclei', 'Aditya-L1: its functioning and purpose', 'Bottleneck in human evolution explained using a novel genomic analysis technique', 'After Pragyan, lander Vikram also put in sleep mode ', 'Indonesia’s low-cost watch on antimicrobial resistance', 'Crocodiles yield to flower power, study finds ', 'Scientists test menstrual products with blood for the first time, and find surprises', 'Science This Week | India launches Aditya-L1 to study the sun, Pragyan rover safely parked and more', 'Aditya-L1 ‘healthy’ in new orbit: ISRO', 'Oldest yet fossils of a plant-eating dinosaur found in Rajasthan', 'Chest X-ray interpretation using AI can detect more TB cases', 'Is the bat’s brain wired for collective behaviour?', 'Why does our hair grow and become grey? ', 'Early prediction of preeclampsia using a blood-derived biomarker', 'Curcumin has no anti-inflammatory effect in rheumatoid arthritis, a trial shows', 'Space junk in Earth orbit and on the Moon will increase with future missions − but nobody’s in charge of cleaning it up', 'Chandrayaan-3 | Pragyan completed its tasks; rover safely parked and set into sleep mode, says ISRO', 'Aditya-L1 lifts off to study the sun', 'PM Narendra Modi congratulates ISRO on successful launch of solar mission Aditya-L1', 'European Space Agency to provide support to Aditya-L1 mission', 'Aditya-L1 mission to mark 25th flight of PSLV-XL variant', 'Crashed Russian mission left a crater on the moon, NASA images show', 'Indian-American scientist hopes to be first woman to make stratospheric jump in 2025', 'India’s first solar observatory mission Aditya-L1 to be launched at 11.50 a.m. on September 2', 'Aditya-L1 to shed more light on present, future of Sun: ARIES director', \"In Japan, a third of today's 18-year-old women may not have children: Study\", 'Chandrayaan-3 | RAMBHA aboard Vikram completes first in-situ measurements of lunar plasma over the moon', 'Coronagraph of Aditya-L1 will send 1,440 images of sun a day', 'Echolocation: What goes around comes around', 'Chandrayaan-3 | ‘Smile, please!’ Pragyan’s cameras capture Vikram', 'The scientists in Japan who scared flies to understand fear', 'Rare blue supermoon brightens the night sky this week in the closest full moon of the year', 'Pragyan rover confirms sulphur at moon’s south pole, searching for hydrogen', 'What scientists find when they find nothing', 'Race for Sun heats up: These are the various solar missions', \"Skyroot expects to double rocket launches amid Chandrayaan-3's success\", 'Pragyan encounters crater during moon walk, captures images ', 'The animal that senses electric fields, tolerates snow, and has ‘mating trains’', 'Aditya-L1, first space-based Indian observatory to study the Sun, to be launched on September 2', 'Chandrayaan-3 probe shows 50°C difference between moon’s surface and 10 cm below', 'Archaeologists unearth 3,000-year-old priestly tomb in northern Peru', 'Are you sure you contain 10x as many microbes as human cells?', 'As Pragyan digs deep into moon, scientists at Vikram Sarabhai Space Centre lab turn their gaze to solar wind', ' Science This Week | India becomes the first country to land on Moon in the south polar region and more', 'Scientists leave X as platform changes character', 'Somatic genetic variants: A genomic revolution hiding inside our cells', 'ISRO | Mission possible', 'Has any particular gene responsible for longer lifespan been identified?', 'Tropical forests may be getting too hot for photosynthesis', 'Long-term health issues following COVID-19', 'Missed childhood TB cases impede achieving 2025 goal', 'ISRO shares video showing Pragyan rover roaming around Shiv Shakti point', 'New crew for the space station launches with 4 astronauts from 4 countries', 'Explained | After Chandrayaan-3, what has ISRO planned?', 'Explained | Why did Chandrayaan-3 land on the near side of the moon?', 'Chandrayaan-3 | Pragyan rover rolled out, traverses 8 metres', 'NIMHANS to set up brain and mind museum to increase awareness of neuroscience in Bengaluru', \"Sun-observing spacecraft sheds light on the solar wind's origin\", 'How scientists found that LK-99 is probably not a superconductor', 'The eyes and ears of Pragyan that help rover find its way on moon', '‘Fly me to the moon’ seems to be global ambition in 2023', 'Chandrayaan-3’s Pragyan rover has begun mobility operations, says ISRO', \"Google celebrates India's Chandrayaan-3 feat with special doodle\", 'The ‘weird’ male Y chromosome has finally been fully sequenced. Can we now understand how it works, and how it evolved?', \"Why are space agencies racing to the moon's south pole?\", 'Chandrayaan-3 | With moon now in India’s orbit, focus shifts to Pragyan rover', 'One giant step: Moon race heats up', 'Chandrayaan-3 | India lights up the moon  ', 'The Science Quiz | Twilight time – the world between worlds', 'Chandrayaan-3 | Not just sons of Tamil Nadu but State’s soil itself contributed to Moon mission', 'Calories and kilojoules: how do we know the energy content of food, and how accurate are the labels?', 'What next for ISRO after Chandrayaan-3 mission?', 'Chandrayaan-3 lander all set for touch down at 6.04 p.m. on August 23', \"Russian space agency chief blames decades of inactivity for Luna-25 lander's crash on the moon\", \"'Welcome, buddy!': Chandrayaan-3’s Lander Module establishes contact with Chandrayaan-2’s orbiter\", 'Superconductivity: Stay in the flow', 'Explained | What the fate of Luna 25 means for Russia', 'Chandrayaan-3 | ISRO releases images of the far side area of the moon', 'Chandrayaan-3 | How NASA, ESA will support ISRO during the Moon landing on August 23', 'ISRO one step away from landing on Moon as Lander Module completes second deboost operation  ', 'Russia’s Luna-25 spacecraft crashes into the Moon', 'Chandrayaan-3 | ISRO one step away from landing on Moon as Lander Module completes second deboost operation  ', 'Chandrayaan-3 | ISRO one step away from landing on Moon as Lander Module completes second deboost operation  ', \"Russia's Luna-25 spacecraft suffers technical glitch, space agency says\", 'Is it possible to remove microplastics from water?', 'Warming-induced glacier retreat could create novel ecosystems', 'The world of sugar ', 'A trial to test a new path for preventing Alzheimer’s', 'Quantum gates: Devices that translate quantum effects to computing awesomeness', 'Chandrayaan-3 Lander slowed down to move it to lower orbit', 'ISRO releases two videos of the Moon on August 18', \"Russia's Luna-25 spacecraft enters lunar orbit\", 'How the deadliest virus in human history paved the way for new cures', 'Negotiating a life with amyotrophic lateral sclerosis', 'Chandrayaan-3 moon lander separates from propulsion module', 'The story of how the deadliest virus to humans was revived', 'Flying fox bats for vigilance while roosting', 'The Science Quiz | Want to be tickled pink out of the blue?', 'Chandrayaan-3 takes another crucial step closer to moon', 'Scientists solve Manipur salamander ‘puzzle’', 'Can India’s State universities be hubs of skill-based science education?', 'Russia launches Luna-25 in a bid to return to the moon', 'Chandrayaan-3 gets closer to Moon after fourth orbit reduction manoeuvre', 'Centrifugal force – meet the resistance', 'India’s first mission to study the Sun getting ready for launch: ISRO', 'The harsh realities of space that Chandrayaan 3 is built to brave', 'Scientists puzzled by super-bright light from the sun', 'Science This Week | Russia launches lunar landing craft after 50 years, wildfire ravages through Hawaii and more', 'Did scientists unearth another ancient human lineage in China?', 'In celebration of left-handedness', 'Metagenome sequencing is transforming pathogen surveillance', 'Amazon rainforest | The scramble to save the planet’s lungs', 'Were seasonal climate patterns possible on early Mars?', 'Low human activity helps corals despite warm ocean', 'In TB detection, India far from meeting the 2025 goal', \"Archaeologists reveal Europe's oldest stilt village\", 'A cooling event 1.1 million years ago doomed early human in Europe', 'The odd behavior of a subatomic particle may shake up physics', 'Luna-25 will not hamper function of Chandrayaan-3: Russian space agency', 'Meet Kerala astronomer Aswin Sekhar, whose name shines bright on an asteroid', 'A rocket with a lunar landing craft blasts off on Russia’s first moon mission in nearly 50 years', 'ISRO releases images of Earth and Moon taken by cameras on board Chandrayaan-3 spacecraft', 'Ahead of Chandrayaan-3 lander’s soft landing ISRO assesses current situation around the moon', 'Chandrayaan-3 just 1,437 km away from moon', 'Japanese delegation in talks with ISRO for using data from lunar and solar missions', 'Long before whales, pioneering marine reptile was a filter-feeder', 'Explained | How a changing monsoon is challenging forecasters and disaster managers', 'Unique study shows we can train wild predators to hunt species they’ve never seen before', 'Plastic rocks, plutonium, and chicken bones: the markers we’re laying down in deep time', 'Supernovae – the universe’s engines', 'US scientists repeat fusion power breakthrough for 2nd time', 'How to check if a material is a superconductor – in four steps', 'ISRO successfully performs orbit reduction manoeuvre, brings Chandrayaan-3 closer to moon', \"ISRO releases Moon's video as seen from Chandrayaan-3\", 'Science This Week | Chandrayaan-3 spacecraft enters lunar orbit, scientists find heaviest animal that may have ever lived and more', 'Evolution isn’t against same-sex behaviour in monkeys: study', 'Is the current climate substantially warmer than during the medieval period?', 'The enigmatic Indian eagle-owl', 'In TB detection, smear microscopy’s share still holds sway', 'Chandrayaan-3 spacecraft enters lunar orbit', 'NASA restores contact with Voyager 2 spacecraft after mistake led to weeks of silence', 'Cats first finagled their way into human hearts and homes thousands of years ago – here’s how', 'Synthetic human embryos could allow for research beyond the 14-day limit, but this raises ethical questions', 'Chandrayaan-3 has covered about two-thirds of distance to moon', 'The Science Quiz | India’s space programme', 'India should go for younger cheetahs habituated to human presence: experts', 'Breastfeeding Week: Dated wisdom, lactation stigma still assail mothers', 'Massive extinct whale ‘may be heaviest animal that ever lived’', 'Explained | Why has Marc Tessier-Lavigne, Stanford University president, resigned?', 'Do we need a radical alternative to scientific publishing?', 'J. Robert Oppenheimer: the man, his science, and the man beyond the science', 'The Science Quiz: Let there be (coherent) light', 'Want to catch a supernova? There’s a new app for that', 'ISRO successfully conducts TransLunar Injection of Chandrayaan-3', 'Making sense of the room-temperature superconductor claim from South Korea', 'Horripilation: What is it?', 'A pair of supermoons to grace the sky in August', 'Mystery object on Australian beach identified as part of ISRO rocket', 'Non-reciprocity: The physics of letting waves go one way but not the other', 'Researchers find oldest evidence of curry outside India', 'Science This Week | IISc scientists discover 600-million-year-old ocean water from Himalayas, frozen microbes are coming back to life and more', 'Cell-free DNA promises to transform how we find diseases', 'ISRO’s PSLV-C56 puts 7 satellites in orbit; four more missions this year', 'Was Greenland covered with ice sheets for over 2.5 million years?', 'Plastic pollution widespread in water bodies across the world', 'Threat of dengue fever escalates globally', 'As earth warms, microbes frozen for millennia are coming back to life', 'Scientists revive worm frozen 46,000 years ago', 'Watch | Who was J. Robert Oppenheimer?', 'Oppenheimer: Remembering the physics that first made him great', 'Measuring helium in distant galaxies may give physicists insight into why the universe exists', 'Do smartphones belong in classrooms? Four scholars weigh in', 'The Science Quiz: The most powerful nuclear bomb', 'ISRO’s Gaganyaan Service Module Propulsion System aces 2 more hot tests', 'How do ants know how much food their hungry colony needs?', 'IN-SPACe offers chance to launch payload on POEM', 'How students in India can join international search for asteroids', 'Discovered: A mechanism that quietly removes unfit cells before you’re born', 'Can we really say some day was the warmest in 100,000 years?', 'Final orbit-raising manoeuvre of Chandrayaan-3 completed', 'Heatwaves in Europe, China and America could not have occurred without climate change: study', 'Geological era: What is it?', 'Cells with bare minimum genes can still evolve as fast as normal cells: study', 'Chemistry breakthrough makes fluorochemicals production safer', 'ISRO to launch PSLV-C56 carrying Singapore’s DS-SAR and six other satellites on July 30', 'The ultra-careful quest to find the shape of the electron’s charge', 'Science This Week | New way to settle the universe expansion dispute, risk of dengue on the rise as the planet warms and more', 'How did the dinosaurs become birds? The nose knows', 'The case for India switching from the oral to the inactivated polio vaccine', 'Making meat in the lab', 'Can cracks in metals caused by fatigue damage heal themselves?', 'Ancient genomic data shed light on the demise of the Copper Age', 'In AI’s unlimited potential, the benefits and the risks', 'Male fertility crisis: what environmental contaminants have got to do with it', 'Returning to the Moon can benefit commercial, military and political sectors: Expert', 'The case for the oral polio vaccine in the world’s quest for eradication', 'China may launch next-generation crewed spacecraft as early as 2027', 'A space race on the Korean Peninsula', 'Watch | Why has the monsoon in North India been so destructive?', 'Remembering A.K. Raychaudhuri: Transformed relativity, almost got fired', 'Chandrayaan-3 finishes fourth orbit-raising manoeuvre', 'ISRO successfully tests Gaganyaan Service Module Propulsion System', 'Explained | What does aspartame being ‘possibly carcinogenic’ mean?', 'Dramatic fossil shows mammal attacking dinosaur', 'For India’s scientists, academic publishing has become a double-edged sword', 'The Science Quiz | Fractals: When more of the same is beautiful, not boring', 'Google Doodle celebrates American climate scientist Eunice Newton Foote’s 204th birthday', 'Science This Week | Chandrayaan-3 mission begins, scientists declare a new geological epoch and more', 'A story of a convocation, an iron press, my kurta, and its polymers', 'Evolution is the right of all life forms – even synthetic ones', 'Chandrayaan-3 | A flight to the moon', 'ISRO performs Chandrayaan-3’s first orbit-raising manoeuvre', 'Unethical to continue using polio-causing oral polio vaccines', 'A new diarrhoea-causing parasite found in Kolkata', 'As global temperature soars, cooling needs will increase', 'ISRO begins firing of onboard thrusters as Chandrayaan-3 mission enters crucial phase', 'Sixty two of 111 lunar missions in last seven decades were successful: NASA database', 'Study links endogamy to persistence of harmful genetic variants in India', 'LVM-3’s Chandrayaan success is a big boost for Gaganyaan', 'Chandrayaan-3 | India’s third lunar odyssey begins with perfect launch', 'NASA’s rover finds fresh evidence of organic molecules on Mars', 'Indo-Japanese researchers develop ‘disease-modifying’ treatment for Duchenne’s Muscular Dystrophy', 'The curious link between endometriosis and an infectious bacterium', 'Vikram Sarabhai Space Centre to carry out system checkouts ahead of Chandraayan-3 launch', 'Deep space orbit to provide non-traditional resting place', 'Stunning Webb telescope image shows closest star-forming region', \"At Peru temple site, archaeologists explore 3,000-year-old 'condor's passageway'\", 'Poorly packaged paan ingredient a risk to children’s eyes: new study', 'Explained | What is the National Research Foundation? ', 'India and UK to connect their space clusters: UK science minister', 'Science for All | What are tunicates?', 'Chandrayaan 3 will aim for the Moon but look beyond it', 'Anthropocene, the new epoch marked by human impact on Earth, began in 1950s, say scientists', 'ISRO completes launch rehearsal of Chandrayaan-3 mission', 'With more fuel, fail-safe measures, Chandrayaan-3 to leap towards moon on July 14', 'Scientists decode genome of Indian shrimp variety', 'Explained | What is Microsoft’s planned ‘quantum supercomputer’?', 'Evidence for high annual rainfall 66 million years ago found', 'Moderate alcohol consumption has no health benefits', 'Ukrainian science is struggling, threatening long-term economic recovery', 'E. coli is one of the most widely studied organisms – and that may be a problem for both science and medicine', 'Science activism is surging – which marks a culture shift among scientists', 'Billions spent on cancer research globally – but is it money well spent?', 'Autism: later-life diagnosis doesn’t mean lower quality of life', 'IAEA chief Grossi hints at discord among Fukushima report experts', 'Third LIGO will put India on the research map', \"UK denies report of ready deal to rejoin EU's Horizon science scheme\", 'Will lab-grown meat find takers in India?', 'The Science Quiz | Nuclear reactors and the power they generate', 'ISRO moon mission: Chandrayaan-3 spacecraft integrated with launch vehicle', 'Science for All | Why does observing gravitational waves matter? ', 'What are the risks surrounding Zaporizhzhya, the nuclear power plant in a war zone?', 'India’s first major gender in physics conference from July 10', 'How Japan plans to release Fukushima water into the ocean', 'The Science Quiz | On space exploration', \"Ferocious black holes reveal 'time dilation' in early universe\", 'ISRO terminates semi-cryogenic engine test after sudden spike in turbine pressure and speed', 'Nuclear fusion ‘breakthrough’: Decades of research are still needed before fusion can be used as clean energy', \"Octopuses' sleep found to have active and quiet phases, similar to human sleep\", 'Science This Week | Euclid telescope blasts off to study the ‘dark’ universe, physics helps in understanding hate groups and more', 'Newborn genome-sequencing unlocks the blueprint of health', 'Euclid space telescope begins quest to study dark universe', 'Crowdsourced data from Twitter help identify flooded areas in real time', 'Why COVID-recovered patients have cardiac events when exercising', 'Intensity of extreme rainfall events estimated to increase by 15%', \"Saturn's rings are glowing in Webb Space Telescope's latest cosmic shot\", \"Spanish researchers aim to 'trick nature' with artificial womb\", \"Europe's Euclid space telescope set for launch to explore 'dark universe'\", 'How should a robot explore the Moon? A simple question shows the limits of current AI systems', \"India's largest radio telescope key to detecting the universe's vibrations\", \"Italian researchers reach the edge of space flying aboard Virgin Galactic's rocket-powered plane\", 'With neutrinos, scientists observe our galaxy in a whole new way', 'A new science: Using physics to understand hate groups on the internet', 'I am feeling better now, says Mayank Agarwal', 'Mayank Agarwal survives serious health scare', 'Shoaib Bashir | Surprise package', 'Nothing new or foreign to me: Steven Smith on opener role in Tests', 'Heinrich Klaasen announces Test retirement', \"David Warner: If I had my time again, I'd bite my tongue a little bit more\", 'Dean Elgar | A sense of emancipation and a touch of enterprise', 'Ambati Rayudu launches Super Kings Academy in Coimbatore', 'Cameron Green reveals he is suffering from irreversible chronic kidney disease', 'Shreyanka and Saika — from WPL stars to shining on the biggest stage', \"Steve Smith's manager debunks former Australian captain's retirement talks\", 'Afghanistan’s Rashid Khan undergoes lower-back surgery', 'Meg Lanning exits centre stage, but her greatness lives on', '‘Mission near impossible’ for Pakistan; England eyes CT spot', \"We want to target Gen Zs and 10-year-olds: ICC's big digital push for global events\", 'Scott Edwards: the selfless keeper of the Oranje flame', 'Bishan Singh Bedi’s words always had the depth of a life well lived and the world acutely observed', 'The Lords of Wankhede: WV Raman, R Kaushik’s book unveiled at a star-studded function', 'Bishan Singh Bedi death | It is a personal loss to me and my whole family, says Prasanna', 'Logan van Beek charts a ‘different way’ to the World Cup', 'Brexit red tape puts Valentine’s Day thorn in England’s flower trade', 'Kinetic Engineering upbeat on demand for eLuna', 'Plea filed in SC seeks to review Adani-Hindenburg verdict', 'Robot invasion hit a bump in 2023 as North American economy cooled', 'U.S. FDA approves Aurobindo Pharma’s generic to treat Duchenne muscular dystrophy ', 'Bengaluru may soon get a US Consulate: Priyank Kharge', 'The unique Nokia culture in its heydays', '‘It is nothing but a white lie paper’, says Chidambaram', 'Sundaram-Clayton reappoints Venu as Chairman Emeritus & MD', 'Tamilnadu Petroproducts Q3 net dips due to cyclone', 'IGL signs MoUs to set up 19 CBG plants in four states', 'VECV forays into small commercial vehicles', 'NMDC readying ground for a quantum jump by 2029', 'UPI gets global launch at Eiffel Tower in France', 'Aurobindo arm formulation unit under U.S. FDA scanner', 'A political, feel-good statement', 'The problem of moving attention away from services', 'Committee will study ‘fast population growth’ and demographic changes: Nirmala Sitharaman', 'German woes darken central Europe’s recovery prospects', 'Morning Digest | Graziers confront Chinese soldiers in eastern Ladakh; Centre starts survey to assess women participation in workforce, and more', 'IndiGo’s Delhi-Baku flight takes off without ATC clearance', 'EV batteries get extra power from coal in new experiment', 'U.S. kick-starts five-week H-1B visas renewal drive, to accept 20,000 applications', \"NCLT rejects Wilmington's insolvency plea against SpiceJet\", 'Global trade is being disrupted by Red Sea attacks, Ukraine war and low water in Panama Canal: UN', 'On anniversary of Hindenburg report, Gautam Adani says group has emerged stronger', '‘Imported’ arecanut enters Malnad, coastal areas through cargo terminal of Mangaluru airport, says CAMPCO', 'MIA facilitates highest quantity of inbound red arecanut handling at integrated cargo terminal in Mangaluru', \"China, in comic strip, warns of 'overseas' threats to its rare earths\", 'Air India launches country’s first Airbus A350-900 flight from Bengaluru to Mumbai', 'Can Rabbit r1 eat your smartphone?', 'TASL to make advanced composite assemblies for Boeing ', 'Watch | What is DigiYatra, and why were people complaining about it in airports?']\n",
            "\n",
            "Cluster  3\n",
            "['IIT Delhi team makes first hi-res landslide risk map for India', 'Unravelling the secrets of swing in cricket with the physics of friction', 'Wolbachia: An unlikely hero', 'What India needs from the ‘Vigyan Puraskar’ awards and what it can get | Explained', 'After year’s delay, CSIR’s Bhatnagar awards for 2022 announced', 'Sangam-age stud, bead unearthed in Tamil Nadu', \"India's oldest living Test cricketer Dattajirao Gaekwad dies at 95\", 'Pakistan Super League hit by pullouts of overseas cricketers', 'Ranji Trophy | Thampi’s late burst gives Kerala first outright win of the season', 'Ranji Trophy | TN-Karnataka clash goes down to the wire, ends in a thrilling stalemate', 'IND vs ENG Tests | Rahul ruled out of Rajkot Test, Padikkal named as replacement', 'Ranji Trophy TN vs KAR | I thought we would get it with the new ball, but they defended it well, says Indrajith', 'Ranji Trophy | I feel my job in the team is to be a wicket-taker, says Tanay Thyagarajan', 'Their journey has left an indelible mark: Jay Shah consoles India following U19 WC loss', 'Ranji Trophy | It was about changing Umran’s mindset: J&K’s bowling coach Krishnakumar', 'Our plan was simple: keep it under two runs an over, says Vyshak', 'Ranji Trophy | Daunting task for Bengal on final day', \"Glenn Maxwell's blistering ton lifts Australia to 34-run victory in 2nd T20 against West Indies\", 'Ranji Trophy | Jammu & Kashmir bowls out Pondicherry for 67 in 87-run chase', 'Ranji Trophy | Karnataka still in command despite Ajith Ram’s heroics', 'U19 WC final | Australia dash Indian dreams with 79-run victory', 'Ranji Trophy | Looking forward to winning this game for the team: Hardik Raj', 'Ranji Trophy | Jalaj’s seven-for gives Kerala upper hand after Akshay’s ton', 'Ranji Trophy | Bowlers put Karnataka in the driver’s seat against Tamil Nadu', 'IND vs ENG Tests | It’s every cricketer’s dream to play for the country, says Akash Deep', 'Ranji Trophy | Jammu & Kashmir has Pondicherry reeling', 'Ranji Trophy | Tanay’s seven-for helps Hyderabad enforce the follow-on against Nagaland', 'CRICKET | Kohli unavailable; Jadeja, Rahul return for the last three Tests pending fitness clearance', 'Spinners will play key role in upcoming T20 WC: Maharaj', 'Ind vs Eng Tests | Kohli out for remainder of series; pacer Akash Deep gets maiden call-up', 'Ranji Trophy | Sachin Baby and Akshay Chandran rescue Kerala', 'Ranji Trophy | Tanmay & Tilak notch up dominating tons', 'Ranji Trophy | Padikkal puts Karnataka in strong position against TN', 'RANJI TROPHY | Spinners claim 21 wickets, Pondicherry secures first-innings lead', 'I want to play freely and consistently, says Tilak Varma', 'Ranji Trophy | Old rivalries to be renewed as TN meets Karnataka in high-stakes clash', 'Sportstar Aces Awards 2024 | First-ever International Icon honour goes to spin wizard Muralitharan', 'Sportstar Aces Awards 2024 | Shami is Sportsman of the year in Team Sports', 'Ranji Trophy | Kerala seeks its first win of the season with qualification hopes dashed', 'It is a crucial IPL for everyone, reckons Deepak Chahar', 'Ranji Trophy | Table-topper Hyderabad should have it easy against Nagaland', 'Ranji Trophy | Gaurav Yadav never gets tired of bowling, says Arun Karthick', 'Ranji Trophy | Confident Pondicherry takes on Jammu & Kashmir', 'From Beed to Benoni— the incredible journey of Sachin', 'IND vs ENG Tests | Bumrah the best in the world across formats: Harmison', 'Sai Kishore and Sanjay Yadav the headline acts in the second TNPL player auction', 'Kerkar enjoying his stint with Chhattisgarh', 'Ricky Ponting takes over as Washington Freedom head coach in U.S.', 'New Zealand thrash weakened South Africa by 281 runs in 1st Test', 'IND vs ENG second Test | Rohit’s men showed they had the depth and resilience to bounce back', 'India vs South Africa U-19 World Cup | Sachin and Saharan deliver in chase as India storms into final', 'Ranji Trophy | The tweak that helped Azharuddeen find his mojo', 'Ind vs Eng | Magical Bumrah was difference between two sides in 2nd Test: Hussain', 'Ranji Trophy | Baroda win three points, consolidates top spot', 'IND vs ENG second Test | Crawley dismissal: technology got it wrong, says Stokes', 'IND vs ENG second Test | Team effort got us over the line: Dravid', 'Ranji Trophy | Chhattisgarh resists Kerala’s push for a result after Baby’s blitz', 'Ranji Trophy | Tamil Nadu cruises to seven-wicket win over Goa', 'Ind vs Eng 2nd Test | Gill hurts finger, does not take field on day 4', 'Ranji Trophy | Sai Kishore, Ajith put TN on the cusp of win', 'IND vs ENG second Test | England 67-1 at stumps on Day 3 against India, chase record 399 to win', 'NZ vs SA first Test | Williamson, Ravindra centuries lift New Zealand against a spirited South Africa', 'Virat Kohli, Anushka Sharma expecting ‘second child’, reveals AB de Villiers', 'IND vs ENG second Test | Jaiswal will be a very special player: Crawley', 'IND vs ENG second Test | When it’s reversing, you don’t need to bowl magical deliveries: Bumrah', 'Ranji Trophy | Rahul and Nitesh help Hyderabad take a massive lead', 'Ranji Trophy | Jyotsnil hits a career-best unbeaten 215 to put Baroda in a dominant position against Delhi', 'Ranji Trophy | Tamil Nadu manages to take a slender first-innings lead against Goa', 'RANJI TROPHY | Azharuddeen’s memorable comeback takes Kerala to a challenging total', 'Why do we need turning tracks, we need to play on good wickets: Ganguly', 'IND vs ENG second Test | Bumrah reverse-swings the balance India’s way after Jaiswal’s double ton', 'IND vs ENG second Test | Yashasvi Jaiswal hits maiden double ton', \"Foreigners, local coaches don't want to work with PCB due to its shortsightedness: Misbah\", 'Shamar Joseph rekindles the embers of an old sporting dynasty', 'Ranji Trophy | Rohit spell helps Hyderabad dismiss Mizoram cheaply', 'Ranji Trophy | Sachin Baby comes to the rescue again for Kerala', 'ICC Under-19 World Cup | India thrashes Nepal to storm into semifinal', 'Ranji Trophy | Prabhudessai scores a century to help Goa to a decent total', 'IND vs ENG second Test | Rohit Sharma as my first wicket is special, says Shoaib Bashir', 'IND vs ENG second Test | Rajat Patidar feels the wait for his chance was worth it', 'Stokes looks to make good use of Anderson’s experience', 'India has always bounced back well, says Bharat', 'Ind vs Eng 2nd Test | Can Rohit and his men ground the high-flying Bazball?', 'RANJI TROPHY | Chhattisgarh aims for a win against misfiring Kerala', 'Ind vs Eng 2nd Test | Spinner Jack Leach ruled out with knee injury', 'Spirited England fans lapping up Test match experience in India', 'Ranji Trophy | Prithvi Shaw added to Mumbai’s squad against Bengal', 'IND vs ENG Tests | Decision on Patidar or Sarfaraz with Dravid and Rohit, says coach Vikram Rathour', 'IND vs ENG Tests | Crawley credit success to pre-series training camp in Abu Dhabi', 'IND vs ENG | Spotlight on Patidar, Sarfaraz and other additions for second Test', \"IND vs ENG | Shami's absence won't increase Bumrah's workload: Irfan Pathan\", 'India vs England test series: second match to begin in Visakhapatnam from February 2; entry from 8 a.m.', 'Ashwin retains top spot, Bumrah moves to forth in ICC Test rankings', 'ICC Under-19 World Cup | Musheer, Pandey star as India romps past New Zealand', 'IND vs ENG second Test | India’s conundrum ahead of Visakhapatnam Test', \"IND vs ENG second Test | Won't be afraid to play all-spin attack in Visakhapatnam, says Brendon McCullum\", 'Ind vs Eng | Mark Wood accepted limited role in 1st Test win', 'Bazball has not only travelled, but transcended boundaries too', 'India will look to continue its winning ways when it takes on New Zealand', 'Jasprit Bumrah reprimanded for Code of Conduct breach in Hyderabad Test', 'Shamar Joseph may be ‘saviour in purest form of cricket’, says Steve Waugh', 'Saurabh Kumar: Net bowler for India against England in 2021, squad member in 2024', 'IND vs ENG | Ravindra Jadeja, Rahul ruled out of second Test against England', \"India vs England Test | Gill has got cushion that Pujara didn't get, needs to come good in Vizag: Kumble\", 'Gabba, Hyderabad thrillers the perfect advertisement for Test cricket', 'ICC lifts ban on Sri Lanka Cricket two months after suspension', 'Fully fit Deepak Chahar sets sights on Twenty20 World Cup', 'AUS vs WI second Test | Shamar Joseph bowls West Indies to stunning win over Australia in day/night Test', 'India v England 1st Test | After the Pope show, debutant Hartley spells India’s doom', 'TNCA inter-district 30-over women’s cricket tournament scores', \"India 'A' beat England Lions by innings and 16 runs\", 'RCB’s England player Heather Knight pulls out of WPL', 'Ranji Trophy | Bengal runs through Assam’s line-up to take the upper-hand', 'AUS vs WI pink ball Test | Steve Smith guides Australia to healthy position at stumps', 'Ranji Trophy | Karnataka in a spot of bother before pulling itself together', 'Tanmay helps Hyderabad call the shots with a record-breaking maiden triple century', 'Ranji Trophy | Shreyas Gopal shines through the gloom for Kerala', 'Ranji Trophy | Vintage Anustup steers Bengal out of trouble and into position of strength', 'IND vs ENG | Rahul, Jadeja put India in the driver’s seat', 'Ranji Trophy | Bengal will hope for favourable weather to improve its points tally', \"Virat Kohli wins ICC men's ODI Cricketer of the Year Award for fourth time\", 'Rohit Sharma firmly believes their ‘time will come’ to win elusive ICC trophy', 'IND vs ENG | Rajat Patidar to replace Virat Kohli for first two Tests against England', 'IND vs ENG Test | I wouldn’t say we are not beatable: Rohit', 'IND vs ENG Test | Rohit’s men out to maintain enviable record as Bazball faces its biggest test', \"Siraj's warning: If England play Bazball, the match might get over within two days\", 'Mitchell Marsh to captain Australia for Windies T20 series, Pat Cummins rested', 'England spinner Shoaib Bashir returns home to resolve visa issues; to miss first India Test', 'Any team will miss the quality of a player like Virat. But, it gives an opportunity for another player to step up: Dravid', 'No good coming here thinking the pitches will do the work, says Mark Wood', 'Rohit Sharma leads ICC ODI Team of the Year dominated by Indians', 'State of affair in Pakistan cricket is really sad: Javed Miandad', \"Ind vs Eng Tests | England bowler Shoaib Bashir's arrival delayed due to visa issues\", 'Gill, Shastri to be honoured at BCCI Awards', 'Ranji Trophy | Gritty Ashutosh denies Bengal first-innings honours', 'Ranji Trophy | Prabhudessai’s unbeaten ton helps Goa pull off a draw against Karnataka', 'Ranji Trophy | It was a challenging wicket to bowl: Mumbai’s Mohit Avasthi', 'Ranji Trophy | Kerala batters cave in meekly to Mumbai’s Mulani', \"Suryakumar Yadav named captain of ICC men's T20I team of the year\", 'IND vs ENG | Virat Kohli withdraws from first two Tests against England citing personal reasons', 'Ranji Trophy | Jose’s second First Class century helps Karnataka take first-innings lead', 'Ranji Trophy | Mumbai leaves Kerala with a daunting task to win', 'Ranji Trophy | Tamil Nadu spinners derail Railways, claims the match by an innings and 129 runs', 'Ranji Trophy | Bengal pushes for first innings lead with a tactical declaration and quick wickets', 'IND vs ENG Test series | England batsman Brook to miss series, returns home for personal reasons', 'PAK vs NZ 5th T20I | Pakistan beats New Zealand by 42 runs, avoid series sweep', 'Ranji Trophy | Hyderabad drubs Sikkim by an innings and 198 runs', 'Ranji Trophy | Bengal rides on young gun Abishek’s maiden century', 'Mohit triggers a spectacular Kerala collapse as Mumbai takes control', 'Ranji Trophy | Padikkal and Mayank’s centuries take Karnataka close to Goa’s total', 'Ranji Trophy | Since first match of this season, I don’t know for what reason there has been axe over my head: Jagadeesan', 'Ranji Trophy | Jagadeesan races away to his maiden double ton; puts Tamil Nadu in the driver’s seat', 'ICC Under-19 World Cup | Saumy, Musheer shine as India outclasses Bangladesh', 'Pitch full length, attack stumps and setting up straighter field placement should be mantra, Donald advises English pacers', 'Former Pakistan captain Shoaib Malik ties knot with Pakistan actor Sana Javed', \"Zaka Ashraf resigns as chairman of PCB's cricket management committee\", 'Playing in franchise leagues around the world elevates your game: Shane Bond', 'Under-19 World Cup | India looks for winning start in opener against Bangladesh', 'Ranji Trophy | Tanush Kotian, Bhupen Lalwani, and Shivam Dube spare Mumbai’s blushes', 'Aus vs WI 1st Test | Hazlewood stars as Australia claims 10-wicket win inside 3 days', 'Ranji Trophy | Sai Kishore geared up to turn it around and ‘strike gold’ for Tamil Nadu', 'Ranji Trophy | Bengal takes on Chhattisgarh, will seek to garner maximum points', 'Ranji Trophy | Hyderabad, Sikkim in battle of equals', 'IND vs AFG T20Is | Dravid impressed by his players stepping up at the right moment', 'Ranji Trophy | Kerala faces stern test against inform Mumbai ', 'Nice to see we have some options ahead T20 World Cup: Dravid', 'IND vs AFG 3rd T20I | Rohit’s India pips Afghanistan at the post in a dramatic twin Super Over shoot-out', 'Redfern to be first ICC-appointed female neutral umpire for bilateral series', 'NZ vs PAK | Finn Allen slams record-equalling 16 sixes as New Zealand wins T20 series 3-0', 'IND vs AFG | India look to perfect new template in 3rd T20 against Afghanistan; Kuldeep, Avesh may return', 'Ranji Trophy | Mumbai brushes off Andhra, gets bonus point', 'Ranji Trophy | Desai, Vaghela bowl Gujarat to an incredible victory over Karnataka', 'Ranji Trophy | Assam’s Rahul Hazarika belts century, match ends in a draw', 'IND vs AFG | India will look to fine tune winning combination ahead of World Cup', 'Cooch Behar Trophy Final | Prakhar Chaturvedi breaks Yuvraj’s record', 'IND vs AFG T20Is | Haven’t thought about who plays the World Cup, focus is on giving our best: Arshdeep Singh', 'ICC bans Bangladesh cricketer Nasir Hossain for two years on corruption charges', 'Brian Lara says cannot blame WI players for preferring IPL to national duty', 'Kane Williamson, Abbas Afridi ruled out of the third T20 match due to injury', 'Man detained for breaching security and hugging Virat Kohli during T20 match', 'Shaun Marsh announces retirement from professional cricket', 'Ranji Trophy | Riyan hopes to carry domestic form to the IPL', \"We won't complain if pitches in India spin from ball one: Ollie Pope\", 'A step in right direction for Afghanistan: Trott on first-ever bilateral series against India', \"Modern day batters aren't patient anymore: Kallis\", 'Ranji Trophy | Lower-order rallies to give Mumbai the ascendancy', 'Crisis man Sachin Baby’s century puts Kerala in good position', 'Yuvraj Singh hints at mentoring role to prepare Team India for challenges ahead', 'Ranji Trophy | Mayank’s ton propels Karnataka to a dominant position against Gujarat', 'IND vs AFG | India eyes series win over Afghanistan as fringe players look to impress; Kohli to return', 'As franchise leagues kidnap the game, Test cricket must find windows: Mark Nicholas', 'India squad for England Tests announced; Dhruv Jurel gets first call-up as injury keeps Shami out', 'IND vs AFG T20Is | Axar ready to attack more, trade runs for wickets', 'Ranji Trophy | Kerala openers Kunnummal and Krishna Prasad frustrate Assam', 'Ranji Trophy | Honours even after day one as Andhra claims six Mumbai wickets', 'Ranji Trophy | Koushik picks up four as Gujarat gets bowled out for 264', 'India A dominate proceedings against England Lions on day one of practice game', 'Presence of Kohli, Rohit will give India solidity in T20 World Cup: Suresh Raina', 'Nepal suspends former cricket captain after rape conviction', 'IND vs AFG first T20I | Shivam Dube shines on comeback to script comfortable win for India', 'Shane Bond: Siraj is awesome; good to see emergence of Afridi, Madushanka, Coetzee', 'Rohit-Jaiswal combination to continue at opening slot: Rahul Dravid', 'Ind vs Afg T20 | Opportunity for aspirants to stake a claim for T20 World Cup spots', 'Adams named New Zealand bowling coach for Pakistan series', 'After rain, India share top honours with South Africa in U-19 Tri-Nation tourney', 'Players need to be flexible because not much time to prepare for T20I WC: Dravid', 'Dinesh Karthik to assist England Lions as batting consultant', '‘We should be proud’: Alyssa Healy after defeating India in T20I series', 'Nepal cricketer Sandeep Lamichhane jailed for eight years after rape conviction', 'I have never seen anything better than what Tendulkar, Azharuddin did at Newlands: Conrad', 'IND vs AUS | Bowlers, Healy and Mooney help Aussies have the last laugh', 'ICC rates Newlands pitch as unsatisfactory after shortest-ever Test in history', 'Mohammed Shami, para archer Sheetal conferred with National Sports Awards', 'WTC has made it worse for Test cricket: Butcher', 'Ranji Trophy | Gujarat pacers hunt as a pack, send Tamil Nadu to its doom', 'IND vs AUS | Harmanpreet’s Women In Blue keen to end gruelling season on a high', 'Return of Rohit and Kohli reveals hope, apprehension about the road ahead', 'Ranji trophy | Karnataka begins its campaign with a seven-wicket win over Punjab', 'Proud to have received my first Ranji cap here at my home ground: Rohit', \"Ashwin terms Vaughan's 'underachiever' remark 'laughable'; rates India as excellent travelling side\", 'David Warner expresses coaching ambition in future', 'Ranji Trophy | Ankit and Juyal combine to shut out Kerala', 'Coming back was almost like a debut for me, says Ngidi', 'Ranji Trophy | Delhi’s batting implodes again, squanders advantage', \"Rohit Sharma to lead India's T20I side against Afghanistan; Virat Kohli included\", 'Ranji Trophy | Prabhsimran and Abhishek take the fight to Karnataka with a big partnership', 'RANJI TROPHY | Gujarat takes the upper hand against Tamil Nadu', \"ICC rejects Usman Khawaja's appeal against armband sanction\", 'Ranji Trophy | Vishnu Vinod’s flamboyant knock keeps Kerala in the contest', 'India in South Africa | I have learnt a lot from my first two tours: Yashasvi Jaiswal', 'Ranji Trophy | Gaurav’s seven for helps Pondicherry bowl out Delhi cheaply', 'I have been working on my batting, says Warrier after the impressive show against Gujarat', 'Ranji Trophy | Warrier and Mohammed’s partnership with the bat helps TN take a slender lead', 'Every Ranji hundred is special. No matter what, the grind [towards] getting a hundred is tough: Padikkal', 'There’s a lot of difference between bowling in India and South Africa, says Mukesh Kumar', 'Ranji Trophy | Karnataka’s Padikkal and Pandey notch up centuries to drive home the advantage', 'David Warner leads Australia to victory in his farewell test match, completing a 3-0 sweep over Pakistan', '‘I remember telling Rahul Dravid I can’t believe Sachin Tendulkar was better than Virat Kohli’', 'Ranji Trophy | Never-say-die Mohammed back in the mix with a bang', 'India in South Africa | The 1-1 scoreline is a fair reflection of the mini-series of miniature Tests in South Africa', 'ICC Twenty20 World Cup 2024: full schedule, dates and venues', 'Ranji Trophy | Karnataka gets off to a blazing start against Punjab', 'Ranji Trophy | Mohammed and Warrier call the shots as TN restricts Gujarat', 'T20 World Cup 2024: India to face Pakistan on June 9 in New York', 'Ranji Trophy | I am enjoying this phase of my career, says Karnataka’s Koushik after career-best seven-for', 'India in South Africa | Shreyas Iyer’s short ball problems remain a worry', 'Kohli, Jadeja to vie for Sobers Trophy; Ashwin in race for ICC Test Cricketer of Year', 'ICC Test rankings | Australia topples India as world’s No 1 Test side', 'AUS vs PAK | Josh Hazlewood has Pakistan reeling after Jamal’s third Test heroics', 'Ranji Trophy: A tournament that gives clues about players willing to cope with rigours of the longer format', 'RANJI TROPHY | Kerala and Uttar Pradesh will aim to get their red-ball fortunes back on track', \"Australia's Usman Khawaja completes 7,000 international runs\", 'Virat Kohli back in top 10 of ICC Test Ranking', 'India in South Africa | Reward for hitting one area consistently, says Siraj', \"Suryakumar doesn't quite know what to do in ODIs but he is a freak in T20 cricket, says Hussain\", 'Cricket South Africa defends Test squad selection for New Zealand tour', 'The future is up to administrators making the right decisions for the players, says South Africa’s Dean Elgar', 'India in South Africa | Young Indian batsmen should be ready for the task, says Rohit Sharma', 'Australia women sweep series as the Litchfield-Healy duo has a smashing day at the office', 'India in South Africa | India desperate to bounce back; looks to improve standing in WTC points table', 'AUS vs PAK third Test | Australia bids for Pakistan sweep in Warner Week', 'India in South Africa | India must focus on building bigger fast bowling pool in 2024: Irfan Pathan', 'Australia PM praises Khawaja for showing courage amid stand-off with ICC', 'AUS vs PAK | Australia announce unchanged playing XI for third Test against Pakistan', 'Jonathan Trott to continue as Afghanistan head coach for 2024', 'India in South Africa | India must put the Centurion debacle behind and regroup', 'An incredible experience for Japanese cricket trio', 'I tried to mould my technique on Kohli, Rohit: Bedingham', 'Steve Waugh slams South Africa for naming depleted squad, ICC for not caring about Test cricket', 'Harmanpreet Kaur’s form with bat in focus as India look to salvage pride in final ODI against Australia', 'David Warner retires from one-day cricket ahead of Test farewell', 'Shubman Gill is playing too aggressively in Test cricket: Gavaskar', 'India in South Africa | Rohit, Jadeja have a stint in the nets', 'India in South Africa | Debutant Burger casts a spell, indeed!', 'India in South Africa | Rohit Sharma focuses on Mukesh during net session, Jadeja goes full tilt', 'India in South Africa | Shardul Thakur hit on shoulder at nets, but is fine', 'Sri Lanka names squad for Zimbabwe series, Kusal, Hasaranga to lead ODI, T20I sides', \"PCB to take up Rizwan's dismissal during Melbourne Test with ICC\", 'IND vs SA second Test | Ravindra Jadeja likely to be available for Cape Town Test', 'IND vs SA | Dean Elgar named South Africa captain for farewell Test against India', 'IND vs SA | Prasidh Krishna’s performance hints at bare bench strength', 'AUS vs PAK | Cummins the hero as Australia beats Pakistan to clinch series', \"Avesh Khan added to India's squad ahead of second Test against South Africa\", 'Bangladesh wins the toss and bowls in 2nd T20 match against New Zealand', 'Kohli first batter to score 2000+ runs in seven calendar years', 'SA vs IND, 2nd Test| Temba Bavuma out of Cape Town Test; Dean Elgar to lead South Africa', 'Fifties from Litchfield, Perry and McGrath guide Australia home in the opening ODI', \"Ben Stokes hits back at Harmison's remarks of England losing 5-0 against India\", 'Post-lunch session delayed for a while in AUS vs PAK Test as third umpire gets stuck in lift', 'SA vs IND first Test | Burger & Co. dash India’s ‘final frontier’ dream, inflict innings defeat', 'Australia recovers from poor second-innings start to lead by 241 runs over Pakistan in second Test', 'David Warner plays his final Boxing Day Test innings, bids goodbye to MCG in whites', 'SA vs IND | Elgar’s unbeaten ton helps South Africa nose ahead', 'Mayank to lead Karnataka in the opening two Ranji fixtures; Gowtham misses out', 'Interview with Fanie de Villiers: Azharuddin is the batter I respected most', \"Head coach Hathurusingha confident about Bangladesh's upcoming T20I series against New Zealand\", 'Labuschagne immovable as Australia frustrate Pakistan in second Test', 'When Steve Rixon sledged Graeme Pollock and regretted right away', 'Tale of Ajay Reddy | How the Indian blind cricket team captain found a way to serve the nation', 'Warner picks Marcus Harris as his Test replacement', 'If South Africa plays two Tests a year how will Rabada reach 400 wickets, fumes Ntini', 'IND vs SA | Rahul stands firm as Rabada’s five-for stymies India', 'Afghanistan unlikely to give nod for Mujeeb, Naveen and Farooqi to participate in IPL 2024', 'India has had its moments in the Rainbow Nation, will look for maiden Test series win', 'Want to achieve what nobody has achieved in South Africa: Rohit Sharma', \"IND vs SA first Test | Rohit's men gear up to end 31-year wait for series win in South Africa\", 'Even bowler who replaces Shami can put us under pressure: South Africa skipper Temba Bavuma', 'Prioritising international cricket has helped my game: Starc on turning down multiple IPL fortunes', 'Discussed about keeping with KL Rahul, he was confident: Dravid', 'Virat Kohli rejoins team India ahead of first Test against South Africa', 'SA vs IND first Test | India chases history in test series in South Africa', 'Usman Khawaja denied permission to have peace symbol on bat, say reports', 'Sai Sudharsan always looking to learn and improve, says Hemang Badani', 'Dhoni to resume training in the next few weeks: CSK CEO', 'Former South Africa captain Dean Elgar announces retirement from international cricket after India series', 'India U19 to play tri-series against South Africa, Afghanistan ahead of World Cup', 'Pakistan’s injury woes continue with spinner Noman Ali out for remainder of Australia series', 'Virat Kohli returns due to family emergency, Gaikwad ruled out of Test series against South Africa', 'Khawaja to challenge ICC reprimand, says armband was for a bereavement', \"Unfortunately haven't been able to give Samson chance at No. 3, says K.L. Rahul\", 'Last 3-4 months were mentally challenging, grateful for maiden ODI century, says Sanju Samson', 'India vs SA 3rd ODI | Samson hits maiden ton; India has the last laugh', 'Crisis-hit West Indies announce 7 uncapped players for Australia Test tour', 'With a mix of big and bargain buys, Chennai Super Kings get ready for title defence', 'Pacers pack a punch at the IPL 2024 Auction', \"Toss played a factor, we're 50-60 runs short on a lively wicket: Rahul\", 'Emotional decision to change captain, but Rohit will be part of MI legacy: Jayawardene', 'IPL 2024 auction | Chennai Super Kings get Rachin Ravindra and Daryl Mitchell', 'IPL 2024 auction | Mitchell Starc smashes IPL auction record; KKR gets him for ₹24.75 crore', 'Ranji Trophy | Sai Kishore to helm TN; Aparajith a surprise omission', 'Rishabh Pant to attend 2024 IPL Auction', 'Arshdeep reveals spending time with Avesh Khan a day before 1st ODI \"boosted\" his performance', '\"I still pinch myself when I see...\": Nathan Lyon after completing 500 Test wickets', '500 Test wickets is huge: Australia skipper Cummins lauds Lyon on reaching major career milestone', 'Ishan Kishan pulls out of SA Test series, Bharat named replacement', 'Salt smashes century as England fightback stuns West Indies in T20', 'Under-19 Asia Cup | Bangladesh crushes UAE to lift trophy', 'SA vs IND first ODI | India surprised by Wanderers wicket in big win over South Africa, says Rahul', 'Arshdeep Singh becomes first Indian pacer to take five-wicket haul against South Africa in ODIs', 'SA vs IND, 1st ODI | Arshdeep, Avesh star in emphatic Indian victory over South Africa', 'India showed us how to play in these conditions: Heather Knight', 'AUS vs PAK, 1st Test | Australia builds big lead over Pakistan as Lyon moves to 499 Test wickets', 'Ind Women vs Eng women Test | Amol Muzumdar filled in for my lack of Test captaincy experience: Harmanpreet', \"India thrash England by 347 runs in one-off women's Test\", 'Shami ruled out of Tests series against South Africa, Deepak Chahar withdraws from ODI series', 'South African pitches are suiting spinners in ongoing tour, says Kuldeep after picking fifer', 'Hardik Pandya replaces Rohit as Mumbai Indians captain', 'Under-19 Asia Cup semifinals | Bangladesh beats India to enter final; UAE stuns Pakistan to reach summit clash', 'Hardik Pandya replaces hugely successful Rohit Sharma as Mumbai Indians captain', \"To honour Dhoni's contribution to Indian cricket, No. 7 jersey retired, says Rajeev Shukla\", 'AUS vs PAK first Test | Pakistan digs in as Lyon edges closer to 500 Test wickets', 'Shami races against time to be fit for South Africa Tests, return during England series more likely', \"Suryakumar's sparkling hundred carries India to 201 for 7 in third T20I against South Africa\", \"Valli, Du Plessis make fifties as South Africa 'A' manage draw against India 'A'\", \"AUS vs PAK, 1st Test | David Warner's powerful 164 in farewell series leads Australia to 346/5\", \"Australia cricketer Khawaja wears a black armband after a ban on his ''all lives are equal'' shoes\", 'Misfiring Indian bowlers in focus as India seek series-levelling win over SA in 3rd T20I', \"Markram and Shamsi's middle-over spells became turning point, feels Tilak Varma\", \"Andre Russell's masterclass helps West Indies clinch 4-wicket win against England in 1st T20I\", 'Indian team has responsibility to take women’s cricket ahead: Harmanpreet Kaur', \"Didn't know how to come back after World Cup final loss but now motivated for ultimate prize: Rohit\", 'Test series against India | It was a fair decision, says Chris Woakes on being left out', 'Gaza support | Cricket Australia expects Usman Khawaja to abide by rules', 'India retain Asia Cup squad as Uday Saharan set to lead in U-19 World Cup', 'No one goes to a sporting contest just to watch the rain', 'T20 | South Africa take 1-0 lead with five-wicket win over India', 'U-19 Asia Cup: Seamer Raj takes 7/13 as India beat Nepal to enter semis', \"Bangladesh spin sensation Nahida Akter bags women's player of Month for November\", 'England call up uncapped spin duo of Hartley, Bashir for India Test series', \"Travis Head wins ICC Men's Player of Month award for November 2023\", 'Stop clock trial to get underway during West Indies-England series', 'WPL Auction 2024 | I was quietly confident as I did well in the Mumbai Indians trials: S.B. Keerthana', \"Ben Stokes expected to be fit for start of England's Test series in India but will not bowl\", 'Asad Shafiq announces retirement from all forms of cricket, set to become Pakistan selector', 'IND vs ENG T20Is | Shreyanka and Saika spin a web around Knight’s England', 'Deepak Chahar yet to join team; pacer remains doubtful for remainder of SA T20I series', 'Wicket of Alyssa Healy will give Kashvee Gautam most joy', 'Impact player rule in IPL not encouraging all-rounders to bowl, says Wasim Jaffer', \"Azan's unbeaten ton, Zeeshan's four-fer guide Pakistan to 8-wicket victory over India in U-19 Asia Cup clash\", \"India's rain-hit first T20I against South Africa called off; Men in Blue's WC combination search to wait\", 'Pakistan cricket team in Australia without a doctor', 'Pitch was tricky but not as challenging as we made it appear: Deepti Sharma', 'Cricket life ban on ex-New Zealand opener Lou Vincent is relaxed', 'WPL second edition in February, to be played only at one venue: BCCI secretary Jay Shah', 'Series win over Aussies was big boost ahead of South Africa tour: Suryakumar Yadav', 'IND vs ENG T20Is | England clinches series after the Indian batters come a cropper', 'SA vs IND first T20I | India aims for right answers in tough Proteas ‘test’', 'BAN vs NZ second Test | New Zealand edges past Bangladesh in low scoring Test; levels series', 'IND vs ENG T20Is | Women in Blue need to strike back to keep the series alive', 'WPL Auction 2024 | Athapaththu and Wyatt headline field as the players go under the hammer', 'No coach can create an artist like Mohammed Shami, says bowling coach Paras Mhambrey', \"ICC rates Ahmedabad pitch which hosted ODI World Cup final as 'average'\", 'Interview | Virat is the best batter in the world and Rohit is great for the game, says Dr. Ali Bacher', 'BAN vs NZ second Test | Rain washes out second day play in Mirpur', 'Saha — from India’s best gloveman to Tripura’s mentor-in-chief', 'Pujara, the pitch-whisperer with a better strike rate than Compton ', 'Watch | How is a cricket bat made?', 'ICC rankings | Ravi Bishnoi becomes world’s No.1 T20I bowler', 'Mushfiqur Rahim becomes first Bangladesh batter to be out for ‘obstructing the field’', 'New Zealand eye comeback final Test win in Bangladesh', 'Bavuma, Rabada rested for white-ball series against India', 'Khawaja disagrees with Johnson, says Warner and Smith are heroes', 'West Indies successfully chases down target of 326 vs England in 1st ODI; Hope hits 109 not out', \"Rinku is contender for T20 World Cup spot, but it's too early: Ashish Nehra\", 'Any cricketer not inspired by Cummins is in wrong game: Ian Chappell', 'Jofra Archer set to miss IPL 2024 as ECB looks to manage his workload ahead of T20 World Cup', 'IND vs AUS T20Is | Shreyas, Mukesh and Bishnoi shine as Men in Blue clinch a humdinger', 'PCB chief selector Riaz reverses decision, removes Butt from national selection panel', 'Vijay Hazare Trophy 2023 | Bowlers set up Kerala’s win over Pondicherry; Tripura beats Mumbai', 'IND vs AUS T20Is | The last match in Garden City is expected to reach a crescendo', 'Warner included in settled Australia squad for first Pakistan test', 'IPL has given me confidence to remain calm under pressure: Rinku Singh', 'BAN vs NZ first Test | Taijul Islam’s 10-wicket haul secures 150-run win over New Zealand', 'T20 series win is something to give fans to cheer about after disappointing World Cup loss in final, says Ruturaj Gaikwad', 'Bangladesh beat New Zealand by 150 runs in first Test', 'India bounces back to take an unassailable lead', 'Ganguly bats for Rohit Sharma as Indian captain till 2024 T20 World Cup', 'Mitchell Marsh defends picture of resting feet on World Cup trophy, says he would do it again', 'Dominica withdraws from hosting 2024 T20 World Cup matches', 'Rohit, Suryakumar and Rahul named skippers for SA series', '‘It’s a great feeling,’ says Shubman Gill on becoming new Gujarat Titans skipper', 'IND vs AUS T20Is | Ruturaj Gaikwad — racking up the runs in true classical style, with a touch of artistry', 'Vijay Hazare Trophy 2023 | Dinesh Karthik shows his class, sets up Tamil Nadu’s win against Baroda', 'Vijay Hazare Trophy 2023 | Kerala eases past high-flying Tripura', 'Dravid & Co. reappointed for another term', 'An all-time XI: When players drop out, it’s a sign of progress', 'Glenn Phillips scalps four wickets as Kiwis restrict Bangladesh to 310/9 on first day of Sylhet Test', 'Namibia qualify for men’s T20 World Cup 2024', '‘He is doing everything right’: Simon Katich showers praise on Rinku Singh', 'IND vs AUS third T20I | Maxwell’s big show eclipses Gaikwad’s ton, helps Australia stay in the hunt', 'BAN vs NZ first Test | Phillips takes 4 wickets after Mahmudul Hasan’s good start', \"When Kohli's wicket fell, stadium felt quiet like library: Pat Cummins\", \"New Zealand prepares for 'strong' Bangladesh in first Test\", 'IND vs AUS third T20I | Upbeat India will be keen to seal the series straightaway', 'Vijay Hazare Trophy 2023 | Tripura stuns Saurashtra with fifties from Das, Chatterjee, Satish and Joydeb’s five-for', 'Vijay Hazare Trophy 2023 | Sandeep Warrier and Natarajan share the spoils in Tamil Nadu’s facile win over Bengal', 'India will be serious challenger for 2024 T20 World Cup title: Ravi Shastri', 'West Indies veteran Darren Bravo takes break from cricket following England ODIs snub', '‘India played their best cricket in World Cup’: Brian Lara', 'IND vs AUS second T20I | India’s batting might proves too strong for Australia', 'Hardik Pandya retained by Gujarat Titans, for now', \"Mumbai Indians have struck gold: Ashwin on Pandya's potential return to his old franchise\", 'IND vs AUS T20Is | I have a role in the team and a clear mindset: Tilak Varma', 'IND vs AUS T20Is | India will look to fix bowling issues, and extend the lead', 'It was a big thing when PM Modi came to console us after World Cup final loss: Suryakumar Yadav', 'Vijay Hazare Trophy 2023 | Sai Sudharsan, Dinesh Karthik set up Tamil Nadu’s win against Goa', 'Is Hardik Pandya leaving Gujarat Titans for Mumbai Indians ahead of IPL auction?', \"Australian spinner Nathan Lyon mocks ''Bazball''\", 'Pakistan all-rounder Imad Wasim retires from international cricket', 'Aerial artist, finance whiz, World Cup top-scorer: meet Sybrand Engelbrecht', 'IND vs AUS | Good chance for Ishan Kishan to cement his place in T20Is', \"Kerala cricketer Minnu Mani to lead India 'A' Women T20I team against England 'A' Women\", \"Women's Premier League auction to be held in Mumbai on December 9\", 'Vijay Hazare Trophy | Coach Sulakshan Kulkarni’s homecoming to Thane Dadoji Konddev Stadium', 'India vs Australia, 1st T20 | Just played fearless cricket, Ishan helped me really well, says Suryakumar', \"Afghan spin king Rashid Khan out of Australia's BBL with back injury\", \"Rohit Sharma doesn't need to be taught to score hundreds, Ashwin backs skipper\", 'Vijay Hazare Trophy 2023 | Kerala pips Saurashtra in low-scoring thriller', 'IND vs AUS first T20I | Skipper Suryakumar’s brilliant knock trumps Inglis’ spell-binding ton in a humdinger', 'England all-rounder Ben Stokes to miss IPL 2024, confirms Chennai Super Kings', 'Pat Cummins | The atypical Aussie captain', 'Former West Indies player Marlon Samuels banned from all forms of cricket for six years for anti-corruption code violation', 'Vijay Hazare Trophy | Saurashtra will be the team to beat, takes on Kerala in its opener', 'Vijay Hazare Trophy | T20 rivalry set to filter into the one-day format as Punjab, Baroda face off again', 'Disheartened India couldn’t win the World Cup: Kapil Dev', 'IND vs AUS T20Is | There’s always light at the end of the tunnel, says Suryakumar Yadav', 'IND vs AUS T20Is | Chance for youngsters to test their skills against a quality side', 'Gautam Gambhir back in Kolkata Knight Riders as mentor', 'Umar Gul, Saeed Ajmal appointed as Pakistan pace, spin bowling coaches', \"ICC moves men's U-19 World Cup from Sri Lanka to South Africa\", \"Australia's David Warner withdrawn from T20 series against India\", \"Country stands with them today and always: PM Modi on team India's cricket World Cup loss\", 'Suryakumar to lead a young India T20I team against Australia; Axar returns, no place for Samson', 'What led ICC to suspend Sri Lanka Cricket? | Explained', 'Pakistan Cricket Board names Wahab Riaz as new chief selector', 'The silent treatment speaks poorly of the fans in our stadiums ', \"Warner won't take central contract but looks to play white-ball cricket till 2025 Champions Trophy\", 'Your talent was special, says Ganguly in letter to Sehwag', 'Jhulan’s tribute to Edulji, Jayawardena salutes Aravinda', 'Australian third division club cricketer takes six wickets in six balls', \"India's Virender Sehwag, Diana Edulji and Sri Lanka's Aravind D'Silva enter ICC's Hall of Fame\", 'ICC World Cup | Best wishes to Team India for semis: PM Modi', 'Captaincy has not been a burden for me: Babar Azam', \"ICC suspends Sri Lanka's membership over government interference\", 'Watch | How is a cricket ball made?', 'New Zealand Test cricketer Henry Nicholls to face ball tampering charge', 'Meg Lanning — all-time batting great and captain fantastic', 'Jos Buttler keen to continue as white-ball skipper', 'Australia captain Meg Lanning quits international cricket after winning 7 World Cup titles', 'From Tunbridge Wells to the Wankhede: the relationship between superstitions and cricket', 'Shubman Gill, Mohammed Siraj attain top spots in ICC ODI rankings', 'Diana Puketapu-Lyndon becomes first female chair of New Zealand Cricket', 'Shakib was right, but he made the less honourable choice', 'Mitchell Santner, Rachin Ravindra return as New Zealand name spin-heavy Test squad for Bangladesh tour', 'Angelo Mathews ‘timed out’ | The 10 ways of getting dismissed in cricket', 'Syed Mushtaq Ali Trophy Final 2023 | Anmolpreet’s ton helps Punjab lift the trophy', 'After a dismal Syed Mushtaq Ali campaign, Tamil Nadu’s focus shifts to Vijay Hazare Trophy', 'Syed Mushtaq Ali Trophy 2023 Semifinal | Punjab and Baroda in the final', 'Syed Mushtaq Ali Trophy Semifinal 2023 | Explosive Punjab meets consistent Delhi', 'Inzamam steps down as Pakistan chief selector mid-World Cup', 'Matthew Wade to lead Australia in T20 series against India', 'India got its first part right and now the second act shimmers into view', \"Bangladesh's Shakib booed by home fans on World Cup break\", 'Laxman likely to be in-charge for Australia T20I series post World Cup', 'Gill and Siraj close in on ODI top spots in ICC rankings', 'Amol Muzumdar appointed as head coach of the Indian women’s team', 'Bishan Singh Bedi | Indian left-arm spinners pour tributes to the greatest of them all ', 'Murali Kartik says he is what he is only because of Bishan Singh Bedi', \"He 'bowled us over with ultimate spin ball', says Angad Bedi after demise of father Bishan Singh Bedi\", 'Bishan Singh Bedi, former India captain and legendary spinner, passes away at 77', 'Syed Mushtaq Ali T20 Tournament | Saurashtra rides on Harvik’s ton to beat Manipur', 'Shreevats Goswami retires from First Class cricket', 'Shane Bond parts ways with Mumbai Indians', 'Sri Lanka lifts ban on cricketer Danushka Gunathilaka after acquittal of rape charges in Australia', 'Purpose of including cricket was to bring high-profile players: IOC president Thomas Bach', 'Cricket, squash among 5 sports included in 2028 Los Angeles Olympic programme', 'New Zealand players meet school students in Chennai under UNICEF initiative', '\"This should hurt Pakistan\": former Pakistan cricketer Ramiz Raja on Pakistan\\'s 7-wicket defeat', \"Man Utd fan Jasprit Bumrah stunned by 'temple celebration' going viral\", 'CWC 2023 | KL Rahul wins \"Gold Medal\" by team for best fielding against Pakistan', 'India and Afghanistan should have shared Asian Games gold, says Afghan pacer Fareed Malik', 'Cricket at the Olympics – good news all around for a sport going global', \"Cricket set to be included in Olympics, ICC 'delighted' after Los Angeles 2028 recommends inclusion\", 'Hangzhou Asian Games cricket | Indian men clinch gold without having to bat', 'Hangzhou Asian Games cricket | Washington and Sai Kishore help India trump Bangladesh, to face Afghanistan in the final', 'How serendipity led to sticky success for 3M’s Ramesh Ramadurai', 'Supreme Court to hear curative petition by Centre, AAI in Nagpur airport case', 'Ashok Leyland is on track to achieving mid-term goal, says Dheeraj Hinduja', 'Skill India Mission trained, upskilled 1.4 crore youth: FM', 'Australian menswear brand ‘aussieBum’ introduces products in India']\n",
            "\n"
          ]
        }
      ]
    },
    {
      "cell_type": "code",
      "source": [
        "print(cluster_sentence)"
      ],
      "metadata": {
        "colab": {
          "base_uri": "https://localhost:8080/"
        },
        "id": "u00qaXa9yjV6",
        "outputId": "12a0f4d1-6cb4-4080-fd34-1fb0ca61f6ef"
      },
      "execution_count": 40,
      "outputs": [
        {
          "output_type": "stream",
          "name": "stdout",
          "text": [
            "[['Fixing food could produce trillions in annual benefits: report', 'Urbanisation in Bhubaneswar impacts winter surface temperatures', 'India will ‘commission a nuclear power reactor every year’: NPCIL chief', 'Why are tubeless tyres not popular in India?', 'With pooled procurement, drugs cost 82% less', 'Could sisal leaves make sanitary napkins more sustainable in India?', '2024 to be a year of Gaganyaan readiness: ISRO Chairman', 'Missing TB cases in the private sector', 'Levy 20-30% health tax on food high in sugar, salt, fat: study', 'Bezos hopes Amazon strategy will help Blue Origin top SpaceX', 'India’s extreme rain was restricted to a ‘corridor’ during 1901-2019 | Explained', 'IIT-Madras researchers find home use products cause microplastic pollution', 'Building Blocks', 'COP28: will there be an agreement to phase out fossil fuels?', 'Could COP28 help UAE become a post-oil economy? | Explained', 'Indian drug manufacturers benefit from Big Pharma interest beyond China', 'Eight months on, States wait for 3HP TB preventive drug', 'Space sector reforms provided ‘enabling milieu,’ says Union Minister Jitendra Singh', 'Modest start to big strides: India’s space programme turns 60', 'Some houses are being built to stand up to hurricanes and sharply cut emissions, too', 'Japan provides up to $80 million subsidy to moonshot startup ispace', \"India's Agnikul raises 2 billion rupees more ahead of first rocket launch\", 'Rising number of ‘predatory’ academic journals undermines research and public trust in scholarship', 'The Silent Killer: tackling hypertension in India', 'India is running out of phosphorus. Does the solution lie in our sewage?', 'Libya dam collapse: engineering expert raises questions about management', 'One-third of TB patients received no payment for nutrition support', '23 private companies in race for SSLV technology transfer from ISRO', 'Smooth operation of Liquid Apogee Motor engine critical to Aditya-L1 success', 'Health Ministry withdraws fiat mandating doctors prescribe only generic drugs', 'Karnataka CM Siddaramaiah visits ISRO, felicitates Chairperson S. Somnath', 'Pipeline work leads to vast megalithic site in Kerala', 'ISRO achieved record high in last one year, says Chairperson S. Somanath', 'Explained | How One Health can help India respond better to health crises', 'Can small modular nuclear reactors help India achieve net-zero?', 'Tuberculosis: over 85% cure rate seen in modified BPaL regimen trial', 'Semiconductor tech: What exactly is India going to manufacture?', 'Indian group proposes radical new way to settle universe expansion dispute', 'Explained | North India’s monsoon mayhem is a confluence of factors', 'ISRO to transfer SSLV to private sector', 'Downside of living in high-rise buildings', 'Tamil Nadu has turned it around and is sitting pretty', 'Sai Kishore proves too hot to handle for Chandigarh', 'CBI closes 2019 IPL betting cases over lack of evidence', 'India in South Africa: India penalised for slow over-rate', 'Watch | RCB at IPL Auction 2024: Hit or miss?', 'IPL Auction 2024 | Siddharth finds his way back into the fold', 'Big Ticket IPL 2024 auction to get underway in Dubai', 'IPL Auction 2024 | Bidding war on the cards for big-ticket acquisitions', 'IPL Auction 2024 | The franchises’ shoppinglist', 'Vrinda Dinesh not worried about price tag, wants to give her best in the WPL', 'WPL auction will not be a distraction for us: Harmanpreet Kaur', 'My job is to ensure the system’s overall development, says Robin Singh about his stint with the TNCA', 'Black marketing of World Cup tickets: Kolkata police seeks response from CAB', 'Brook, Root among players to get ECB multi-year central contract; Stokes in one-year category', 'Women’s Premier League | Chaffing at its last-place finish Giants opt for wholesale changes', 'Rupee falls 4 paise to 83.12 against U.S. dollar in early trade', 'India fears losing out to China in smartphone exports race', 'Buyers have fewer choices as brands cut offerings to focus on best sellers', 'BHEL reports ₹149 crore net loss in Q3', 'JSW Steel, JFE Corporation to set up electrical steel facility in India with ₹5,500 crore investment', '‘Nutraceuticals market size likely to double in 5 years’', 'Thorny clause in ripening India-European Free Trade Association deal may hit generic drug industry', 'IRDAI issues exposure draft on Bima Sugam e-marketplace for insurance', 'Wipro picks up 60% stake in U.S. firm Aggne Global for $66 mn', 'Ashok Leyland invests ₹537 cr. in U.K. subsidiary', 'Surge in demand for vehicles drove Q3 profit: Bosch', 'Food factor may hold up further price rise relief', 'OPEC sticks to oil demand view, sees better economic growth', '‘We must act now’: IT Ministry fears losing out to China, Vietnam in smartphone exports race', 'OpenAI executives discuss election misinformation and safety with civil society in India', 'Stocks decline in early trade; Paytm shares hit record low', 'Rupee marginally falls to 83.01 in early trade', 'Gas booming for UN COP29 host Azerbaijan', 'Hygiene and sanitation rating system for the hospitality sector yet to take off', 'Decoding India’s economic realities: Comparing the state of the economy under the NDA and UPA governments', 'JSW Group said to plan making EVs at Odisha in 3 years', 'Manali Petro Q3 net affected by dumping and cyclone', 'Repco Home Finance Q3 standalone net rises 23% to ₹99 cr', 'Park Hotels parent gets listed at over 20% premium', 'DGAQA approves making Airbus C295 detailed parts, assemblies in India', 'LIC raises stake in SBI Cards ', 'SC issues notice on GST’s anti-profiteering provisions', '‘No review on the cards for Paytm Payments Bank curbs’', \"Steel Authority of India's Q3 profit drops as imports dent sales, prices\", 'R&D facility of Dr. Reddy’s in Hyderabad gets VAI classification of U.S. FDA', 'December rang in mild recovery in industrial output', 'RuPay, UPI payment services rolled out in Mauritius, Sri Lanka', 'RBI Governor Shaktikanta Das rules out review of action against Paytm Payments Bank', 'Market benchmarks tumble on profit booking', \"UPI payment services launched in Sri Lanka, Mauritius; PM Modi describes it as 'special day'\", 'Stock market sees volatile trading in morning session', 'Time for European Central Bank rate cuts fast approaching: Panetta', 'Farmers’ income will be increased with innovative schemes: Himachal CM Sukhvinder Singh Sukhu', 'Duty concession on gold will be major concern for India under proposed FTA with Peru: GTRI', 'FPIs infuse over ₹15,000 crore in debt market in February', 'RBI sticks to its mandate to curb inflation by keeping rates unchanged', 'Panasonic to develop India operations into export hub', 'India should not become sicker before it becomes richer: Chief Economic Adviser', 'U.S. FDA issues inspection report with VAI to Dr. Reddy’s plant ', 'Aurobindo Pharma Q3 net surges to ₹940 crore ', 'Manmohan Singh missed the reforms bus as PM: FM Nirmala Sitharaman', 'Red sea disruptions cost exporters dear', 'JSW Group to set up EV manufacturing industrial complex in Odisha with investment of ₹40,000 crore', 'Tata Steel’s Kalinganagar, Meramandali plants in Odisha receive Responsible Steel certification', '‘India’s AVGC-XR sector to become $26-bn industry by 2030’', 'TVS Motor plans roll out of slew of products in ICE, EV segment', 'EPFO to marginally hike interest on PF deposits to 8.25%', 'One Point One Solutions Q3 PAT grows three times to ₹5.97 crore', 'Pitti Engineering Q3 PAT up 10% to ₹13.32 crore', 'INDIA bloc calls White Paper document a ‘political manifesto’', 'Fugitive economic offenders will be extradited: FM in reply to White Paper debate in Lok Sabha', 'Kennametal India Q2 net profit rises 14% to ₹24 cr.', 'Va Tech Wabag Q3 consolidated net up 35% to ₹63 cr.', 'Vedanta says completed repayments to bond holders', 'TBO Tek plans to expand in North America, Europe', 'Watch | P. Chidambaram: ‘When we come to power GST will be reformed; States will be empowered’', 'MRF Q3 net surges threefold to ₹508 cr. on sales', 'Murugappa group EV arm plans next round of fund raise', 'Rane group to merge 2 units with Rane (Madras)', 'RBI raises wage ceiling for Non Executive Directors of banks to ₹30 lakh', 'Pizza Hut India operator reports biggest profit fall since listing', 'Petronet draws ₹40,000 cr. investment plan to treble profit by 2028', 'Disruptions in Red Sea route likely to raise freight and forwarding cost by 25-30%: Report', 'OpenAI hits $2 bln revenue milestone: Report', 'Supreme Court plea wants govt to allow MGNREGA workers to choose how they want their wages paid', 'Small tea growers in Nilgiris demand creation of corpus fund', 'What are the regulations with respect to rice prices? | Explained', 'The Paytm Payments Bank debacle | Explained', 'Ramco Cements Q3 standalone net up 39% to ₹93 cr.', 'External sector of economy remains resilient, CAD to be eminently manageable, says Das', 'Airbus contracts Bengaluru firm for assembly of doors for A220 Family aircraft', 'Rane Holdings posts consolidated profit of ₹48 cr. in Q3', 'India biggest GitHub centre after U.S., says Microsoft’s Nadella', 'TNCPL secures ₹23-crore worth orders', 'Action is against Paytm Bank, not app, clarifies RBI Dy. Governor ', 'RBI asks banks to extend KFS facility to retail, MSME borrowers', 'Show sensitivity to exporters in view of Red Sea crisis: Finmin to PSU banks', 'LIC net rises 49% in Q3 to ₹9444 cr., declares ₹4 interim dividend ', 'Apollo Hospitals Q3 consolidated net up 57% to ₹254 cr.', \"Parliament panel suggests govt to seek 3 years deferment on EU's carbon tax for MSMEs\", 'White paper on the economy | We rescued the economy from crisis, says government', 'Rupee settles on a flat note at 82.96 after RBI monetary policy decision', 'Stock markets tumble 1% after RBI monetary policy decision; bank stocks drag', 'RBI says no systemic worries, action on Paytm due to \"persisted non-compliance\"', 'CAD for 2023-24, 2024-25 to be eminently manageable: RBI Governor Shasikanta Das ', \"RBI pegs FY'25 GDP growth at 7% on improved consumption demand, private capex spends\", \"Markets climb in early trade ahead of RBI's interest rate decision\", 'SEBI proposes ways for deregistered offshore funds to dispose of securities', 'RBI’s MPC keeps repo rate unchanged at 6.5% to bring down inflation, support growth', 'Panchayats in India earn only one per cent of their revenue through taxes: Data', \"Argentina's President weighs next steps after economic reform bill setback\", 'UAE wealth fund said to plan $4-5 bn investments via India’s new finance hub', 'Uncertainty creeps back into Treasury market after Fed, blockbuster data', 'European Union wavers over funding UNRWA amid financial collapse fears', 'India-China bilateral trade hit a new record in 2023: Envoy', 'IRDAI moots changes to insurers rural, social sector, motor TP obligations  ', 'Realty firm Square Feet Group to invest ₹1,500 crore in 4 projects', 'Diversification of fuel-import sources keeping fuel prices affordable in India: Puri', \"India plans to protest EU's carbon tax at WTO meeting: sources\", 'With China’s help, Maldives plans to lower dependence on India in tourism, trade and healthcare: Data', 'Gold jumps ₹170; silver plunges ₹300', 'Govt. has set up a task force to resolve non-tariff barriers: Piyush Goyal', 'Microsoft’s sales pitch for Artificial Intelligence in India: move fast or be left behind', 'Torus Robotics secures USD 470,000 seed investment from T.N. Infrastructure Fund Management Corporation', 'Paytm shares climb for 2nd day; jump 10%', 'Markets climb for second day running on buying in State Bank of India, Reliance', 'Rupee rises 2 paise against US dollar in early trade', 'Paytm Founder Vijay Shekhar Sharma meets Finance Minister Nirmala Sitharaman', 'Drawing customers no mean task for consumer brand start-ups offering sustainable products', 'India to stay alert for ‘hot money’ after bond index inclusion: official', 'With solar industry in crisis, Europe in a bind over imports from China', \"UPI payments hit due to glitch in some banks' systems\", 'Nexus Select Trust achieves 8% YoY growth in tenant sales ', 'Arrest of Chanda Kochhar, Deepak Kochhar by CBI illegal: Bombay High Court', 'Thermax to acquire 51% stake in TSA Process Equipments', 'EID Parry India Q3 consolidated net halves to ₹217 cr.', 'Jindal group’s announcement of setting up unit in Tiruchi district seen as a game changer', 'India’s tax-to-GDP ratio to hit a record high of 11.7% of GDP in 2024-25: Revenue Secretary', 'Inflation within tolerance band; government taking steps to check price rise: Nirmala Sitharaman', 'Gold falls ₹150; silver tumbles ₹600', 'Rupee settles 2 paise lower at 83.05 against U.S. dollar', 'Sensex rebounds 454 points on buying in IT shares, foreign fund inflows', 'India to see investment of $67 billion in next five to six years in energy sector: PM Modi', 'HDFC Bank gets RBI nod to acquire up to 9.5% stake in ICICI Bank, 5 others', 'Home broadband growth sluggish, even as per-user consumption increases', 'Money laundering case | SC upholds HC’s order of quashing of ECIR against Suresh Venkatachari', 'Markets trade firm on buying in IT stocks', 'Rupee turns flat at 83.03 against U.S. dollar in early trade', 'China’s tumbling prices push some exporters to the brink', 'Indian village fair gives new lease of life to electronic scrap', '‘Rigid, statutory fiscal targets are getting discredited globally,’ says Finance Secretary', 'IRDAI moots consolidation, changes to norms relating to insurer registration, capital, shares ', 'Track, trace system roll out for drug formulation exports extended again', 'TVS Supply Chain turned ₹10 crore profit in Q3', 'CII unveils guidelines on appointment of independent directors', 'Bharti Airtel misses Q3 profit estimate as higher costs weigh', '‘States welcome private investors, but push back on PSU privatisation’', 'Cholamandalam Financial Holdings Q3 net rises 43% to ₹1,027 cr.', 'Ashok Leyland Q3 net profit rises 60% to ₹580 cr.', 'Anarock raises ₹200 crore from 360 One Asset Management', 'Aurobindo Pharma arm in U.S. to dispose business assets for $52 million ', 'LIC unveils unit linked policy Index Plus ', 'Sundaram Finance Q3 net rises 24% to ₹300 cr.', 'ED probing Paytm and bank unit over currency transactions: sources', 'Jammu and Kashmir Interim Budget | Sitharaman proposes ₹1.18 lakh crore for 2024-25', 'Govt has collected Rs 600 cr penalty for delay in PAN-Aadhaar linking; 11.48 cr PANs not linked yet', 'Rupee falls eight paise to settle at 83.06 against U.S. dollar', 'Stock markets settle lower on fag-end selling; Reliance, Airtel drag', 'Govt seeks Lok Sabha nod for net additional spending of ₹78,673 crore this fiscal', \"India's January services PMI hits 6-month high amid strongest upturn in new business since mid-2023\", 'IOC, BPCL, HPCL post ₹69,000 crore net profit in April-December, higher than pre-oil crisis annual earnings', 'States to play a critical role in next generation reforms: CEA Anantha Nageswaran', 'Thales Group to expand strategic collaborations, set up MRO for civil aviation in India', 'CBI charge sheets former Air India CMD, IBM & SAP in software purchase irregularities', \"Red Sea crisis | Costs up, but no adverse impact on India's trade so far, says official\", 'Paytm Payments Bank meltdown, its meaning | Explained', 'RBI restriction on Paytm: CAIT advises traders to switch from Paytm to other payment apps in light of RBI action', 'Pune, Chennai and Kolkata are on IKEA’s radar', \"Focus to be on concluding ongoing strategic sales in FY'25: DIPAM secretary\", 'Toyota to outshine rivals as more consumers opt for hybrids amid EV slowdown', 'Finnish phone maker says Nokia, HMD brands will co-exist', '‘Expect GST Appellate Tribunals by around July or August’', 'SBI Q3 net slips 35% on wages, pension', 'One Nation, One Election to improve govt efficiency, foster economic development: CII', 'To curb price rise, Centre tells traders, millers to declare rice stocks on government portal', 'Sundaram Home Finance Q3 net up 18% to ₹62 cr.', '‘Seek professional advice in retirement planning to avoid scam’', 'Vihang Group sells 200 flats worth ₹150 crore in over a week', \"India's lower fiscal deficit target a 'surprise' – ICRA's Nayar\", 'KYC issues, money laundering concerns said to have led to RBI order on Paytm’s bank', 'Jana Small Finance Bank IPO to open on Feb 7', 'NMDC logs best ever January iron ore sales  ', 'Capital Small Finance Bank fixes IPO price band at ₹445-468', 'Interim Budget 2024 | Thrust for PM Vishwakarma Scheme, cluster projects for MSMEs', 'IRDAI mandates AYUSH options in health covers from April 1 ', 'Tata Motors Q3 net profit surges over two-fold to ₹7,025 crore', 'India Cements incurs net loss of ₹17 cr. in Q3', \"Investors have no voting rights on CEO change: BYJU'S\", 'Markets rebound on firm global trends; Nifty hits lifetime peak', 'Rupee rises 7 paise to close at 82.91 against U.S. dollar', 'In videos | Highlights and key features of Interim Budget 2024', 'CBDT says 56 lakh updated ITRs filed; ₹4,600 crore taxes mopped up in two years', 'Paytm shares tank another 20%; hit fresh lower circuit limit', 'Rupee rises 16 paise to 82.82 against U.S. dollar', 'Nifty hits all-time high level; Sensex jumps over 1,400 points', 'Continued focus on infrastructure, inclusive development', 'Budget 2024 | Expenditure on welfare schemes cut or remain stagnant, say Left parties', 'Budget 2024 | The pace of fiscal consolidation took everyone by surprise', 'Budget 2024 | Expansion of capex outlay will boost infra sector', 'Budget 2024 | An action-oriented Budget, with the mantra of reforming, performing and transforming India', 'Byju’s U.S. unit files for bankruptcy in Delaware', 'Budget 2024: Prudent as expected with promise of bigger things', '2024 Interim Budget | After PM Modi’s call, Centre’s measure for social justice progress focuses on poor, women, youth, and farmers', 'Ignoring an agricultural sector in distress', 'Interim Budget 2024 — in campaign mode', 'A case of capex under the ‘macroscope’', 'Interim Union Budget 2024 | Taxes', 'Interim Union Budget 2024 | Infra outlays', 'Interim Union Budget 2024 | Economy', '2024 Interim Budget | Biased in favour of rich: Chidambaram', 'Puffed-up and poll-ready: Nirmala Sitharaman’s first Interim Budget', '2024 Interm Budget | Allocations for Social Justice and Tribal Affairs Ministries see a marginal increase', 'Budget 2024 | Three economic rail corridors on the anvil', 'Watch | Highlights of interim budget 2024', 'Interim Budget 2024 | ₹1 lakh crore fund to help India leapfrog in deep-tech', 'Experts back plan to add 2 crore homes under PMAY-Rural', '2024 Interim Budget | Allocation for Minority Ministry remains same', 'Interim Budget enthuses startups with extension of tax expiry exemption by a year', 'Government moots ₹1 lakh-crore corpus for research and development in interim Budget', 'Rise in allocation for school, higher education in interim Budget', 'Budget for Census slashed, population count may not take place in first quarter', 'Industry welcomes Centre’s plans to augment electric vehicle ecosystem', 'Budget 2024 | Government to withdraw certain long-pending, un-reconciled direct tax demands', '2024 Interim Budget | Government to consolidate the demand of three Services in defence allocation', '2024 Interim Budget | Fertilizer subsidy set to decline, food subsidy sees increase', 'Interim budget increases target for Lakhpati Didi scheme', '60% cut in allocation for regional air connectivity scheme in Interim Budget', 'Budget breakdown: Which sectors gained and lost in the Interim Budget | Data', 'Budget 2024 | Key stock indices end in red', 'Honourable mention for bioeconomy in Interim Budget, with trillion-dollar potential in mind', 'Budget 2024 | One crore households to get 300 units free electricity every month through rooftop solarisation', 'Interim budget 2024: textile industry expresses disappointment', 'Budget 2024: PM Poshan, Samagra Shiksha allocations much lower than pre-pandemic years | Data', '2024 Interim Budget | Marginal rise in allocations for farming, fisheries', 'Key takeaways from interim Budget 2024-25 in charts', 'Budget 2024: Spending on rural development increases marginally, but not all schemes benefit | Data', 'Budget for Census slashed, population count may not take place in first quarter', '2024 Interim Budget | Space gets nominal hike, likely boost for spaceflight start-ups', 'India negotiating bilateral investment treaties with different countries to promote foreign inflow: FM', 'Interim Budget 2024: Spending on IITs and IIMs declines as a share of total Budget | Data ', '2024 Interim Budget | India increasing allocation for Maldives, ₹400 crore revised to ₹770.9 crore', 'Budget 2024 | Road sector budget sees a nominal hike of 2.7%', 'FM Nirmala Sitharaman delivers her shortest Budget speech till date', 'Interim Budget 2024 | Govt to come out with White Paper on mismanagement of economy prior to 2014, says Sitharaman', 'Where does the money come from and where is it allocated?', 'Analysis | Nirmala Sitharaman’s interim Budget reveals BJP’s confidence in comeback', 'Budget 2024 | Branding and marketing of iconic tourist destinations to push tourism', 'Cabinet approves bilateral investment treaty with U.A.E.', 'Cabinet clears marketing margin for supply of domestic gas to urea plants', 'Government approves extension of subsidy scheme on sugar supplied to AAY families by 2 years till March 2026', '2024 Interim Budget | Net zero gain for job guarantee scheme', 'Kerala’s ruling front and Opposition slam Centre’s Interim Budget as political exercise in futility', '2024 Interim Budget | Inclusive, innovative, sign of continuity: PM Modi', 'Union Budget | Centre to expand electric vehicle ecosystem to support charging infra', 'Interim Budget 2024: Highlights', 'Interim Budget 2024 | Viability gap funding to be provided for 1 GW offshore wind energy: FM Sitharaman', 'A new scheme to develop deep tech for defence purposes: Finance Minister', 'Interim Budget 2024-2025 documents presented by FM Nirmala Sitharaman', 'All outstanding direct tax demands upto ₹25,000 for period up to FY2009-10 withdrawn; will benefit 1 crore taxpayers', 'Higher budgetary support for cotton procurement by the Cotton Corporation of India', 'Revised fiscal deficit for 2024-25 at 5.1% against 5.8% in FY24, says FM Nirmala Sitharaman', 'Interim Budget 2024 | ASHA, anganwadi workers and helpers gets health cover under the Ayushman Bharat Pradhan Mantri Jan Arogya Yojana ', 'No change to direct and indirect tax rates: Finance Minister in Budget Speech', 'Budget 2024 | New scheme for affordable middle class housing', '38 lakh farmers benefited from PM Kisan SAMPADA Yojana, says FM Sitharaman', 'Global affairs becoming more complex, challenging with wars: Finance Minister in Budget Speech', 'Three new economic corridors for railways, says Finance Minister in speech', 'Govt to launch new scheme to strengthen deep-tech for defence sector: FM', 'Union Budget | India close to achieving target of 3 crore houses under rural housing scheme, says Finance Minister', 'Union Budget | 300 units of free electricity per month for 1 crore houses under rooftop solar project, announces Finance Minister', 'Govt to focus on vaccination against cervical cancer, announces Finance Minister Nirmala Sitharaman', 'Govt to take up next-generation reforms to facilitate growth: Sitharaman', 'DBTs totalling Rs 34 lakh crore resulted in savings of Rs 2.7 lakh crore to govt: Finance Minister in Budget Speech', 'Union Budget | Proactive inflation management helps keep inflation within manageable level: Sitharaman', 'Working to make India a developed nation by 2047: Sitharaman', 'Union Budget | Indian economy witnessed profound positive transformation in last 10 years, says FM Nirmala Sitharaman', 'IndiGo asks flyers not to share PNR on social media after techie conned by cyber thugs', 'Markets turn highly volatile post Budget presentation', 'Interim Budget 2024 | Sensex gave positive returns to investors 4 times during last 5 Budget days', 'Energy traders, shippers grapple with Red Sea fallout as oil-freight costs swell', 'State-backed ‘national team’ of investors piles in to prop China stocks', 'Wipro said to be set to lay off several mid-level execs at Capco', 'Apeejay Surrendra Park Hotels fixes IPO price band at ₹147-155', 'boAt ties up with Shoobhi Foundation for CSR initiative', 'Maruti beats Q3 profit view on strong SUV sales', 'Coromandel’s board approves new chemical plants in Kakinada ', 'Rane Engine Valve turned a profit of ₹3.5 cr. in Q3', 'With one quarter to go, fiscal deficit at 55% of target', 'GST revenues rev up to second-highest ever in Jan.', 'Sun Pharma Q3 net profit rises 16.52% to ₹2,524 crore', 'Bank of Baroda Q3 PAT rises 19% to ₹4,579 crore', 'Indel Money unveils public issue of secured NCDs of ₹200 crore', 'CUMI Q3 consolidated net remains flat', 'Interim Budget: Kerala keeping its fingers crossed', 'Core sectors’ growth hit 14-month low in December', 'Rupee closes stronger, outperforms major Asian peers in January', 'How is the interim Budget different from Annual Budget? | Explained', 'Japan’s third largest financial services group establishes its global business centre in Chennai', 'Duty cut on mobile parts to positively impact end-pricing of smartphones', 'Union Budget 2024 live streaming: When and where to watch Finance Minister Nirmala Sitharaman’s Budget speech', 'Centre’s capex thrust will continue because the private investment remains weak: Former Niti Aayog VC Rajiv Kumar', 'Kore.ai secures $150 million investment from FTV Capital', \"India's gold demand to rise in 2024 despite subdued March quarter: WGC\", 'Aquaconnect raises ₹33 crore in pre-series B funding round led by S2G Ventures', 'Markets bounce back after weak beginning', 'President clears members’ names; 16th Finance Commission all set to kick off', 'Import duty slashed for mobile phone components to 10%', 'Rupee trades in narrow range against U.S. dollar', 'California and Big Oil are parting ways after their century-long affair', 'IMF says global ‘soft landing’ in sight, lifts 2024 growth outlook', 'CREDAI-MCHI Property Expo attracts 25,000 visitors, over 185 flats booked', 'Shanthi Gears Q3 standalone net remains flat at ₹17 cr.', 'Dr. Reddy’s Q3 net rises 11% to ₹1,380.9 crore ', 'Coromandel International Q3 net profit plunges to ₹228.11 crore', 'L&T Q3 PAT rises 15% to ₹2,947 crore', 'Rane Brake Lining Q3 standalone net rises 10% to ₹10 cr.', 'Wheels India Q3 net impacted by low demand and floods', 'Roca India to invest ₹400 cr. on capacity expansion in TN', 'Rupee rises 5 paise to 83.11 against U.S. dollar', 'Sensex falls over 1%; Reliance drags', 'Suspended MPs to return as last session of 17th Lok Sabha commences on January 31', 'Budget 2024: Indian Medical Association seeks investment in public sector hospitals', 'India on track to export record-low diesel to Europe in January as Red Sea risks drive up freight costs', 'Budget 2024 | Increase budget allocation on health to 2.5% of GDP: Association of Healthcare Providers', 'Red Sea worries cause spike in refined fuel prices, but the market will adjust', \"Toyota keeps crown as world's top-selling automaker in 2023\", 'Rupee trades in narrow range against U.S. dollar', 'Markets fall in early trade dragged by Bajaj Finance and Reliance', 'Boeing withdraws bid for safety exemption for Boeing 737 MAX 7', 'Sensex rebounds 1.8% as RIL surges almost 7%', 'Goa attempts wooing industries, aspires to be logistics hub', 'BPCL net rose 73% to ₹3,397 cr. in Q3 on market sales, refinery throughput', 'SSKL rolls out ERP system for efficient stock management', 'Gainwell Group plans to invest ₹1,000 crore in group entities', 'Finance Ministry says economy likely to grow closer to 7% in 2024-25', 'Domestic auto component aftermarket expected to touch $14 bn mark by 2028: study', 'Sensex, Nifty jump nearly 2% powered by rally in Reliance Industries, firm Asian markets', 'India to become third largest economy with GDP of $5 trillion in three years: Finance Ministry', \"France wants EU law changes 'this week' to quell farmers' protest\", 'SpiceJet gets over ₹900 cr funding; to focus on fleet upgradation, cost cutting measures', 'Ahead of Budget session, Government convenes all-party meeting on January 30', 'Markets open on strong note; Sensex jumps 503 points', '140 crore Indians are living in anyaay kaal created by BJP: Congress', 'Insurance firm can’t reject claim for reimbursement of medical cost on ground that claimant is diabetic, says consumer commission', 'Relief for rubber growers in Kerala as price incentive scheme is back on track', 'Govt. working on SEZ reforms: Commerce Secretary Barthwal', 'Eicher to roll out LNG variant of heavy duty trucks in a year', 'Companies across APAC ramping up investments in GenAI, says Infosys study', 'Companies across APAC ramping up investments in generative AI: Infosys study', 'HP to launch AI PCs in India by mid calendar 2024', 'Compass Group India targets growth rate of 45% in next three years', 'Yes Bank Q3 PAT grows over threefold on improved asset quality', 'RBI’s guidelines on State ‘guarantees’ on borrowings | Explained', 'LIC gets RBI nod to hold up to 9.99% stake in HDFC Bank', 'Laurus Labs, Slovenia’s Krka to set up pharma JV in Hyderabad', 'LIC gets RBI nod to hold up to 9.99% stake in HDFC Bank', 'SCCL needs to produce 2.27 lakh tonnes of coal daily to meet annual target, says CMD', 'Swiggy looks to cut 350-400 jobs', 'Airbus, Tata team up to set up India’s first private helicopter assembly line', 'SBI removes Religare Finvest’s fraud tag after HC order', 'ITC Infotech embarks on a global footprint expansion spree', 'Nirmala Sitharaman to become the second Finance Minister to present the Union Budget six times in a row', 'Rane (Madras) Mexico facility to make steering components', 'Bruised by stock market, Chinese investors rush into banned bitcoin', 'Zee needs strategy shift to survive after Sony merger plan crumbles', 'Loan guarantees given by governments on a rising trend in 12 States | Data', 'Ducab India signs bilateral pact with Emirates NBD India to avail financing support', 'Microsoft lays off 1,900 employees in its gaming division following Activision Blizzard buyout', 'Has the economy improved in the NDA’s second term? | The Hindu parley podcast', 'HDFC Bank sees period of consolidation as it absorbs mega merger: Sources', 'Zomato Payments gets RBI authorisation to operate as online payment aggregator', 'Essar Oil UK rebrands as EET Fuels', 'Vedanta Q3 PAT falls 18% to ₹2,013 crore', '‘Raise Budget outlays to support Indian exports’', 'Ola says India mobility business turned EBITDA positive in FY23', '‘Rice, marine exports bear brunt for now, but Red Sea woes for India Inc. may worsen’', 'Indian Bank eyes 10-12% credit growth in FY24', 'Chola Investment Q3 net up 28% to ₹876 cr.', 'TVS Holdings consolidated Q3 net up 84% to ₹532 cr.', 'Govt ready to discuss all issues as per rules: Union minister Meghwal ahead of Parliament session', 'Rupee settles 1 paisa higher at 83.11 against U.S. dollar', 'Sensex declines 359 points on selling in IT shares, foreign fund outflows', 'Azim Premji gifts 1 crore equity shares of Wipro worth over ₹480 crore to his sons', 'Markets declines 227 points in early trade dragged by IT stocks, foreign fund outflows', 'China’s attempts to lift confidence in economy fall flat', '‘India to become main driver of incremental oil use by 2030’', 'Bengaluru to function as hub of Thomas Cook’s charter operations for south India', 'Laurus Labs Q3 net slumps', 'Citroen rolls out E-C3 Shine all electric car for ₹13.20 lakh', 'Enterprise Saas firm AiDash raises $50 million in Series C round', 'BLS E-Services sets IPO price band at ₹129-135', 'Cashless facility for policyholders at all hospitals: General Insurance Council ', 'Tata Steel returns to profit, reports Q3 PAT at ₹522 crore', 'Eicher plans to roll out LNG variant of heavy duty trucks in a year', 'Indian Oil Q3 net surges 18-fold to ₹8,063 crore, revenue dips  ', 'TechM reports 61% decline in Q3 net profit', 'Canara Bank Q3 net profit rises 27%', 'Zee asks Sony to immediately withdraw termination of merger, moves NCLT to press demand', 'NMDC raises iron ore prices again, a tonne to cost ₹400 more', 'Flash Jan. PMI signals rebound in economic momentum', 'IOB Q3 standalone net rises 30% on interest income', 'Ahead of Budget, rubber growers up the ante', 'Cabinet approves ₹8,500 crore incentive scheme for coal gasification projects', 'Watch | Explained: India’s new Telecommunications Bill, 2023', 'Cabinet approves ₹8,500 crore incentive scheme for coal gasification projects', 'Sensex surges 690 points to reclaim 71k level', 'Government aiming to increase scrap share in steel making to 50% by 2047 to aid green steel initiative: Scindia', \"Japan's exports surge 10% in December on strong demand for autos, revived trade with China\", 'India business growth at four-month high in January: PMI', 'EU draws up economic security plans, with mind on China', 'Asian stocks gain as potential China rescue package lifts mood', '‘Outrageous’ CEO pay targeted in new bill from Sanders, Democrats', 'Riyadh’s multi-billion Electric-Vehicle dream risks crashing into reality', 'Analysing the rising gap in incomes', 'CREDAI-MCHI to hold Property Expo between 26-28 January in Mumbai', '‘Pandemic lent boost to life insurance’', 'Sensex slides on bank stocks, Zee tumbles', 'ZEEL stock falls 33%', 'LinkedIn: 9/10 from Chennai professionals ready to make bold career move in 2024', 'Sugar production remains less than last year', 'Serum Institute of India joins global network to boost production of affordable outbreak vaccines', 'Transportation, healthcare drove growth in Q3: Tata Elxsi', 'Airtel prepays ₹8,325 cr. to clear high cost deferred liabilities for spectrum acquired in 2015', 'Granules Q3 net rises 1% to ₹126 cr. ', 'Hero MotorCorp says EVs, global expansion is the future', 'Public capex push may slacken in 2024-25', 'Rupee falls 9 paise to close at 83.16 against U.S. dollar', \"Byju's to slash valuation by 90% to raise funds: Report\", 'MRPL posts ₹387 crore net profit in Q3 of 2023-24 against ₹188 crore net loss in 2022-23', 'India overtakes Hong Kong to become fourth-largest stock market', 'Equity benchmark indices rise in early trade', 'Alstom emerges lowest bidder for installing platform screen doors in Namma Metro stations in Bengaluru', 'Tech enterprises scouting for global talent to expand footprint: Nasscom', 'Renault expects a 20% additional growth in sales in CY24', 'Beijing sets higher 2024 growth target despite slowing economy', 'Govt expands scope of financial services on offer at IFSC', 'Sony calls off merger with Zee, demands $90 million compensation', 'Karur Vysya Bank Q3 net up 43% on all-round growth', 'Zee Entertainment to take legal action against Sony; denies all allegations', 'Sony calls off merger with Zee, sends termination letter', 'What is the disagreement between Hindustan Unilever and its distributors over margins?', 'Banking on a branch visit on Jan. 22? private, PSU banks have different plans', \"India's power consumption grows nearly 8% in April-December period\", 'FPIs turn cautious, pull out ₹13,000 crore from Indian stocks in January', 'Mcap of five of top-10 most valued firms erode by ₹1.67 lakh crore', 'Textile sector seeks changes in customs duty on fabrics', 'GJEPC asks govt. to cut import duty on gold, silver, platinum bars to 4%', 'Kotak Mahindra Bank Q3 PAT up 8% to ₹3,005 crore', 'IDFC First Bank Q3 PAT rises 18% to ₹716 crore', 'ICICI Bank Q3 net grows 23.6% to ₹10,272 crore on better asset quality', 'Interim Budget | Healthcare industry expectations include incentives to promote private investment, R&D, et al', 'Yet to finalise mechanism for regulating cryptocurrencies: Centre to SC', 'Sensex, Nifty end lower; FMCG, IT stocks top drags', 'Raid exposes decade-long fake Mysore sandal soap operation in Telangana', \"PM Modi says won't be long before Boeing makes aircraft in India\", 'Health experts’ suggestions: Strengthen ICUs, mother and child care, and provide additional budgetary grants for general hospitals in Karnataka', 'Red Sea attacks plunge Tiruppur Garment exporters into crisis ', 'Money markets to remain closed on Monday', 'LIC introduces Jeevan Dhara II deferred annuity plan ', 'UltraTech Cement Q3 PAT rises 68% to ₹1,777 crore', 'Airbus, CSIR-IIP to collaborate on sustainable aviation fuel ', 'HUL Q3 PAT rises 1% to ₹2,519 crore', '‘Air travel recovery in India fastest post COVID’', 'RIL Q3 net grows 10.9% to ₹19,641 cr. on retail unit', 'Modi govt.’s attempt to cut revenue share of States shocking, says Balagopal', 'More than 2,800 jobs to be axed as Tata Steel plans to close Port Talbot furnaces', 'Ayodhya Ram Mandir Pran Pratishtha: Stock markets to remain shut on January 22, to have normal trading session on January 20', 'MSME expects special package from Finance Minister Sitharaman on Feb 1', 'India needs over 2,500 new aircraft by 2042, says Boeing Vice President', 'Stock markets recover after 3 days of loss; ICICI, Airtel major movers', 'Stock markets recover after 3 days of loss; ICICI, Airtel major movers', 'Rupee rises 7 paise to settle at 83.06 against U.S. dollar', 'PM Narendra Modi inaugurates in Bengaluru largest aerospace engineering facility of Boeing outside the United States'], ['Why the multiverse is possible according to physics, but not definitely', \"Webb telescope captures 'stunning' images of 19 spiral galaxies\", 'NASA’s historic Mars helicopter Ingenuity grounded for good after 72 flights', 'How many trees do we have?', 'India-made typhoid vaccine efficacy lasts for four years: study', 'Science and research should move out of elite institutions: URSC Director', 'India’s next moon mission will be precursor to the country’s ambitious lunar sample return mission: PRL Director ', 'Elon Musk says first human has received Neuralink implant, but other details scant', 'In zodiacal dust mystery, PRL Ahmedabad study points to a familiar source', 'Why does rain fall in drops and sheets?', 'Astronomers spot unusual object falling in the black hole ‘mass gap’', 'NASA’s historic Mars helicopter Ingenuity grounded for good after 72 flights', \"Webb telescope captures 'stunning' images of 19 spiral galaxies\", 'Why the multiverse is possible according to physics, but not definitely', 'Japanese moon probe back to work after sun reaches its solar panels', 'Science sleuths are using technology to find fakery and plagiarism in published research', 'Bengaluru to host largest annual gathering of astronomers from India', 'In breakthrough, neural network ‘explains’ how it found a new antibiotic', 'INSAT-3DS satellite sent to launch port in Sriharikota', 'COVID and beyond: labs unite to boost genomic surveillance globally', 'From genomic medicine, a revolution rolls towards cancer care', 'What enables owls to fly silently? ', 'Chromosome-level assembly reveal low genetic diversity of Arabica coffee', 'Outbreak of Western Equine Encephalitis Virus in Argentina', \"ISRO's unique and inexpensive space platform POEM-3 achieves all payload objectives\", 'How climate change affected the shape of elephant teeth', 'Mars rover data confirms ancient lake sediments on red planet', 'Japan confirms moon-lander made ‘pinpoint’ landing, with Chandrayaan help', \"NASA's little helicopter on Mars has logged its last flight\", 'ISRO successfully deploys magnetometer boom on Aditya-L1 in Halo orbit', 'The palm tree that lives beneath the rainforest floor', \"Atomic scientists keep 'Doomsday Clock' as close to midnight as ever\", 'World’s first white rhinoceros IVF pregnancy may offer way to save subspecies', 'The urgent need for data to make personalised medicine equitable', 'As our universe grows old, how will it change? | Explained', 'Relentless efforts to promote research that resulted in the founding of IMSc', 'Alcohol, drug addiction rewires the brain by changing how genes work', 'Japan, 5th country to moon-land, used tech that will support future missions', 'Does the Solar system have a ninth planet after all?', 'What is end-to-end encryption? How does it secure information? | Explained', 'NISAR Mission on track for early 2024 launch, says JPL official', 'What did people on the west coast of Scandinavia eat 10,000 years ago?', 'How to deal with memory loss', 'Therapeutic antibody may enhance snake venom toxicity', 'We have underestimated amount of tiny plastic particles in bottled water, study says', 'Status of Japan moon-lander SLIM unclear with solar panel glitch', 'Understanding body’s perception of pain key to evolving new drugs: David Julius', \"Japan's SLIM spacecraft lands on moon, a first for the country\", 'NASA spacecraft pings India’s Chandrayaan-3 lander on the moon', 'Scientists training AI to analyse chicken communications', \"Why is Japan's 'moon sniper' landing mission important?\", 'The fungi that can freeze water better than bacteria | Explained', 'Parts of primate DNA unchanged for 65 million years, study finds', 'Crew with first astronaut from Turkey launched on flight to space station', 'How the weather department uses satellites to track North India’s fog | Explained', 'What it will take to make sure science communication works for India | Explained', 'Giant ‘kings of apes’ once roamed southern China', 'Plant roots mysteriously pulsate, and scientists don’t know why', 'North Korea is testing hypersonic missiles. How do they work?', 'What are light-emitting diodes and why are they prized as light sources? | Explained', 'Listen to your gut – it may be telling you something about your heart | Explained', 'Muscle energy depletion linked to Long COVID: study', \"China media warns against taking China's Indian Ocean research as threats\", 'DNA from ancient Europeans reveals surprising multiple sclerosis origins', 'Scientists conclude New Mexico fossil is new Tyrannosaurus species', 'I-STEM to launch Samavesha project on January 16 at IISc Bengaluru to connect researchers with labs and equipment', 'AI, satellite pics reveal ocean activities happening out of sight', 'Jammu CSIR lab finds cannabis plant compound has antibiotic effects | Explained', '19-million-year-old fossil jaw bone hints the biggest whales first evolved somewhere unexpected', 'AI could improve your life by removing bottlenecks between what you want and what you get', 'Alpha, beta, theta: what are brain states and brain waves? And can we control them?', 'The strange story of the grave of Copernicus', 'How we discovered that Uranus and Neptune are actually nearly identical in colour', 'Panspermia: Life from one world to the next', 'China says it will launch its next lunar explorer in the first half of this year', 'With Aditya-L1 spacecraft placed in halo orbit, focus is on data collection on sun  ', 'U.S. moon landing attempt seems doomed after fuel leak ', 'U.S.’s first moon landing attempt in 50 years in jeopardy after ‘critical’ fuel leak', 'First U.S. lunar lander in more than 50 years rockets toward moon with commercial deliveries', 'Claudine Gay | Forced exit', 'Study reveals the oldest evidence of photosynthesis', 'ISRO’s Aditya-L1 successfully placed in a halo orbit around L1 point  ', 'ISRO successfully tests Polymer Electrolyte Membrane Fuel Cell on PSLV-C58’s orbital platform POEM3', 'The physics that lets you forget your glasses are on your face | Explained', 'Study revives South Korea superconductivity claim with new data | Explained', 'ISRO to perform crucial manoeuvre on January 6 to bind Aditya-L1 into L1 orbit', 'Dhruva Space’s tech demonstration payload functioning well', 'From the moon to Europa, six space missions to be excited for in 2024', 'CO2 levels in planet atmosphere could be a sign of its habitability: study', 'Scientists fuse brain-like tissue with electronics to make computer | Explained', 'ISRO’s commercial arm to launch GSAT-20 satellite on SpaceX’s Falcon-9 in 2024', 'Russia extends cross-flight programme with NASA until 2025 - Roscosmos', 'The ‘volcano tourists’ that vied to catch Iceland eruptions ', 'Why are some black holes bigger than others?', 'What Is It: XPoSat: ISRO’s X-ray eye in the sky', 'How a super-energetic particle from outer space could help physics | Explained', 'Could dinosaurs be the reason humans can’t live for 200 years?', 'What is radiocarbon dating? | Explained', 'Genetic ancestries of South-west coast warrior class traced', 'Parliament breach accused underwent psychoanalysis – what is it? | Explained', 'ISRO successfully launches PSLV-C58 XPoSat mission ', 'You had your genome sequenced and found something – now what? | Explained', 'ISRO to launch XPoSat and 10 other payloads on January 1', 'How a Victorian trip to Palestine spurred modern ornithology – and left it with imperial baggage', 'How do we measure distances across the universe? | Explained', 'India planning to launch 50 satellites for intelligence gathering in five years: ISRO chief', 'Human intelligence: how cognitive circuitry, rather than brain size, drove its evolution', 'Humanoid robots in space: the next frontier', 'For Huntington’s disease clues, scientists are looking in fruit flies | Explained', 'The Hindu’s most read science articles of 2023', 'How Japan’s moon-landing attempt in January will affect Chandrayaan 4 | Explained', 'NASA’s Deep Space Network turns 60', 'What incentives do scientists have to study rare diseases? | Explained', 'Pantoea Tagorei | Visva-Bharati discovers new bacteria, names it after Rabindranath Tagore', 'Like sheep and goats, reindeer too sleep while chewing their cud', 'T.N. rains | Predicting extreme rainfall events using probabilistic forecasts', 'ISRO’s Aditya L1 mission will reach destination on Jan 6: Somanath', 'Sleep disruptions, mild ones too, negatively affect our everyday moods, 50 years of research shows', 'When science meets art: recycled metal and lab-grown gems', 'Why scientists should be humble', 'Madagascar cave art hints at ancient connections between Africa and Asia', 'Does free will exist? A Stanford professor says science shows free will doesn’t exist. Here’s why he’s mistaken', 'The longstanding mystery of Mars’ moons – and the mission that could solve it', 'How do touchscreens work? | Explained', 'IIA scientists trace the source of solar burst which occurred in 2013', 'RRI Bengaluru to participate in first winter Indian expedition to Arctic region', 'mRNA, easy to customise, is the next frontier for personalised medicine', 'Kakrapar-4 nuclear reactor attains criticality', 'The era of CRISPR therapeutics is here – what can we expect? | Explained', 'Significance of an influenza A (H1N2)v case in the U.K.', 'CT scans associated with increased risk of blood cancers', 'Rocket Lab successfully launches first Electron rocket since September failure', 'U.S. President Joe Biden hosts four NASA astronauts, first crew aiming to fly around the moon in 50 years', 'Counting scientists’ productivity with numbers undermines science | Explained', 'China’s space programme: Five things to know', 'Scientists see risk of lost opportunity for long COVID research in China', 'Mumbai professor bags Royal Society of Chemistry’s Nyholm prize', 'Next time you have kulhad chai, don’t miss the bubbly physics', 'In the chaos of turbulence, scientists chase glimpses of hidden order', 'Fungi and flatworms: Scientists want more diverse nature emojis', 'Endangered species list grows by 2,000. Climate change is part of the problem', \"What are Europe's landmark AI regulations?\", 'Fossils show dismembered young dinosaurs in belly of T. rex cousin', 'Looking for intelligent alien life is hard not just for space’s size | Explained', 'IIT Madras, Columbia and Colorado varsity scientists develop sustainable plastic recycling technique', 'Protein from Budgett’s frog can block enzymes of disease-causing pathogens: Study ', 'What stones inside fish ears are telling us about climate change', 'Green turtles nesting range expands under warming climate', 'Can electricity from electric eels transfer genetic material to nearby animals?', 'Any activity is better for your heart than sitting', 'Compensation to participants in human challenge studies should not incentivise risk-taking', 'Do we live in a giant void? It could solve the puzzle of the universe’s expansion', 'Controversial claims about extinct humans are stirring up evolution research', 'Payload onboard Aditya-L1 captures full-disk images of the Sun', 'Massive planet too big for its own sun pushes astronomers to rethink exoplanet formation', 'The unusual cabbage mutation that could boost crop yield | Explained', \"China starts up world's first fourth-generation nuclear reactor\", 'Iran sends up rocket with test living capsule', 'Oldest mosquito fossil comes with a bloodsucking surprise', 'Sci-Five | The Hindu Science Quiz: On Marsupials', 'Science for All | What is Diel Vertical Migration and its role in carbon sequestration?', 'Gender gaps and gajras in women’s world of science', 'Giant rabies study with 50,000 dogs says only vaccines can stop disease', 'How does GPS work? | Explained', 'Chandrayaan-3 propulsion module moves from lunar orbit to earth orbit', 'South Korea tests solid-fuel rocket amid space race with North Korea', 'Mystery origin of Egypt’s mummified baboons finally cracked | Explained', 'The transformative benefits of population-level genome sequencing | Explained', 'Watch | Did you know India’s space programme has turned 60?', 'Solar wind particle experiment payload onboard Aditya-L1 starts operations: ISRO', '‘Man the hunter’? Evidence questions gendered labour divide in prehistory', 'AIDS can be stopped with science-backed tools', 'Piezoelectricity: Why quartz ticks', 'NASA to train Indian astronaut for ISS voyage in deepening space ties ', \"In a first, a newborn star's spinning disk is seen in another galaxy\", 'Six planets found in synchronized orbit may help solve cosmic puzzle', 'India set to launch its first X-Ray Polarimeter Satellite: ISRO', 'What are fibre optic cables and how do they work? | Explained', 'ISRO chose to land Chandrayaan in moon’s south pole region for water molecules: Veeramuthuvel', 'How does our brain learn to read?', 'IISc’s Foundation for Science Innovation and Development launches Centre of Data for Public Good', 'ISRO to conduct trusted workhorse PSLV’s 60th flight by end of December', \"Europe's new Ariane 6 rocket passes launch rehearsal: ESA\", 'Scientists identify new dinosaur species from footprints in Brazil', \"Planting 'koala corridors' to save Australia's endangered marsupial\", 'Why carbon capture is no easy solution to climate change', \"Webb space telescope spies precocious 'teenage' galaxies\", 'Plants warn each other of danger, and now we can watch them | Explained', 'The search for the dawn of life', 'COVID-19 vaccine not contributing to sudden deaths, says ICMR study', 'How do animals get their skin patterns? An answer comes from physics', 'URSC and IITG scientists make first detection of radiation from extra-galactic black hole source', 'Using mosquitofish to fight mosquitoes throws India a tougher puzzle | Explained', 'Meet the Langlands Program, the world’s biggest maths project | Explained', '‘Strong evidence’ unusual nitrogen-9 nucleus exists, scientists say', 'Freemartins: black sheep among the cattle', 'Remembering Frank Borman, a vanguard astronaut of the Space Age', 'The chimaeras of nature and their promise to grow human organs | Explained', 'SpaceX launches giant new rocket but a pair of explosions ends the second test flight', \"ISRO's Dr. Mathavaraj selected for Goa Govt.'s first 'Manohar Parrikar Yuva Scientist Award'\", 'The unusual ‘mutations’ that protect humans from viruses | Explained', 'Russia says it plans to send cosmonauts to the Moon next decade', \"Gamma-ray burst in faraway galaxy disturbed Earth's upper atmosphere\", 'Scientists discern internal structure of mysterious dwarf planet Eris', 'Bone bite marks reveal dinosaur predator-prey dynamics', 'How fractals offer a new way to see the quantum realm', 'Pulsar glitch: How physicists are making sense of a cosmic mystery | Explained', 'Cryogenic upper stage of Chandrayaan-3’s launch vehicle makes uncontrolled re-entry into the Earth’s atmosphere ', 'Infosys Science Foundation announces 6 prize winners for 2023, including two from Bengaluru', 'NASA, ISRO complete key tests ahead of NISAR’s launch early next year', 'How many forces are there in nature, really? | Explained', 'How climate change is altering animal brains and behaviour', 'Will Saturn’s rings really ‘disappear’ by 2025? An astronomer explains', \"At SpaceX, worker injuries soar in Elon Musk's rush to Mars\", 'How does an electric battery work and what are the different types? | Explained', 'Health benefits of functional foods', 'Scientists pull paper from journal over Arunachal mention', 'Elusive Attenborough echidna rediscovered in Indonesia', 'Scientists show how to turn lunar soil fertile for agriculture', 'New crustacean parasites found off India', 'Researchers warn we could run out of data to train AI by 2026. What then?', \"Star-filled Euclid images spur mission to probe 'dark universe'\", 'Scientists detect oxygen in noxious atmosphere of Venus', 'Aditya-L1 captures first glimpse of solar flares', 'NASA spacecraft discovers tiny moon around asteroid during close flyby', 'Italy, France and Germany agree on launches of Ariane 6 and Vega-C', 'Europe targets competitive shake-up in space launch deal', 'Oldest black hole discovered dating back to 470 million years after the Big Bang', \"Astronomers find seven planets being 'fried' by their star\", 'How is electricity transmitted? | Explained', '‘3,000-year-old Iron Age’ geoglyph circle discovered in Telangana', 'The Zika genome and insights in the era of emerging outbreaks', 'Always modified my Twitter use in accordance with eLife board’s feedback, says sacked editor Michael Eisen', 'Friendship research – key to deal with loneliness epidemic – is getting an upgrade', 'Gene-edited chickens could stop bird flu', \"Relics of huge primordial collision reside in Earth's deep interior\", 'Biggest Chinese Antarctic fleet sets off to build research station', 'Scientists observe chimpanzees using human-like warfare tactic', 'Realisation about fragility of earth common among astronauts upon return: Rakesh Sharma', 'Inside India’s ‘Deep Ocean Mission’, a challenge harder than going to space', 'Putin aims to have Russian space station by 2027', \"Dinosaur-killing asteroid impact fouled Earth's atmosphere with dust\", 'What does World Thrift Day have to do with physics?', 'The gravitational constant', 'Mouse embryos grown in space for first time: Japan researchers', 'Tiny carbon ‘flowers’ turn light to heat at unrivalled efficiency, IIT team finds', 'What is photocopying and how does it work? | Explained', 'How much salt should you take every day?', 'Where do the wild colours of domesticated silkworm cocoons come from?', 'Partial lunar eclipse to take place on October 28 night', 'Iceland hit by ‘seismic swarm‘ of small earthquakes in volcano warning', 'Chandrayaan-3 | Vikram lander kicked up over 2 tonnes of lunar dust, say scientists', 'Haemoglobin isn’t used only in blood, scientists find in major discovery', \"Rock collected by Apollo 17 astronaut in 1972 reveals moon's age\", 'Scientists identify molten layer deep within interior of Mars', 'Reproduce or it didn’t happen: why replicable science is better science', 'IIT Mandi, DBT-inStem Bengaluru scientists find how dengue mosquito eggs are so hardy', 'ISRO to hold more tests for Gaganyaan in coming months', 'IISc research uncovers link between cell biomechanics and wound healing', 'A star party in the mountains', 'China announces plan for a new space telescope as it readies to launch its next space station crew', 'Ancient landscape cut by rivers found deep under Antarctic ice', 'Bengaluru firm that developed crew module for Gaganyaan maiden test flight ready to supply more critical technologies ', 'Scientists trace powerful radio signal to most distant galaxy yet', 'How do SIM cards work? | Explained', 'Could gut fungi be linked to severe COVID? What to make of new research findings', 'The Gino data scandal in behavioural science and research misconduct', 'Two forerunners that set the stage for ISRO’s Gaganyaan test', 'ISRO chief Somnath says space agency prefers woman fighter test pilots for its crewed mission, possible in future', 'How bat genomes provide insights into immunity and cancer', 'Afghanistan: ‘all four quakes were in the same fault system’', 'Gaganyaan test flight mission successful, crew escape module splashes down', 'Gaganyaan Mission | ISRO is set for first test flight', 'Scientists surprised by source of largest quake detected on Mars', 'This particle’s wobble could help spot cracks in the laws of physics', 'What separates classical and quantum chaos?', 'Seeing the magic of artificial intelligence applications in ophthalmology', 'PM Modi “directs” ISRO to land man on moon by 2040', 'Has AI passed the Turing test yet? | Explained', 'Undervaluing faculty fellowships is bad for scientists, and science', 'PM reviews readiness of Gaganyaan ahead of flight test vehicle abort mission-1 on October 21', \"How a Bronze Age rock became a 'treasure map' for researchers\", \"Math disabilities hold many students back. Schools often don't screen for them\", 'Why are earthquakes frequent in Afghanistan? | Explained', 'Scientists propose sweeping new law of nature, expanding on evolution', 'Estivation: The summer’s urge to nap', 'Hundreds of tests planned, working to get crew module from outside India: ISRO’s Somanath on Gaganyaan', 'Gaganyaan’s maiden test flight to commence at 7 am on October 21  ', 'Centre may raise retirement age of scientists from 60 to 65', 'Bumrah’s ball to Rizwan shows energy conservation law in action', 'How quantum algorithms solve problems that classical computers can’t', 'Skygazers watch ‘Ring of Fire’ eclipse over Western Hemisphere', 'ISRO to hold more test Gaganyaan vehicle missions after maiden test flight on October 21: Somanath', 'Deep-learning helps classification of tumours during surgery', 'How a 6.3 magnitude quake caused another of same intensity', 'The afterglow of an explosive collision between giant planets may have been detected in a far-off star system', 'Gene editing offers chickens some protection against bird flu', 'Neural circuitry of mouse mothers to pups’ calls deciphered', 'Is it possible in mice to restore walking after paralysis from spinal cord injury?', 'Richness of human milk ', 'Draft patent amendment rules undermine pre-grant opposition', 'Most pink diamonds were birthed by a disintegrating supercontinent. Where can we find more?', \"Biologists in slow and steady race to help North America's largest and rarest tortoise species\", 'No brain, no problem: Tiny jellyfish can learn from experience', 'Pragyan rover finds an unexpected surprise on the moon: sulphur | Explained', 'What will ‘cosmic detective’ OSIRIS-REx bring back on September 24? | Explained', 'ISRO says no signals from Chandrayaan-3’s Vikram lander, Pragyan rover', 'Signs of life? Why astronomers are excited about carbon dioxide and methane in the atmosphere of an alien world', 'In a first, RNA is recovered from extinct Tasmanian tiger', 'ISRO hoping to wake up Chandrayaan-3’s Vikram and Pragyan on September 22', 'Science and tech awards to get Padma-style makeover into Rashtriya Vigyan Puraskar', 'Pollen in pee: fossilised urine from a small African mammal helps us understand past environments', 'Breakthrough Prizes 2024 winners include innovative cancer treatment', 'Aditya-L1 embarks on 110-day journey to L1 point', \"India's Aditya-L1 solar mission spacecraft commences collecting scientific data\", 'Science This Week | CSIR announces Bhatnagar prize winners, NASA names chief of UFO research and more', 'NASA names chief of UFO research; panel sees no alien evidence', 'Germany signs U.S.-led space norms pact Artemis Accords', 'Is it possible to reduce the risk of depression?', 'Over 75% of European bumblebee species threatened in the next 40-60 years', 'The cosmological constant problem is one of the biggest crises in physics', 'Study traces Turkey quake to interrupted ‘chat’ between fault lines', 'China’s Chang’e moon missions | Explained', 'What is the legal framework for space missions like the Chandrayaan 3 and Aditya L-1? | Explained', 'Ian Wilmut, a British scientist who led the team that cloned Dolly the Sheep, dies at age 79', 'How microbiomes and the smells they produce help shape behaviour in bugs, birds, beasts and humans', 'Crown shyness: let our realms stay apart', 'Aditya-L1 mission pursues the enigma of space weather', 'Science This Week | Scientists discover ‘bubble of galaxies’, bird-like dinosaur found in China and more', 'Buzzing breakthrough: genetic engineering gives mosquito control an upgrade', 'What are the predicted effects of rising sea level on coastal habitats?', 'Scientists grow a model of human embryo in the lab', 'What helped Vikram lander to soft-land on the moon', 'Watch | Indians are buying land on the moon… but can one ‘own’ lunar land?', 'Science Quiz | The obscure mathematics of string theory', 'The physics of friction, the ‘necessary evil’ that bedevils daily life', 'Black hole is observed snacking on sun-like star, bite by bite', \"Billion-light-year-wide 'bubble of galaxies' discovered\", 'After Chandrayaan success, Midhani is ready for ISRO’s Gaganyaan', 'Horizon project: Which EU science schemes has Britain joined?', 'Lab-grown human ‘embryo’ created without eggs or sperm', 'Racing for Moon real estate | Chandrayaan-3’s landing is motivating Indians to buy land on the Moon', \"U.K. rejoining Europe's Horizon science programme\", 'Bizarre’ bird-like dinosaur has scientists enthralled ', 'Watch | Chandrayaan-3’s journey from the orbit to Moon’s surface', 'NASA’s LRO captures Chandrayaan-3 landing site on the Moon', 'Science Quiz | What computers need to compute: Logic gates', 'Cartesian coordinates: a way to find your way', 'Sahara space rock 4.5 billion years old upends assumptions about the early Solar System', 'Scientists find elusive Pines’s demon particle after 67 years', 'Finally, physicists have a way to ‘see’ inside short-lived nuclei', 'Aditya-L1: its functioning and purpose', 'Bottleneck in human evolution explained using a novel genomic analysis technique', 'After Pragyan, lander Vikram also put in sleep mode ', 'Indonesia’s low-cost watch on antimicrobial resistance', 'Crocodiles yield to flower power, study finds ', 'Scientists test menstrual products with blood for the first time, and find surprises', 'Science This Week | India launches Aditya-L1 to study the sun, Pragyan rover safely parked and more', 'Aditya-L1 ‘healthy’ in new orbit: ISRO', 'Oldest yet fossils of a plant-eating dinosaur found in Rajasthan', 'Chest X-ray interpretation using AI can detect more TB cases', 'Is the bat’s brain wired for collective behaviour?', 'Why does our hair grow and become grey? ', 'Early prediction of preeclampsia using a blood-derived biomarker', 'Curcumin has no anti-inflammatory effect in rheumatoid arthritis, a trial shows', 'Space junk in Earth orbit and on the Moon will increase with future missions − but nobody’s in charge of cleaning it up', 'Chandrayaan-3 | Pragyan completed its tasks; rover safely parked and set into sleep mode, says ISRO', 'Aditya-L1 lifts off to study the sun', 'PM Narendra Modi congratulates ISRO on successful launch of solar mission Aditya-L1', 'European Space Agency to provide support to Aditya-L1 mission', 'Aditya-L1 mission to mark 25th flight of PSLV-XL variant', 'Crashed Russian mission left a crater on the moon, NASA images show', 'Indian-American scientist hopes to be first woman to make stratospheric jump in 2025', 'India’s first solar observatory mission Aditya-L1 to be launched at 11.50 a.m. on September 2', 'Aditya-L1 to shed more light on present, future of Sun: ARIES director', \"In Japan, a third of today's 18-year-old women may not have children: Study\", 'Chandrayaan-3 | RAMBHA aboard Vikram completes first in-situ measurements of lunar plasma over the moon', 'Coronagraph of Aditya-L1 will send 1,440 images of sun a day', 'Echolocation: What goes around comes around', 'Chandrayaan-3 | ‘Smile, please!’ Pragyan’s cameras capture Vikram', 'The scientists in Japan who scared flies to understand fear', 'Rare blue supermoon brightens the night sky this week in the closest full moon of the year', 'Pragyan rover confirms sulphur at moon’s south pole, searching for hydrogen', 'What scientists find when they find nothing', 'Race for Sun heats up: These are the various solar missions', \"Skyroot expects to double rocket launches amid Chandrayaan-3's success\", 'Pragyan encounters crater during moon walk, captures images ', 'The animal that senses electric fields, tolerates snow, and has ‘mating trains’', 'Aditya-L1, first space-based Indian observatory to study the Sun, to be launched on September 2', 'Chandrayaan-3 probe shows 50°C difference between moon’s surface and 10 cm below', 'Archaeologists unearth 3,000-year-old priestly tomb in northern Peru', 'Are you sure you contain 10x as many microbes as human cells?', 'As Pragyan digs deep into moon, scientists at Vikram Sarabhai Space Centre lab turn their gaze to solar wind', ' Science This Week | India becomes the first country to land on Moon in the south polar region and more', 'Scientists leave X as platform changes character', 'Somatic genetic variants: A genomic revolution hiding inside our cells', 'ISRO | Mission possible', 'Has any particular gene responsible for longer lifespan been identified?', 'Tropical forests may be getting too hot for photosynthesis', 'Long-term health issues following COVID-19', 'Missed childhood TB cases impede achieving 2025 goal', 'ISRO shares video showing Pragyan rover roaming around Shiv Shakti point', 'New crew for the space station launches with 4 astronauts from 4 countries', 'Explained | After Chandrayaan-3, what has ISRO planned?', 'Explained | Why did Chandrayaan-3 land on the near side of the moon?', 'Chandrayaan-3 | Pragyan rover rolled out, traverses 8 metres', 'NIMHANS to set up brain and mind museum to increase awareness of neuroscience in Bengaluru', \"Sun-observing spacecraft sheds light on the solar wind's origin\", 'How scientists found that LK-99 is probably not a superconductor', 'The eyes and ears of Pragyan that help rover find its way on moon', '‘Fly me to the moon’ seems to be global ambition in 2023', 'Chandrayaan-3’s Pragyan rover has begun mobility operations, says ISRO', \"Google celebrates India's Chandrayaan-3 feat with special doodle\", 'The ‘weird’ male Y chromosome has finally been fully sequenced. Can we now understand how it works, and how it evolved?', \"Why are space agencies racing to the moon's south pole?\", 'Chandrayaan-3 | With moon now in India’s orbit, focus shifts to Pragyan rover', 'One giant step: Moon race heats up', 'Chandrayaan-3 | India lights up the moon  ', 'The Science Quiz | Twilight time – the world between worlds', 'Chandrayaan-3 | Not just sons of Tamil Nadu but State’s soil itself contributed to Moon mission', 'Calories and kilojoules: how do we know the energy content of food, and how accurate are the labels?', 'What next for ISRO after Chandrayaan-3 mission?', 'Chandrayaan-3 lander all set for touch down at 6.04 p.m. on August 23', \"Russian space agency chief blames decades of inactivity for Luna-25 lander's crash on the moon\", \"'Welcome, buddy!': Chandrayaan-3’s Lander Module establishes contact with Chandrayaan-2’s orbiter\", 'Superconductivity: Stay in the flow', 'Explained | What the fate of Luna 25 means for Russia', 'Chandrayaan-3 | ISRO releases images of the far side area of the moon', 'Chandrayaan-3 | How NASA, ESA will support ISRO during the Moon landing on August 23', 'ISRO one step away from landing on Moon as Lander Module completes second deboost operation  ', 'Russia’s Luna-25 spacecraft crashes into the Moon', 'Chandrayaan-3 | ISRO one step away from landing on Moon as Lander Module completes second deboost operation  ', 'Chandrayaan-3 | ISRO one step away from landing on Moon as Lander Module completes second deboost operation  ', \"Russia's Luna-25 spacecraft suffers technical glitch, space agency says\", 'Is it possible to remove microplastics from water?', 'Warming-induced glacier retreat could create novel ecosystems', 'The world of sugar ', 'A trial to test a new path for preventing Alzheimer’s', 'Quantum gates: Devices that translate quantum effects to computing awesomeness', 'Chandrayaan-3 Lander slowed down to move it to lower orbit', 'ISRO releases two videos of the Moon on August 18', \"Russia's Luna-25 spacecraft enters lunar orbit\", 'How the deadliest virus in human history paved the way for new cures', 'Negotiating a life with amyotrophic lateral sclerosis', 'Chandrayaan-3 moon lander separates from propulsion module', 'The story of how the deadliest virus to humans was revived', 'Flying fox bats for vigilance while roosting', 'The Science Quiz | Want to be tickled pink out of the blue?', 'Chandrayaan-3 takes another crucial step closer to moon', 'Scientists solve Manipur salamander ‘puzzle’', 'Can India’s State universities be hubs of skill-based science education?', 'Russia launches Luna-25 in a bid to return to the moon', 'Chandrayaan-3 gets closer to Moon after fourth orbit reduction manoeuvre', 'Centrifugal force – meet the resistance', 'India’s first mission to study the Sun getting ready for launch: ISRO', 'The harsh realities of space that Chandrayaan 3 is built to brave', 'Scientists puzzled by super-bright light from the sun', 'Science This Week | Russia launches lunar landing craft after 50 years, wildfire ravages through Hawaii and more', 'Did scientists unearth another ancient human lineage in China?', 'In celebration of left-handedness', 'Metagenome sequencing is transforming pathogen surveillance', 'Amazon rainforest | The scramble to save the planet’s lungs', 'Were seasonal climate patterns possible on early Mars?', 'Low human activity helps corals despite warm ocean', 'In TB detection, India far from meeting the 2025 goal', \"Archaeologists reveal Europe's oldest stilt village\", 'A cooling event 1.1 million years ago doomed early human in Europe', 'The odd behavior of a subatomic particle may shake up physics', 'Luna-25 will not hamper function of Chandrayaan-3: Russian space agency', 'Meet Kerala astronomer Aswin Sekhar, whose name shines bright on an asteroid', 'A rocket with a lunar landing craft blasts off on Russia’s first moon mission in nearly 50 years', 'ISRO releases images of Earth and Moon taken by cameras on board Chandrayaan-3 spacecraft', 'Ahead of Chandrayaan-3 lander’s soft landing ISRO assesses current situation around the moon', 'Chandrayaan-3 just 1,437 km away from moon', 'Japanese delegation in talks with ISRO for using data from lunar and solar missions', 'Long before whales, pioneering marine reptile was a filter-feeder', 'Explained | How a changing monsoon is challenging forecasters and disaster managers', 'Unique study shows we can train wild predators to hunt species they’ve never seen before', 'Plastic rocks, plutonium, and chicken bones: the markers we’re laying down in deep time', 'Supernovae – the universe’s engines', 'US scientists repeat fusion power breakthrough for 2nd time', 'How to check if a material is a superconductor – in four steps', 'ISRO successfully performs orbit reduction manoeuvre, brings Chandrayaan-3 closer to moon', \"ISRO releases Moon's video as seen from Chandrayaan-3\", 'Science This Week | Chandrayaan-3 spacecraft enters lunar orbit, scientists find heaviest animal that may have ever lived and more', 'Evolution isn’t against same-sex behaviour in monkeys: study', 'Is the current climate substantially warmer than during the medieval period?', 'The enigmatic Indian eagle-owl', 'In TB detection, smear microscopy’s share still holds sway', 'Chandrayaan-3 spacecraft enters lunar orbit', 'NASA restores contact with Voyager 2 spacecraft after mistake led to weeks of silence', 'Cats first finagled their way into human hearts and homes thousands of years ago – here’s how', 'Synthetic human embryos could allow for research beyond the 14-day limit, but this raises ethical questions', 'Chandrayaan-3 has covered about two-thirds of distance to moon', 'The Science Quiz | India’s space programme', 'India should go for younger cheetahs habituated to human presence: experts', 'Breastfeeding Week: Dated wisdom, lactation stigma still assail mothers', 'Massive extinct whale ‘may be heaviest animal that ever lived’', 'Explained | Why has Marc Tessier-Lavigne, Stanford University president, resigned?', 'Do we need a radical alternative to scientific publishing?', 'J. Robert Oppenheimer: the man, his science, and the man beyond the science', 'The Science Quiz: Let there be (coherent) light', 'Want to catch a supernova? There’s a new app for that', 'ISRO successfully conducts TransLunar Injection of Chandrayaan-3', 'Making sense of the room-temperature superconductor claim from South Korea', 'Horripilation: What is it?', 'A pair of supermoons to grace the sky in August', 'Mystery object on Australian beach identified as part of ISRO rocket', 'Non-reciprocity: The physics of letting waves go one way but not the other', 'Researchers find oldest evidence of curry outside India', 'Science This Week | IISc scientists discover 600-million-year-old ocean water from Himalayas, frozen microbes are coming back to life and more', 'Cell-free DNA promises to transform how we find diseases', 'ISRO’s PSLV-C56 puts 7 satellites in orbit; four more missions this year', 'Was Greenland covered with ice sheets for over 2.5 million years?', 'Plastic pollution widespread in water bodies across the world', 'Threat of dengue fever escalates globally', 'As earth warms, microbes frozen for millennia are coming back to life', 'Scientists revive worm frozen 46,000 years ago', 'Watch | Who was J. Robert Oppenheimer?', 'Oppenheimer: Remembering the physics that first made him great', 'Measuring helium in distant galaxies may give physicists insight into why the universe exists', 'Do smartphones belong in classrooms? Four scholars weigh in', 'The Science Quiz: The most powerful nuclear bomb', 'ISRO’s Gaganyaan Service Module Propulsion System aces 2 more hot tests', 'How do ants know how much food their hungry colony needs?', 'IN-SPACe offers chance to launch payload on POEM', 'How students in India can join international search for asteroids', 'Discovered: A mechanism that quietly removes unfit cells before you’re born', 'Can we really say some day was the warmest in 100,000 years?', 'Final orbit-raising manoeuvre of Chandrayaan-3 completed', 'Heatwaves in Europe, China and America could not have occurred without climate change: study', 'Geological era: What is it?', 'Cells with bare minimum genes can still evolve as fast as normal cells: study', 'Chemistry breakthrough makes fluorochemicals production safer', 'ISRO to launch PSLV-C56 carrying Singapore’s DS-SAR and six other satellites on July 30', 'The ultra-careful quest to find the shape of the electron’s charge', 'Science This Week | New way to settle the universe expansion dispute, risk of dengue on the rise as the planet warms and more', 'How did the dinosaurs become birds? The nose knows', 'The case for India switching from the oral to the inactivated polio vaccine', 'Making meat in the lab', 'Can cracks in metals caused by fatigue damage heal themselves?', 'Ancient genomic data shed light on the demise of the Copper Age', 'In AI’s unlimited potential, the benefits and the risks', 'Male fertility crisis: what environmental contaminants have got to do with it', 'Returning to the Moon can benefit commercial, military and political sectors: Expert', 'The case for the oral polio vaccine in the world’s quest for eradication', 'China may launch next-generation crewed spacecraft as early as 2027', 'A space race on the Korean Peninsula', 'Watch | Why has the monsoon in North India been so destructive?', 'Remembering A.K. Raychaudhuri: Transformed relativity, almost got fired', 'Chandrayaan-3 finishes fourth orbit-raising manoeuvre', 'ISRO successfully tests Gaganyaan Service Module Propulsion System', 'Explained | What does aspartame being ‘possibly carcinogenic’ mean?', 'Dramatic fossil shows mammal attacking dinosaur', 'For India’s scientists, academic publishing has become a double-edged sword', 'The Science Quiz | Fractals: When more of the same is beautiful, not boring', 'Google Doodle celebrates American climate scientist Eunice Newton Foote’s 204th birthday', 'Science This Week | Chandrayaan-3 mission begins, scientists declare a new geological epoch and more', 'A story of a convocation, an iron press, my kurta, and its polymers', 'Evolution is the right of all life forms – even synthetic ones', 'Chandrayaan-3 | A flight to the moon', 'ISRO performs Chandrayaan-3’s first orbit-raising manoeuvre', 'Unethical to continue using polio-causing oral polio vaccines', 'A new diarrhoea-causing parasite found in Kolkata', 'As global temperature soars, cooling needs will increase', 'ISRO begins firing of onboard thrusters as Chandrayaan-3 mission enters crucial phase', 'Sixty two of 111 lunar missions in last seven decades were successful: NASA database', 'Study links endogamy to persistence of harmful genetic variants in India', 'LVM-3’s Chandrayaan success is a big boost for Gaganyaan', 'Chandrayaan-3 | India’s third lunar odyssey begins with perfect launch', 'NASA’s rover finds fresh evidence of organic molecules on Mars', 'Indo-Japanese researchers develop ‘disease-modifying’ treatment for Duchenne’s Muscular Dystrophy', 'The curious link between endometriosis and an infectious bacterium', 'Vikram Sarabhai Space Centre to carry out system checkouts ahead of Chandraayan-3 launch', 'Deep space orbit to provide non-traditional resting place', 'Stunning Webb telescope image shows closest star-forming region', \"At Peru temple site, archaeologists explore 3,000-year-old 'condor's passageway'\", 'Poorly packaged paan ingredient a risk to children’s eyes: new study', 'Explained | What is the National Research Foundation? ', 'India and UK to connect their space clusters: UK science minister', 'Science for All | What are tunicates?', 'Chandrayaan 3 will aim for the Moon but look beyond it', 'Anthropocene, the new epoch marked by human impact on Earth, began in 1950s, say scientists', 'ISRO completes launch rehearsal of Chandrayaan-3 mission', 'With more fuel, fail-safe measures, Chandrayaan-3 to leap towards moon on July 14', 'Scientists decode genome of Indian shrimp variety', 'Explained | What is Microsoft’s planned ‘quantum supercomputer’?', 'Evidence for high annual rainfall 66 million years ago found', 'Moderate alcohol consumption has no health benefits', 'Ukrainian science is struggling, threatening long-term economic recovery', 'E. coli is one of the most widely studied organisms – and that may be a problem for both science and medicine', 'Science activism is surging – which marks a culture shift among scientists', 'Billions spent on cancer research globally – but is it money well spent?', 'Autism: later-life diagnosis doesn’t mean lower quality of life', 'IAEA chief Grossi hints at discord among Fukushima report experts', 'Third LIGO will put India on the research map', \"UK denies report of ready deal to rejoin EU's Horizon science scheme\", 'Will lab-grown meat find takers in India?', 'The Science Quiz | Nuclear reactors and the power they generate', 'ISRO moon mission: Chandrayaan-3 spacecraft integrated with launch vehicle', 'Science for All | Why does observing gravitational waves matter? ', 'What are the risks surrounding Zaporizhzhya, the nuclear power plant in a war zone?', 'India’s first major gender in physics conference from July 10', 'How Japan plans to release Fukushima water into the ocean', 'The Science Quiz | On space exploration', \"Ferocious black holes reveal 'time dilation' in early universe\", 'ISRO terminates semi-cryogenic engine test after sudden spike in turbine pressure and speed', 'Nuclear fusion ‘breakthrough’: Decades of research are still needed before fusion can be used as clean energy', \"Octopuses' sleep found to have active and quiet phases, similar to human sleep\", 'Science This Week | Euclid telescope blasts off to study the ‘dark’ universe, physics helps in understanding hate groups and more', 'Newborn genome-sequencing unlocks the blueprint of health', 'Euclid space telescope begins quest to study dark universe', 'Crowdsourced data from Twitter help identify flooded areas in real time', 'Why COVID-recovered patients have cardiac events when exercising', 'Intensity of extreme rainfall events estimated to increase by 15%', \"Saturn's rings are glowing in Webb Space Telescope's latest cosmic shot\", \"Spanish researchers aim to 'trick nature' with artificial womb\", \"Europe's Euclid space telescope set for launch to explore 'dark universe'\", 'How should a robot explore the Moon? A simple question shows the limits of current AI systems', \"India's largest radio telescope key to detecting the universe's vibrations\", \"Italian researchers reach the edge of space flying aboard Virgin Galactic's rocket-powered plane\", 'With neutrinos, scientists observe our galaxy in a whole new way', 'A new science: Using physics to understand hate groups on the internet', 'I am feeling better now, says Mayank Agarwal', 'Mayank Agarwal survives serious health scare', 'Shoaib Bashir | Surprise package', 'Nothing new or foreign to me: Steven Smith on opener role in Tests', 'Heinrich Klaasen announces Test retirement', \"David Warner: If I had my time again, I'd bite my tongue a little bit more\", 'Dean Elgar | A sense of emancipation and a touch of enterprise', 'Ambati Rayudu launches Super Kings Academy in Coimbatore', 'Cameron Green reveals he is suffering from irreversible chronic kidney disease', 'Shreyanka and Saika — from WPL stars to shining on the biggest stage', \"Steve Smith's manager debunks former Australian captain's retirement talks\", 'Afghanistan’s Rashid Khan undergoes lower-back surgery', 'Meg Lanning exits centre stage, but her greatness lives on', '‘Mission near impossible’ for Pakistan; England eyes CT spot', \"We want to target Gen Zs and 10-year-olds: ICC's big digital push for global events\", 'Scott Edwards: the selfless keeper of the Oranje flame', 'Bishan Singh Bedi’s words always had the depth of a life well lived and the world acutely observed', 'The Lords of Wankhede: WV Raman, R Kaushik’s book unveiled at a star-studded function', 'Bishan Singh Bedi death | It is a personal loss to me and my whole family, says Prasanna', 'Logan van Beek charts a ‘different way’ to the World Cup', 'Brexit red tape puts Valentine’s Day thorn in England’s flower trade', 'Kinetic Engineering upbeat on demand for eLuna', 'Plea filed in SC seeks to review Adani-Hindenburg verdict', 'Robot invasion hit a bump in 2023 as North American economy cooled', 'U.S. FDA approves Aurobindo Pharma’s generic to treat Duchenne muscular dystrophy ', 'Bengaluru may soon get a US Consulate: Priyank Kharge', 'The unique Nokia culture in its heydays', '‘It is nothing but a white lie paper’, says Chidambaram', 'Sundaram-Clayton reappoints Venu as Chairman Emeritus & MD', 'Tamilnadu Petroproducts Q3 net dips due to cyclone', 'IGL signs MoUs to set up 19 CBG plants in four states', 'VECV forays into small commercial vehicles', 'NMDC readying ground for a quantum jump by 2029', 'UPI gets global launch at Eiffel Tower in France', 'Aurobindo arm formulation unit under U.S. FDA scanner', 'A political, feel-good statement', 'The problem of moving attention away from services', 'Committee will study ‘fast population growth’ and demographic changes: Nirmala Sitharaman', 'German woes darken central Europe’s recovery prospects', 'Morning Digest | Graziers confront Chinese soldiers in eastern Ladakh; Centre starts survey to assess women participation in workforce, and more', 'IndiGo’s Delhi-Baku flight takes off without ATC clearance', 'EV batteries get extra power from coal in new experiment', 'U.S. kick-starts five-week H-1B visas renewal drive, to accept 20,000 applications', \"NCLT rejects Wilmington's insolvency plea against SpiceJet\", 'Global trade is being disrupted by Red Sea attacks, Ukraine war and low water in Panama Canal: UN', 'On anniversary of Hindenburg report, Gautam Adani says group has emerged stronger', '‘Imported’ arecanut enters Malnad, coastal areas through cargo terminal of Mangaluru airport, says CAMPCO', 'MIA facilitates highest quantity of inbound red arecanut handling at integrated cargo terminal in Mangaluru', \"China, in comic strip, warns of 'overseas' threats to its rare earths\", 'Air India launches country’s first Airbus A350-900 flight from Bengaluru to Mumbai', 'Can Rabbit r1 eat your smartphone?', 'TASL to make advanced composite assemblies for Boeing ', 'Watch | What is DigiYatra, and why were people complaining about it in airports?'], ['IIT Delhi team makes first hi-res landslide risk map for India', 'Unravelling the secrets of swing in cricket with the physics of friction', 'Wolbachia: An unlikely hero', 'What India needs from the ‘Vigyan Puraskar’ awards and what it can get | Explained', 'After year’s delay, CSIR’s Bhatnagar awards for 2022 announced', 'Sangam-age stud, bead unearthed in Tamil Nadu', \"India's oldest living Test cricketer Dattajirao Gaekwad dies at 95\", 'Pakistan Super League hit by pullouts of overseas cricketers', 'Ranji Trophy | Thampi’s late burst gives Kerala first outright win of the season', 'Ranji Trophy | TN-Karnataka clash goes down to the wire, ends in a thrilling stalemate', 'IND vs ENG Tests | Rahul ruled out of Rajkot Test, Padikkal named as replacement', 'Ranji Trophy TN vs KAR | I thought we would get it with the new ball, but they defended it well, says Indrajith', 'Ranji Trophy | I feel my job in the team is to be a wicket-taker, says Tanay Thyagarajan', 'Their journey has left an indelible mark: Jay Shah consoles India following U19 WC loss', 'Ranji Trophy | It was about changing Umran’s mindset: J&K’s bowling coach Krishnakumar', 'Our plan was simple: keep it under two runs an over, says Vyshak', 'Ranji Trophy | Daunting task for Bengal on final day', \"Glenn Maxwell's blistering ton lifts Australia to 34-run victory in 2nd T20 against West Indies\", 'Ranji Trophy | Jammu & Kashmir bowls out Pondicherry for 67 in 87-run chase', 'Ranji Trophy | Karnataka still in command despite Ajith Ram’s heroics', 'U19 WC final | Australia dash Indian dreams with 79-run victory', 'Ranji Trophy | Looking forward to winning this game for the team: Hardik Raj', 'Ranji Trophy | Jalaj’s seven-for gives Kerala upper hand after Akshay’s ton', 'Ranji Trophy | Bowlers put Karnataka in the driver’s seat against Tamil Nadu', 'IND vs ENG Tests | It’s every cricketer’s dream to play for the country, says Akash Deep', 'Ranji Trophy | Jammu & Kashmir has Pondicherry reeling', 'Ranji Trophy | Tanay’s seven-for helps Hyderabad enforce the follow-on against Nagaland', 'CRICKET | Kohli unavailable; Jadeja, Rahul return for the last three Tests pending fitness clearance', 'Spinners will play key role in upcoming T20 WC: Maharaj', 'Ind vs Eng Tests | Kohli out for remainder of series; pacer Akash Deep gets maiden call-up', 'Ranji Trophy | Sachin Baby and Akshay Chandran rescue Kerala', 'Ranji Trophy | Tanmay & Tilak notch up dominating tons', 'Ranji Trophy | Padikkal puts Karnataka in strong position against TN', 'RANJI TROPHY | Spinners claim 21 wickets, Pondicherry secures first-innings lead', 'I want to play freely and consistently, says Tilak Varma', 'Ranji Trophy | Old rivalries to be renewed as TN meets Karnataka in high-stakes clash', 'Sportstar Aces Awards 2024 | First-ever International Icon honour goes to spin wizard Muralitharan', 'Sportstar Aces Awards 2024 | Shami is Sportsman of the year in Team Sports', 'Ranji Trophy | Kerala seeks its first win of the season with qualification hopes dashed', 'It is a crucial IPL for everyone, reckons Deepak Chahar', 'Ranji Trophy | Table-topper Hyderabad should have it easy against Nagaland', 'Ranji Trophy | Gaurav Yadav never gets tired of bowling, says Arun Karthick', 'Ranji Trophy | Confident Pondicherry takes on Jammu & Kashmir', 'From Beed to Benoni— the incredible journey of Sachin', 'IND vs ENG Tests | Bumrah the best in the world across formats: Harmison', 'Sai Kishore and Sanjay Yadav the headline acts in the second TNPL player auction', 'Kerkar enjoying his stint with Chhattisgarh', 'Ricky Ponting takes over as Washington Freedom head coach in U.S.', 'New Zealand thrash weakened South Africa by 281 runs in 1st Test', 'IND vs ENG second Test | Rohit’s men showed they had the depth and resilience to bounce back', 'India vs South Africa U-19 World Cup | Sachin and Saharan deliver in chase as India storms into final', 'Ranji Trophy | The tweak that helped Azharuddeen find his mojo', 'Ind vs Eng | Magical Bumrah was difference between two sides in 2nd Test: Hussain', 'Ranji Trophy | Baroda win three points, consolidates top spot', 'IND vs ENG second Test | Crawley dismissal: technology got it wrong, says Stokes', 'IND vs ENG second Test | Team effort got us over the line: Dravid', 'Ranji Trophy | Chhattisgarh resists Kerala’s push for a result after Baby’s blitz', 'Ranji Trophy | Tamil Nadu cruises to seven-wicket win over Goa', 'Ind vs Eng 2nd Test | Gill hurts finger, does not take field on day 4', 'Ranji Trophy | Sai Kishore, Ajith put TN on the cusp of win', 'IND vs ENG second Test | England 67-1 at stumps on Day 3 against India, chase record 399 to win', 'NZ vs SA first Test | Williamson, Ravindra centuries lift New Zealand against a spirited South Africa', 'Virat Kohli, Anushka Sharma expecting ‘second child’, reveals AB de Villiers', 'IND vs ENG second Test | Jaiswal will be a very special player: Crawley', 'IND vs ENG second Test | When it’s reversing, you don’t need to bowl magical deliveries: Bumrah', 'Ranji Trophy | Rahul and Nitesh help Hyderabad take a massive lead', 'Ranji Trophy | Jyotsnil hits a career-best unbeaten 215 to put Baroda in a dominant position against Delhi', 'Ranji Trophy | Tamil Nadu manages to take a slender first-innings lead against Goa', 'RANJI TROPHY | Azharuddeen’s memorable comeback takes Kerala to a challenging total', 'Why do we need turning tracks, we need to play on good wickets: Ganguly', 'IND vs ENG second Test | Bumrah reverse-swings the balance India’s way after Jaiswal’s double ton', 'IND vs ENG second Test | Yashasvi Jaiswal hits maiden double ton', \"Foreigners, local coaches don't want to work with PCB due to its shortsightedness: Misbah\", 'Shamar Joseph rekindles the embers of an old sporting dynasty', 'Ranji Trophy | Rohit spell helps Hyderabad dismiss Mizoram cheaply', 'Ranji Trophy | Sachin Baby comes to the rescue again for Kerala', 'ICC Under-19 World Cup | India thrashes Nepal to storm into semifinal', 'Ranji Trophy | Prabhudessai scores a century to help Goa to a decent total', 'IND vs ENG second Test | Rohit Sharma as my first wicket is special, says Shoaib Bashir', 'IND vs ENG second Test | Rajat Patidar feels the wait for his chance was worth it', 'Stokes looks to make good use of Anderson’s experience', 'India has always bounced back well, says Bharat', 'Ind vs Eng 2nd Test | Can Rohit and his men ground the high-flying Bazball?', 'RANJI TROPHY | Chhattisgarh aims for a win against misfiring Kerala', 'Ind vs Eng 2nd Test | Spinner Jack Leach ruled out with knee injury', 'Spirited England fans lapping up Test match experience in India', 'Ranji Trophy | Prithvi Shaw added to Mumbai’s squad against Bengal', 'IND vs ENG Tests | Decision on Patidar or Sarfaraz with Dravid and Rohit, says coach Vikram Rathour', 'IND vs ENG Tests | Crawley credit success to pre-series training camp in Abu Dhabi', 'IND vs ENG | Spotlight on Patidar, Sarfaraz and other additions for second Test', \"IND vs ENG | Shami's absence won't increase Bumrah's workload: Irfan Pathan\", 'India vs England test series: second match to begin in Visakhapatnam from February 2; entry from 8 a.m.', 'Ashwin retains top spot, Bumrah moves to forth in ICC Test rankings', 'ICC Under-19 World Cup | Musheer, Pandey star as India romps past New Zealand', 'IND vs ENG second Test | India’s conundrum ahead of Visakhapatnam Test', \"IND vs ENG second Test | Won't be afraid to play all-spin attack in Visakhapatnam, says Brendon McCullum\", 'Ind vs Eng | Mark Wood accepted limited role in 1st Test win', 'Bazball has not only travelled, but transcended boundaries too', 'India will look to continue its winning ways when it takes on New Zealand', 'Jasprit Bumrah reprimanded for Code of Conduct breach in Hyderabad Test', 'Shamar Joseph may be ‘saviour in purest form of cricket’, says Steve Waugh', 'Saurabh Kumar: Net bowler for India against England in 2021, squad member in 2024', 'IND vs ENG | Ravindra Jadeja, Rahul ruled out of second Test against England', \"India vs England Test | Gill has got cushion that Pujara didn't get, needs to come good in Vizag: Kumble\", 'Gabba, Hyderabad thrillers the perfect advertisement for Test cricket', 'ICC lifts ban on Sri Lanka Cricket two months after suspension', 'Fully fit Deepak Chahar sets sights on Twenty20 World Cup', 'AUS vs WI second Test | Shamar Joseph bowls West Indies to stunning win over Australia in day/night Test', 'India v England 1st Test | After the Pope show, debutant Hartley spells India’s doom', 'TNCA inter-district 30-over women’s cricket tournament scores', \"India 'A' beat England Lions by innings and 16 runs\", 'RCB’s England player Heather Knight pulls out of WPL', 'Ranji Trophy | Bengal runs through Assam’s line-up to take the upper-hand', 'AUS vs WI pink ball Test | Steve Smith guides Australia to healthy position at stumps', 'Ranji Trophy | Karnataka in a spot of bother before pulling itself together', 'Tanmay helps Hyderabad call the shots with a record-breaking maiden triple century', 'Ranji Trophy | Shreyas Gopal shines through the gloom for Kerala', 'Ranji Trophy | Vintage Anustup steers Bengal out of trouble and into position of strength', 'IND vs ENG | Rahul, Jadeja put India in the driver’s seat', 'Ranji Trophy | Bengal will hope for favourable weather to improve its points tally', \"Virat Kohli wins ICC men's ODI Cricketer of the Year Award for fourth time\", 'Rohit Sharma firmly believes their ‘time will come’ to win elusive ICC trophy', 'IND vs ENG | Rajat Patidar to replace Virat Kohli for first two Tests against England', 'IND vs ENG Test | I wouldn’t say we are not beatable: Rohit', 'IND vs ENG Test | Rohit’s men out to maintain enviable record as Bazball faces its biggest test', \"Siraj's warning: If England play Bazball, the match might get over within two days\", 'Mitchell Marsh to captain Australia for Windies T20 series, Pat Cummins rested', 'England spinner Shoaib Bashir returns home to resolve visa issues; to miss first India Test', 'Any team will miss the quality of a player like Virat. But, it gives an opportunity for another player to step up: Dravid', 'No good coming here thinking the pitches will do the work, says Mark Wood', 'Rohit Sharma leads ICC ODI Team of the Year dominated by Indians', 'State of affair in Pakistan cricket is really sad: Javed Miandad', \"Ind vs Eng Tests | England bowler Shoaib Bashir's arrival delayed due to visa issues\", 'Gill, Shastri to be honoured at BCCI Awards', 'Ranji Trophy | Gritty Ashutosh denies Bengal first-innings honours', 'Ranji Trophy | Prabhudessai’s unbeaten ton helps Goa pull off a draw against Karnataka', 'Ranji Trophy | It was a challenging wicket to bowl: Mumbai’s Mohit Avasthi', 'Ranji Trophy | Kerala batters cave in meekly to Mumbai’s Mulani', \"Suryakumar Yadav named captain of ICC men's T20I team of the year\", 'IND vs ENG | Virat Kohli withdraws from first two Tests against England citing personal reasons', 'Ranji Trophy | Jose’s second First Class century helps Karnataka take first-innings lead', 'Ranji Trophy | Mumbai leaves Kerala with a daunting task to win', 'Ranji Trophy | Tamil Nadu spinners derail Railways, claims the match by an innings and 129 runs', 'Ranji Trophy | Bengal pushes for first innings lead with a tactical declaration and quick wickets', 'IND vs ENG Test series | England batsman Brook to miss series, returns home for personal reasons', 'PAK vs NZ 5th T20I | Pakistan beats New Zealand by 42 runs, avoid series sweep', 'Ranji Trophy | Hyderabad drubs Sikkim by an innings and 198 runs', 'Ranji Trophy | Bengal rides on young gun Abishek’s maiden century', 'Mohit triggers a spectacular Kerala collapse as Mumbai takes control', 'Ranji Trophy | Padikkal and Mayank’s centuries take Karnataka close to Goa’s total', 'Ranji Trophy | Since first match of this season, I don’t know for what reason there has been axe over my head: Jagadeesan', 'Ranji Trophy | Jagadeesan races away to his maiden double ton; puts Tamil Nadu in the driver’s seat', 'ICC Under-19 World Cup | Saumy, Musheer shine as India outclasses Bangladesh', 'Pitch full length, attack stumps and setting up straighter field placement should be mantra, Donald advises English pacers', 'Former Pakistan captain Shoaib Malik ties knot with Pakistan actor Sana Javed', \"Zaka Ashraf resigns as chairman of PCB's cricket management committee\", 'Playing in franchise leagues around the world elevates your game: Shane Bond', 'Under-19 World Cup | India looks for winning start in opener against Bangladesh', 'Ranji Trophy | Tanush Kotian, Bhupen Lalwani, and Shivam Dube spare Mumbai’s blushes', 'Aus vs WI 1st Test | Hazlewood stars as Australia claims 10-wicket win inside 3 days', 'Ranji Trophy | Sai Kishore geared up to turn it around and ‘strike gold’ for Tamil Nadu', 'Ranji Trophy | Bengal takes on Chhattisgarh, will seek to garner maximum points', 'Ranji Trophy | Hyderabad, Sikkim in battle of equals', 'IND vs AFG T20Is | Dravid impressed by his players stepping up at the right moment', 'Ranji Trophy | Kerala faces stern test against inform Mumbai ', 'Nice to see we have some options ahead T20 World Cup: Dravid', 'IND vs AFG 3rd T20I | Rohit’s India pips Afghanistan at the post in a dramatic twin Super Over shoot-out', 'Redfern to be first ICC-appointed female neutral umpire for bilateral series', 'NZ vs PAK | Finn Allen slams record-equalling 16 sixes as New Zealand wins T20 series 3-0', 'IND vs AFG | India look to perfect new template in 3rd T20 against Afghanistan; Kuldeep, Avesh may return', 'Ranji Trophy | Mumbai brushes off Andhra, gets bonus point', 'Ranji Trophy | Desai, Vaghela bowl Gujarat to an incredible victory over Karnataka', 'Ranji Trophy | Assam’s Rahul Hazarika belts century, match ends in a draw', 'IND vs AFG | India will look to fine tune winning combination ahead of World Cup', 'Cooch Behar Trophy Final | Prakhar Chaturvedi breaks Yuvraj’s record', 'IND vs AFG T20Is | Haven’t thought about who plays the World Cup, focus is on giving our best: Arshdeep Singh', 'ICC bans Bangladesh cricketer Nasir Hossain for two years on corruption charges', 'Brian Lara says cannot blame WI players for preferring IPL to national duty', 'Kane Williamson, Abbas Afridi ruled out of the third T20 match due to injury', 'Man detained for breaching security and hugging Virat Kohli during T20 match', 'Shaun Marsh announces retirement from professional cricket', 'Ranji Trophy | Riyan hopes to carry domestic form to the IPL', \"We won't complain if pitches in India spin from ball one: Ollie Pope\", 'A step in right direction for Afghanistan: Trott on first-ever bilateral series against India', \"Modern day batters aren't patient anymore: Kallis\", 'Ranji Trophy | Lower-order rallies to give Mumbai the ascendancy', 'Crisis man Sachin Baby’s century puts Kerala in good position', 'Yuvraj Singh hints at mentoring role to prepare Team India for challenges ahead', 'Ranji Trophy | Mayank’s ton propels Karnataka to a dominant position against Gujarat', 'IND vs AFG | India eyes series win over Afghanistan as fringe players look to impress; Kohli to return', 'As franchise leagues kidnap the game, Test cricket must find windows: Mark Nicholas', 'India squad for England Tests announced; Dhruv Jurel gets first call-up as injury keeps Shami out', 'IND vs AFG T20Is | Axar ready to attack more, trade runs for wickets', 'Ranji Trophy | Kerala openers Kunnummal and Krishna Prasad frustrate Assam', 'Ranji Trophy | Honours even after day one as Andhra claims six Mumbai wickets', 'Ranji Trophy | Koushik picks up four as Gujarat gets bowled out for 264', 'India A dominate proceedings against England Lions on day one of practice game', 'Presence of Kohli, Rohit will give India solidity in T20 World Cup: Suresh Raina', 'Nepal suspends former cricket captain after rape conviction', 'IND vs AFG first T20I | Shivam Dube shines on comeback to script comfortable win for India', 'Shane Bond: Siraj is awesome; good to see emergence of Afridi, Madushanka, Coetzee', 'Rohit-Jaiswal combination to continue at opening slot: Rahul Dravid', 'Ind vs Afg T20 | Opportunity for aspirants to stake a claim for T20 World Cup spots', 'Adams named New Zealand bowling coach for Pakistan series', 'After rain, India share top honours with South Africa in U-19 Tri-Nation tourney', 'Players need to be flexible because not much time to prepare for T20I WC: Dravid', 'Dinesh Karthik to assist England Lions as batting consultant', '‘We should be proud’: Alyssa Healy after defeating India in T20I series', 'Nepal cricketer Sandeep Lamichhane jailed for eight years after rape conviction', 'I have never seen anything better than what Tendulkar, Azharuddin did at Newlands: Conrad', 'IND vs AUS | Bowlers, Healy and Mooney help Aussies have the last laugh', 'ICC rates Newlands pitch as unsatisfactory after shortest-ever Test in history', 'Mohammed Shami, para archer Sheetal conferred with National Sports Awards', 'WTC has made it worse for Test cricket: Butcher', 'Ranji Trophy | Gujarat pacers hunt as a pack, send Tamil Nadu to its doom', 'IND vs AUS | Harmanpreet’s Women In Blue keen to end gruelling season on a high', 'Return of Rohit and Kohli reveals hope, apprehension about the road ahead', 'Ranji trophy | Karnataka begins its campaign with a seven-wicket win over Punjab', 'Proud to have received my first Ranji cap here at my home ground: Rohit', \"Ashwin terms Vaughan's 'underachiever' remark 'laughable'; rates India as excellent travelling side\", 'David Warner expresses coaching ambition in future', 'Ranji Trophy | Ankit and Juyal combine to shut out Kerala', 'Coming back was almost like a debut for me, says Ngidi', 'Ranji Trophy | Delhi’s batting implodes again, squanders advantage', \"Rohit Sharma to lead India's T20I side against Afghanistan; Virat Kohli included\", 'Ranji Trophy | Prabhsimran and Abhishek take the fight to Karnataka with a big partnership', 'RANJI TROPHY | Gujarat takes the upper hand against Tamil Nadu', \"ICC rejects Usman Khawaja's appeal against armband sanction\", 'Ranji Trophy | Vishnu Vinod’s flamboyant knock keeps Kerala in the contest', 'India in South Africa | I have learnt a lot from my first two tours: Yashasvi Jaiswal', 'Ranji Trophy | Gaurav’s seven for helps Pondicherry bowl out Delhi cheaply', 'I have been working on my batting, says Warrier after the impressive show against Gujarat', 'Ranji Trophy | Warrier and Mohammed’s partnership with the bat helps TN take a slender lead', 'Every Ranji hundred is special. No matter what, the grind [towards] getting a hundred is tough: Padikkal', 'There’s a lot of difference between bowling in India and South Africa, says Mukesh Kumar', 'Ranji Trophy | Karnataka’s Padikkal and Pandey notch up centuries to drive home the advantage', 'David Warner leads Australia to victory in his farewell test match, completing a 3-0 sweep over Pakistan', '‘I remember telling Rahul Dravid I can’t believe Sachin Tendulkar was better than Virat Kohli’', 'Ranji Trophy | Never-say-die Mohammed back in the mix with a bang', 'India in South Africa | The 1-1 scoreline is a fair reflection of the mini-series of miniature Tests in South Africa', 'ICC Twenty20 World Cup 2024: full schedule, dates and venues', 'Ranji Trophy | Karnataka gets off to a blazing start against Punjab', 'Ranji Trophy | Mohammed and Warrier call the shots as TN restricts Gujarat', 'T20 World Cup 2024: India to face Pakistan on June 9 in New York', 'Ranji Trophy | I am enjoying this phase of my career, says Karnataka’s Koushik after career-best seven-for', 'India in South Africa | Shreyas Iyer’s short ball problems remain a worry', 'Kohli, Jadeja to vie for Sobers Trophy; Ashwin in race for ICC Test Cricketer of Year', 'ICC Test rankings | Australia topples India as world’s No 1 Test side', 'AUS vs PAK | Josh Hazlewood has Pakistan reeling after Jamal’s third Test heroics', 'Ranji Trophy: A tournament that gives clues about players willing to cope with rigours of the longer format', 'RANJI TROPHY | Kerala and Uttar Pradesh will aim to get their red-ball fortunes back on track', \"Australia's Usman Khawaja completes 7,000 international runs\", 'Virat Kohli back in top 10 of ICC Test Ranking', 'India in South Africa | Reward for hitting one area consistently, says Siraj', \"Suryakumar doesn't quite know what to do in ODIs but he is a freak in T20 cricket, says Hussain\", 'Cricket South Africa defends Test squad selection for New Zealand tour', 'The future is up to administrators making the right decisions for the players, says South Africa’s Dean Elgar', 'India in South Africa | Young Indian batsmen should be ready for the task, says Rohit Sharma', 'Australia women sweep series as the Litchfield-Healy duo has a smashing day at the office', 'India in South Africa | India desperate to bounce back; looks to improve standing in WTC points table', 'AUS vs PAK third Test | Australia bids for Pakistan sweep in Warner Week', 'India in South Africa | India must focus on building bigger fast bowling pool in 2024: Irfan Pathan', 'Australia PM praises Khawaja for showing courage amid stand-off with ICC', 'AUS vs PAK | Australia announce unchanged playing XI for third Test against Pakistan', 'Jonathan Trott to continue as Afghanistan head coach for 2024', 'India in South Africa | India must put the Centurion debacle behind and regroup', 'An incredible experience for Japanese cricket trio', 'I tried to mould my technique on Kohli, Rohit: Bedingham', 'Steve Waugh slams South Africa for naming depleted squad, ICC for not caring about Test cricket', 'Harmanpreet Kaur’s form with bat in focus as India look to salvage pride in final ODI against Australia', 'David Warner retires from one-day cricket ahead of Test farewell', 'Shubman Gill is playing too aggressively in Test cricket: Gavaskar', 'India in South Africa | Rohit, Jadeja have a stint in the nets', 'India in South Africa | Debutant Burger casts a spell, indeed!', 'India in South Africa | Rohit Sharma focuses on Mukesh during net session, Jadeja goes full tilt', 'India in South Africa | Shardul Thakur hit on shoulder at nets, but is fine', 'Sri Lanka names squad for Zimbabwe series, Kusal, Hasaranga to lead ODI, T20I sides', \"PCB to take up Rizwan's dismissal during Melbourne Test with ICC\", 'IND vs SA second Test | Ravindra Jadeja likely to be available for Cape Town Test', 'IND vs SA | Dean Elgar named South Africa captain for farewell Test against India', 'IND vs SA | Prasidh Krishna’s performance hints at bare bench strength', 'AUS vs PAK | Cummins the hero as Australia beats Pakistan to clinch series', \"Avesh Khan added to India's squad ahead of second Test against South Africa\", 'Bangladesh wins the toss and bowls in 2nd T20 match against New Zealand', 'Kohli first batter to score 2000+ runs in seven calendar years', 'SA vs IND, 2nd Test| Temba Bavuma out of Cape Town Test; Dean Elgar to lead South Africa', 'Fifties from Litchfield, Perry and McGrath guide Australia home in the opening ODI', \"Ben Stokes hits back at Harmison's remarks of England losing 5-0 against India\", 'Post-lunch session delayed for a while in AUS vs PAK Test as third umpire gets stuck in lift', 'SA vs IND first Test | Burger & Co. dash India’s ‘final frontier’ dream, inflict innings defeat', 'Australia recovers from poor second-innings start to lead by 241 runs over Pakistan in second Test', 'David Warner plays his final Boxing Day Test innings, bids goodbye to MCG in whites', 'SA vs IND | Elgar’s unbeaten ton helps South Africa nose ahead', 'Mayank to lead Karnataka in the opening two Ranji fixtures; Gowtham misses out', 'Interview with Fanie de Villiers: Azharuddin is the batter I respected most', \"Head coach Hathurusingha confident about Bangladesh's upcoming T20I series against New Zealand\", 'Labuschagne immovable as Australia frustrate Pakistan in second Test', 'When Steve Rixon sledged Graeme Pollock and regretted right away', 'Tale of Ajay Reddy | How the Indian blind cricket team captain found a way to serve the nation', 'Warner picks Marcus Harris as his Test replacement', 'If South Africa plays two Tests a year how will Rabada reach 400 wickets, fumes Ntini', 'IND vs SA | Rahul stands firm as Rabada’s five-for stymies India', 'Afghanistan unlikely to give nod for Mujeeb, Naveen and Farooqi to participate in IPL 2024', 'India has had its moments in the Rainbow Nation, will look for maiden Test series win', 'Want to achieve what nobody has achieved in South Africa: Rohit Sharma', \"IND vs SA first Test | Rohit's men gear up to end 31-year wait for series win in South Africa\", 'Even bowler who replaces Shami can put us under pressure: South Africa skipper Temba Bavuma', 'Prioritising international cricket has helped my game: Starc on turning down multiple IPL fortunes', 'Discussed about keeping with KL Rahul, he was confident: Dravid', 'Virat Kohli rejoins team India ahead of first Test against South Africa', 'SA vs IND first Test | India chases history in test series in South Africa', 'Usman Khawaja denied permission to have peace symbol on bat, say reports', 'Sai Sudharsan always looking to learn and improve, says Hemang Badani', 'Dhoni to resume training in the next few weeks: CSK CEO', 'Former South Africa captain Dean Elgar announces retirement from international cricket after India series', 'India U19 to play tri-series against South Africa, Afghanistan ahead of World Cup', 'Pakistan’s injury woes continue with spinner Noman Ali out for remainder of Australia series', 'Virat Kohli returns due to family emergency, Gaikwad ruled out of Test series against South Africa', 'Khawaja to challenge ICC reprimand, says armband was for a bereavement', \"Unfortunately haven't been able to give Samson chance at No. 3, says K.L. Rahul\", 'Last 3-4 months were mentally challenging, grateful for maiden ODI century, says Sanju Samson', 'India vs SA 3rd ODI | Samson hits maiden ton; India has the last laugh', 'Crisis-hit West Indies announce 7 uncapped players for Australia Test tour', 'With a mix of big and bargain buys, Chennai Super Kings get ready for title defence', 'Pacers pack a punch at the IPL 2024 Auction', \"Toss played a factor, we're 50-60 runs short on a lively wicket: Rahul\", 'Emotional decision to change captain, but Rohit will be part of MI legacy: Jayawardene', 'IPL 2024 auction | Chennai Super Kings get Rachin Ravindra and Daryl Mitchell', 'IPL 2024 auction | Mitchell Starc smashes IPL auction record; KKR gets him for ₹24.75 crore', 'Ranji Trophy | Sai Kishore to helm TN; Aparajith a surprise omission', 'Rishabh Pant to attend 2024 IPL Auction', 'Arshdeep reveals spending time with Avesh Khan a day before 1st ODI \"boosted\" his performance', '\"I still pinch myself when I see...\": Nathan Lyon after completing 500 Test wickets', '500 Test wickets is huge: Australia skipper Cummins lauds Lyon on reaching major career milestone', 'Ishan Kishan pulls out of SA Test series, Bharat named replacement', 'Salt smashes century as England fightback stuns West Indies in T20', 'Under-19 Asia Cup | Bangladesh crushes UAE to lift trophy', 'SA vs IND first ODI | India surprised by Wanderers wicket in big win over South Africa, says Rahul', 'Arshdeep Singh becomes first Indian pacer to take five-wicket haul against South Africa in ODIs', 'SA vs IND, 1st ODI | Arshdeep, Avesh star in emphatic Indian victory over South Africa', 'India showed us how to play in these conditions: Heather Knight', 'AUS vs PAK, 1st Test | Australia builds big lead over Pakistan as Lyon moves to 499 Test wickets', 'Ind Women vs Eng women Test | Amol Muzumdar filled in for my lack of Test captaincy experience: Harmanpreet', \"India thrash England by 347 runs in one-off women's Test\", 'Shami ruled out of Tests series against South Africa, Deepak Chahar withdraws from ODI series', 'South African pitches are suiting spinners in ongoing tour, says Kuldeep after picking fifer', 'Hardik Pandya replaces Rohit as Mumbai Indians captain', 'Under-19 Asia Cup semifinals | Bangladesh beats India to enter final; UAE stuns Pakistan to reach summit clash', 'Hardik Pandya replaces hugely successful Rohit Sharma as Mumbai Indians captain', \"To honour Dhoni's contribution to Indian cricket, No. 7 jersey retired, says Rajeev Shukla\", 'AUS vs PAK first Test | Pakistan digs in as Lyon edges closer to 500 Test wickets', 'Shami races against time to be fit for South Africa Tests, return during England series more likely', \"Suryakumar's sparkling hundred carries India to 201 for 7 in third T20I against South Africa\", \"Valli, Du Plessis make fifties as South Africa 'A' manage draw against India 'A'\", \"AUS vs PAK, 1st Test | David Warner's powerful 164 in farewell series leads Australia to 346/5\", \"Australia cricketer Khawaja wears a black armband after a ban on his ''all lives are equal'' shoes\", 'Misfiring Indian bowlers in focus as India seek series-levelling win over SA in 3rd T20I', \"Markram and Shamsi's middle-over spells became turning point, feels Tilak Varma\", \"Andre Russell's masterclass helps West Indies clinch 4-wicket win against England in 1st T20I\", 'Indian team has responsibility to take women’s cricket ahead: Harmanpreet Kaur', \"Didn't know how to come back after World Cup final loss but now motivated for ultimate prize: Rohit\", 'Test series against India | It was a fair decision, says Chris Woakes on being left out', 'Gaza support | Cricket Australia expects Usman Khawaja to abide by rules', 'India retain Asia Cup squad as Uday Saharan set to lead in U-19 World Cup', 'No one goes to a sporting contest just to watch the rain', 'T20 | South Africa take 1-0 lead with five-wicket win over India', 'U-19 Asia Cup: Seamer Raj takes 7/13 as India beat Nepal to enter semis', \"Bangladesh spin sensation Nahida Akter bags women's player of Month for November\", 'England call up uncapped spin duo of Hartley, Bashir for India Test series', \"Travis Head wins ICC Men's Player of Month award for November 2023\", 'Stop clock trial to get underway during West Indies-England series', 'WPL Auction 2024 | I was quietly confident as I did well in the Mumbai Indians trials: S.B. Keerthana', \"Ben Stokes expected to be fit for start of England's Test series in India but will not bowl\", 'Asad Shafiq announces retirement from all forms of cricket, set to become Pakistan selector', 'IND vs ENG T20Is | Shreyanka and Saika spin a web around Knight’s England', 'Deepak Chahar yet to join team; pacer remains doubtful for remainder of SA T20I series', 'Wicket of Alyssa Healy will give Kashvee Gautam most joy', 'Impact player rule in IPL not encouraging all-rounders to bowl, says Wasim Jaffer', \"Azan's unbeaten ton, Zeeshan's four-fer guide Pakistan to 8-wicket victory over India in U-19 Asia Cup clash\", \"India's rain-hit first T20I against South Africa called off; Men in Blue's WC combination search to wait\", 'Pakistan cricket team in Australia without a doctor', 'Pitch was tricky but not as challenging as we made it appear: Deepti Sharma', 'Cricket life ban on ex-New Zealand opener Lou Vincent is relaxed', 'WPL second edition in February, to be played only at one venue: BCCI secretary Jay Shah', 'Series win over Aussies was big boost ahead of South Africa tour: Suryakumar Yadav', 'IND vs ENG T20Is | England clinches series after the Indian batters come a cropper', 'SA vs IND first T20I | India aims for right answers in tough Proteas ‘test’', 'BAN vs NZ second Test | New Zealand edges past Bangladesh in low scoring Test; levels series', 'IND vs ENG T20Is | Women in Blue need to strike back to keep the series alive', 'WPL Auction 2024 | Athapaththu and Wyatt headline field as the players go under the hammer', 'No coach can create an artist like Mohammed Shami, says bowling coach Paras Mhambrey', \"ICC rates Ahmedabad pitch which hosted ODI World Cup final as 'average'\", 'Interview | Virat is the best batter in the world and Rohit is great for the game, says Dr. Ali Bacher', 'BAN vs NZ second Test | Rain washes out second day play in Mirpur', 'Saha — from India’s best gloveman to Tripura’s mentor-in-chief', 'Pujara, the pitch-whisperer with a better strike rate than Compton ', 'Watch | How is a cricket bat made?', 'ICC rankings | Ravi Bishnoi becomes world’s No.1 T20I bowler', 'Mushfiqur Rahim becomes first Bangladesh batter to be out for ‘obstructing the field’', 'New Zealand eye comeback final Test win in Bangladesh', 'Bavuma, Rabada rested for white-ball series against India', 'Khawaja disagrees with Johnson, says Warner and Smith are heroes', 'West Indies successfully chases down target of 326 vs England in 1st ODI; Hope hits 109 not out', \"Rinku is contender for T20 World Cup spot, but it's too early: Ashish Nehra\", 'Any cricketer not inspired by Cummins is in wrong game: Ian Chappell', 'Jofra Archer set to miss IPL 2024 as ECB looks to manage his workload ahead of T20 World Cup', 'IND vs AUS T20Is | Shreyas, Mukesh and Bishnoi shine as Men in Blue clinch a humdinger', 'PCB chief selector Riaz reverses decision, removes Butt from national selection panel', 'Vijay Hazare Trophy 2023 | Bowlers set up Kerala’s win over Pondicherry; Tripura beats Mumbai', 'IND vs AUS T20Is | The last match in Garden City is expected to reach a crescendo', 'Warner included in settled Australia squad for first Pakistan test', 'IPL has given me confidence to remain calm under pressure: Rinku Singh', 'BAN vs NZ first Test | Taijul Islam’s 10-wicket haul secures 150-run win over New Zealand', 'T20 series win is something to give fans to cheer about after disappointing World Cup loss in final, says Ruturaj Gaikwad', 'Bangladesh beat New Zealand by 150 runs in first Test', 'India bounces back to take an unassailable lead', 'Ganguly bats for Rohit Sharma as Indian captain till 2024 T20 World Cup', 'Mitchell Marsh defends picture of resting feet on World Cup trophy, says he would do it again', 'Dominica withdraws from hosting 2024 T20 World Cup matches', 'Rohit, Suryakumar and Rahul named skippers for SA series', '‘It’s a great feeling,’ says Shubman Gill on becoming new Gujarat Titans skipper', 'IND vs AUS T20Is | Ruturaj Gaikwad — racking up the runs in true classical style, with a touch of artistry', 'Vijay Hazare Trophy 2023 | Dinesh Karthik shows his class, sets up Tamil Nadu’s win against Baroda', 'Vijay Hazare Trophy 2023 | Kerala eases past high-flying Tripura', 'Dravid & Co. reappointed for another term', 'An all-time XI: When players drop out, it’s a sign of progress', 'Glenn Phillips scalps four wickets as Kiwis restrict Bangladesh to 310/9 on first day of Sylhet Test', 'Namibia qualify for men’s T20 World Cup 2024', '‘He is doing everything right’: Simon Katich showers praise on Rinku Singh', 'IND vs AUS third T20I | Maxwell’s big show eclipses Gaikwad’s ton, helps Australia stay in the hunt', 'BAN vs NZ first Test | Phillips takes 4 wickets after Mahmudul Hasan’s good start', \"When Kohli's wicket fell, stadium felt quiet like library: Pat Cummins\", \"New Zealand prepares for 'strong' Bangladesh in first Test\", 'IND vs AUS third T20I | Upbeat India will be keen to seal the series straightaway', 'Vijay Hazare Trophy 2023 | Tripura stuns Saurashtra with fifties from Das, Chatterjee, Satish and Joydeb’s five-for', 'Vijay Hazare Trophy 2023 | Sandeep Warrier and Natarajan share the spoils in Tamil Nadu’s facile win over Bengal', 'India will be serious challenger for 2024 T20 World Cup title: Ravi Shastri', 'West Indies veteran Darren Bravo takes break from cricket following England ODIs snub', '‘India played their best cricket in World Cup’: Brian Lara', 'IND vs AUS second T20I | India’s batting might proves too strong for Australia', 'Hardik Pandya retained by Gujarat Titans, for now', \"Mumbai Indians have struck gold: Ashwin on Pandya's potential return to his old franchise\", 'IND vs AUS T20Is | I have a role in the team and a clear mindset: Tilak Varma', 'IND vs AUS T20Is | India will look to fix bowling issues, and extend the lead', 'It was a big thing when PM Modi came to console us after World Cup final loss: Suryakumar Yadav', 'Vijay Hazare Trophy 2023 | Sai Sudharsan, Dinesh Karthik set up Tamil Nadu’s win against Goa', 'Is Hardik Pandya leaving Gujarat Titans for Mumbai Indians ahead of IPL auction?', \"Australian spinner Nathan Lyon mocks ''Bazball''\", 'Pakistan all-rounder Imad Wasim retires from international cricket', 'Aerial artist, finance whiz, World Cup top-scorer: meet Sybrand Engelbrecht', 'IND vs AUS | Good chance for Ishan Kishan to cement his place in T20Is', \"Kerala cricketer Minnu Mani to lead India 'A' Women T20I team against England 'A' Women\", \"Women's Premier League auction to be held in Mumbai on December 9\", 'Vijay Hazare Trophy | Coach Sulakshan Kulkarni’s homecoming to Thane Dadoji Konddev Stadium', 'India vs Australia, 1st T20 | Just played fearless cricket, Ishan helped me really well, says Suryakumar', \"Afghan spin king Rashid Khan out of Australia's BBL with back injury\", \"Rohit Sharma doesn't need to be taught to score hundreds, Ashwin backs skipper\", 'Vijay Hazare Trophy 2023 | Kerala pips Saurashtra in low-scoring thriller', 'IND vs AUS first T20I | Skipper Suryakumar’s brilliant knock trumps Inglis’ spell-binding ton in a humdinger', 'England all-rounder Ben Stokes to miss IPL 2024, confirms Chennai Super Kings', 'Pat Cummins | The atypical Aussie captain', 'Former West Indies player Marlon Samuels banned from all forms of cricket for six years for anti-corruption code violation', 'Vijay Hazare Trophy | Saurashtra will be the team to beat, takes on Kerala in its opener', 'Vijay Hazare Trophy | T20 rivalry set to filter into the one-day format as Punjab, Baroda face off again', 'Disheartened India couldn’t win the World Cup: Kapil Dev', 'IND vs AUS T20Is | There’s always light at the end of the tunnel, says Suryakumar Yadav', 'IND vs AUS T20Is | Chance for youngsters to test their skills against a quality side', 'Gautam Gambhir back in Kolkata Knight Riders as mentor', 'Umar Gul, Saeed Ajmal appointed as Pakistan pace, spin bowling coaches', \"ICC moves men's U-19 World Cup from Sri Lanka to South Africa\", \"Australia's David Warner withdrawn from T20 series against India\", \"Country stands with them today and always: PM Modi on team India's cricket World Cup loss\", 'Suryakumar to lead a young India T20I team against Australia; Axar returns, no place for Samson', 'What led ICC to suspend Sri Lanka Cricket? | Explained', 'Pakistan Cricket Board names Wahab Riaz as new chief selector', 'The silent treatment speaks poorly of the fans in our stadiums ', \"Warner won't take central contract but looks to play white-ball cricket till 2025 Champions Trophy\", 'Your talent was special, says Ganguly in letter to Sehwag', 'Jhulan’s tribute to Edulji, Jayawardena salutes Aravinda', 'Australian third division club cricketer takes six wickets in six balls', \"India's Virender Sehwag, Diana Edulji and Sri Lanka's Aravind D'Silva enter ICC's Hall of Fame\", 'ICC World Cup | Best wishes to Team India for semis: PM Modi', 'Captaincy has not been a burden for me: Babar Azam', \"ICC suspends Sri Lanka's membership over government interference\", 'Watch | How is a cricket ball made?', 'New Zealand Test cricketer Henry Nicholls to face ball tampering charge', 'Meg Lanning — all-time batting great and captain fantastic', 'Jos Buttler keen to continue as white-ball skipper', 'Australia captain Meg Lanning quits international cricket after winning 7 World Cup titles', 'From Tunbridge Wells to the Wankhede: the relationship between superstitions and cricket', 'Shubman Gill, Mohammed Siraj attain top spots in ICC ODI rankings', 'Diana Puketapu-Lyndon becomes first female chair of New Zealand Cricket', 'Shakib was right, but he made the less honourable choice', 'Mitchell Santner, Rachin Ravindra return as New Zealand name spin-heavy Test squad for Bangladesh tour', 'Angelo Mathews ‘timed out’ | The 10 ways of getting dismissed in cricket', 'Syed Mushtaq Ali Trophy Final 2023 | Anmolpreet’s ton helps Punjab lift the trophy', 'After a dismal Syed Mushtaq Ali campaign, Tamil Nadu’s focus shifts to Vijay Hazare Trophy', 'Syed Mushtaq Ali Trophy 2023 Semifinal | Punjab and Baroda in the final', 'Syed Mushtaq Ali Trophy Semifinal 2023 | Explosive Punjab meets consistent Delhi', 'Inzamam steps down as Pakistan chief selector mid-World Cup', 'Matthew Wade to lead Australia in T20 series against India', 'India got its first part right and now the second act shimmers into view', \"Bangladesh's Shakib booed by home fans on World Cup break\", 'Laxman likely to be in-charge for Australia T20I series post World Cup', 'Gill and Siraj close in on ODI top spots in ICC rankings', 'Amol Muzumdar appointed as head coach of the Indian women’s team', 'Bishan Singh Bedi | Indian left-arm spinners pour tributes to the greatest of them all ', 'Murali Kartik says he is what he is only because of Bishan Singh Bedi', \"He 'bowled us over with ultimate spin ball', says Angad Bedi after demise of father Bishan Singh Bedi\", 'Bishan Singh Bedi, former India captain and legendary spinner, passes away at 77', 'Syed Mushtaq Ali T20 Tournament | Saurashtra rides on Harvik’s ton to beat Manipur', 'Shreevats Goswami retires from First Class cricket', 'Shane Bond parts ways with Mumbai Indians', 'Sri Lanka lifts ban on cricketer Danushka Gunathilaka after acquittal of rape charges in Australia', 'Purpose of including cricket was to bring high-profile players: IOC president Thomas Bach', 'Cricket, squash among 5 sports included in 2028 Los Angeles Olympic programme', 'New Zealand players meet school students in Chennai under UNICEF initiative', '\"This should hurt Pakistan\": former Pakistan cricketer Ramiz Raja on Pakistan\\'s 7-wicket defeat', \"Man Utd fan Jasprit Bumrah stunned by 'temple celebration' going viral\", 'CWC 2023 | KL Rahul wins \"Gold Medal\" by team for best fielding against Pakistan', 'India and Afghanistan should have shared Asian Games gold, says Afghan pacer Fareed Malik', 'Cricket at the Olympics – good news all around for a sport going global', \"Cricket set to be included in Olympics, ICC 'delighted' after Los Angeles 2028 recommends inclusion\", 'Hangzhou Asian Games cricket | Indian men clinch gold without having to bat', 'Hangzhou Asian Games cricket | Washington and Sai Kishore help India trump Bangladesh, to face Afghanistan in the final', 'How serendipity led to sticky success for 3M’s Ramesh Ramadurai', 'Supreme Court to hear curative petition by Centre, AAI in Nagpur airport case', 'Ashok Leyland is on track to achieving mid-term goal, says Dheeraj Hinduja', 'Skill India Mission trained, upskilled 1.4 crore youth: FM', 'Australian menswear brand ‘aussieBum’ introduces products in India']]\n"
          ]
        }
      ]
    },
    {
      "cell_type": "code",
      "source": [
        "cluster_assignment"
      ],
      "metadata": {
        "id": "d917D9doWrAt",
        "colab": {
          "base_uri": "https://localhost:8080/"
        },
        "outputId": "cd828a75-e876-49db-ad8e-26c6d7f8b7a7"
      },
      "execution_count": 41,
      "outputs": [
        {
          "output_type": "execute_result",
          "data": {
            "text/plain": [
              "array([1, 1, 1, ..., 1, 0, 0], dtype=int32)"
            ]
          },
          "metadata": {},
          "execution_count": 41
        }
      ]
    },
    {
      "cell_type": "code",
      "source": [
        "x = df.loc[:,\"description\"]\n",
        "y = cluster_assignment"
      ],
      "metadata": {
        "id": "N-dWyuSLa0pX"
      },
      "execution_count": 42,
      "outputs": []
    },
    {
      "cell_type": "code",
      "source": [
        "from sklearn.model_selection import train_test_split\n",
        "x_train , x_test , y_train , y_test = train_test_split(x,y,test_size=0.2,random_state=1,stratify=y)"
      ],
      "metadata": {
        "id": "SyZCY6vQ6pki"
      },
      "execution_count": 43,
      "outputs": []
    },
    {
      "cell_type": "code",
      "source": [
        "print(x_train)"
      ],
      "metadata": {
        "colab": {
          "base_uri": "https://localhost:8080/"
        },
        "id": "FG1IOuyj6qs_",
        "outputId": "2fb4281c-9297-4c55-98bb-e7e86a344990"
      },
      "execution_count": 44,
      "outputs": [
        {
          "output_type": "stream",
          "name": "stdout",
          "text": [
            "342    The rooftop solar programme of the Central gov...\n",
            "253     Karnataka left-arm spinner Rohit Kumar termed...\n",
            "446                                               Mumbai\n",
            "388    After producing a match-winning performance fo...\n",
            "601    The fingerprints of climate change are all ove...\n",
            "                             ...                        \n",
            "490    A property in the realm of materials science t...\n",
            "119    India should seek deferment on imposition of c...\n",
            "157    With more than a full year past since China ea...\n",
            "126    Every month, the medical genetics clinic in th...\n",
            "326    Advanced scientific research and education in ...\n",
            "Name: description, Length: 1384, dtype: object\n"
          ]
        }
      ]
    },
    {
      "cell_type": "code",
      "source": [
        "print(x_test)"
      ],
      "metadata": {
        "colab": {
          "base_uri": "https://localhost:8080/"
        },
        "id": "48NPYTB475C2",
        "outputId": "bd64dcb6-70de-418c-8b37-37fd3eb1ae3d"
      },
      "execution_count": 45,
      "outputs": [
        {
          "output_type": "stream",
          "name": "stdout",
          "text": [
            "385    When the think-tanks huddle up for the auction...\n",
            "431     Vrinda Dinesh, like most female cricketers or...\n",
            "195    From a small launch pad, the 715-kg Nike Apach...\n",
            "252    The electric battery has increased the penetra...\n",
            "131    It seems there is no immediate solution to Ker...\n",
            "                             ...                        \n",
            "558    The Indian Space Research Organisation (ISRO) ...\n",
            "291    The German philosopher Walter Benjamin wrote t...\n",
            "608    Following India's seven-wicket win against Pak...\n",
            "344    Scientists in Britain have found they can part...\n",
            "237    Indian wicketkeeper-batter Dinesh Karthik will...\n",
            "Name: description, Length: 346, dtype: object\n"
          ]
        }
      ]
    },
    {
      "cell_type": "code",
      "source": [
        "len(x_train) , len(x_test)"
      ],
      "metadata": {
        "colab": {
          "base_uri": "https://localhost:8080/"
        },
        "id": "gAHcPBOJ769f",
        "outputId": "e8e94650-7791-4055-b199-cf6825e1c3e0"
      },
      "execution_count": 46,
      "outputs": [
        {
          "output_type": "execute_result",
          "data": {
            "text/plain": [
              "(1384, 346)"
            ]
          },
          "metadata": {},
          "execution_count": 46
        }
      ]
    },
    {
      "cell_type": "code",
      "source": [
        "# converting textual data into numerical data because model will understand only numerical values\n",
        "from sklearn.feature_extraction.text import TfidfVectorizer\n",
        "\n",
        "vectorizer = TfidfVectorizer()\n",
        "\n",
        "x_train = vectorizer.fit_transform(x_train)\n",
        "x_test = vectorizer.transform(x_test)"
      ],
      "metadata": {
        "id": "9OMRtwZN7_YH"
      },
      "execution_count": 47,
      "outputs": []
    },
    {
      "cell_type": "code",
      "source": [
        "print(x_train)"
      ],
      "metadata": {
        "colab": {
          "base_uri": "https://localhost:8080/"
        },
        "id": "fGCtHnJ6_L_P",
        "outputId": "d65fd252-c3c5-4ea7-f00a-4cd3d342dc15"
      },
      "execution_count": 48,
      "outputs": [
        {
          "output_type": "stream",
          "name": "stdout",
          "text": [
            "  (0, 155)\t0.13781485202148538\n",
            "  (0, 1481)\t0.141584944807521\n",
            "  (0, 4483)\t0.1525478674416338\n",
            "  (0, 6450)\t0.18742032649689208\n",
            "  (0, 7571)\t0.20569909048222443\n",
            "  (0, 922)\t0.09016269507787911\n",
            "  (0, 8469)\t0.14871032357810743\n",
            "  (0, 5845)\t0.057257359338436856\n",
            "  (0, 773)\t0.1553558004650953\n",
            "  (0, 7693)\t0.15392429813722258\n",
            "  (0, 5699)\t0.15392429813722258\n",
            "  (0, 5388)\t0.13606900401745647\n",
            "  (0, 3436)\t0.14310784638307764\n",
            "  (0, 8805)\t0.1584029840982987\n",
            "  (0, 5462)\t0.17803220216391327\n",
            "  (0, 3162)\t0.19323570657422265\n",
            "  (0, 2938)\t0.2305018277199278\n",
            "  (0, 3609)\t0.21222306373459546\n",
            "  (0, 8810)\t0.23702580097229883\n",
            "  (0, 217)\t0.22498588692986327\n",
            "  (0, 3762)\t0.17803220216391327\n",
            "  (0, 8515)\t0.05419096347067084\n",
            "  (0, 4141)\t0.24501049891922452\n",
            "  (0, 2280)\t0.13166557105154697\n",
            "  (0, 5848)\t0.1280843060705308\n",
            "  :\t:\n",
            "  (1383, 2896)\t0.13623958354977808\n",
            "  (1383, 6499)\t0.12114313805697999\n",
            "  (1383, 7387)\t0.11527583959831386\n",
            "  (1383, 2789)\t0.1384647374133519\n",
            "  (1383, 7385)\t0.10334987730688788\n",
            "  (1383, 8419)\t0.09237696346224927\n",
            "  (1383, 1526)\t0.061605292377598195\n",
            "  (1383, 984)\t0.05961007649185042\n",
            "  (1383, 8417)\t0.0999744196112904\n",
            "  (1383, 6547)\t0.15464725988907058\n",
            "  (1383, 8114)\t0.10669077327163633\n",
            "  (1383, 2884)\t0.15464725988907058\n",
            "  (1383, 7977)\t0.10387453859834078\n",
            "  (1383, 7038)\t0.1694151227102319\n",
            "  (1383, 4546)\t0.05874964110718885\n",
            "  (1383, 4888)\t0.1072972085343448\n",
            "  (1383, 9217)\t0.0579940267750869\n",
            "  (1383, 4338)\t0.11466854342573006\n",
            "  (1383, 3543)\t0.04857747847770233\n",
            "  (1383, 744)\t0.15066695582890377\n",
            "  (1383, 4298)\t0.06708048573870785\n",
            "  (1383, 922)\t0.058826565212777654\n",
            "  (1383, 3827)\t0.09237696346224927\n",
            "  (1383, 1671)\t0.11901927044738947\n",
            "  (1383, 8396)\t0.051931970552727455\n"
          ]
        }
      ]
    },
    {
      "cell_type": "code",
      "source": [
        "print(x_test)"
      ],
      "metadata": {
        "colab": {
          "base_uri": "https://localhost:8080/"
        },
        "id": "9bMsNLlq_N7l",
        "outputId": "31db535e-e628-491b-d710-72748a9854b5"
      },
      "execution_count": 49,
      "outputs": [
        {
          "output_type": "stream",
          "name": "stdout",
          "text": [
            "  (0, 9190)\t0.17676986518180016\n",
            "  (0, 9164)\t0.21434810903976276\n",
            "  (0, 9162)\t0.2628688650399873\n",
            "  (0, 8844)\t0.19602460738265867\n",
            "  (0, 8424)\t0.3533052499059489\n",
            "  (0, 8396)\t0.12499222821682766\n",
            "  (0, 5012)\t0.3332632263815346\n",
            "  (0, 4154)\t0.4236996112474962\n",
            "  (0, 3604)\t0.3533052499059489\n",
            "  (0, 3543)\t0.23383696830522496\n",
            "  (0, 2840)\t0.3034465429524524\n",
            "  (0, 1007)\t0.3034465429524524\n",
            "  (0, 984)\t0.14347224273584988\n",
            "  (1, 9288)\t0.09711516405233331\n",
            "  (1, 9232)\t0.14711005464496602\n",
            "  (1, 9104)\t0.09091693266607154\n",
            "  (1, 8515)\t0.04610467457334328\n",
            "  (1, 8456)\t0.22955213659060242\n",
            "  (1, 8433)\t0.09711516405233331\n",
            "  (1, 8396)\t0.1354366739205382\n",
            "  (1, 7685)\t0.18376300315905086\n",
            "  (1, 7571)\t0.1750050011908056\n",
            "  (1, 7442)\t0.18055547758874882\n",
            "  (1, 6432)\t0.14611182305418693\n",
            "  (1, 6285)\t0.15796842977559838\n",
            "  :\t:\n",
            "  (344, 1308)\t0.23315859369624367\n",
            "  (345, 9242)\t0.22156587558194799\n",
            "  (345, 9217)\t0.0996096116460811\n",
            "  (345, 9190)\t0.25229462630487864\n",
            "  (345, 9182)\t0.2378248155436852\n",
            "  (345, 9164)\t0.1529640700176089\n",
            "  (345, 8555)\t0.23400292690224012\n",
            "  (345, 8396)\t0.04459876047954553\n",
            "  (345, 7648)\t0.2027189744876461\n",
            "  (345, 6162)\t0.1802786724351818\n",
            "  (345, 5816)\t0.056156261472727655\n",
            "  (345, 5696)\t0.21897791444938328\n",
            "  (345, 4965)\t0.2745675973493736\n",
            "  (345, 4682)\t0.3023624387993687\n",
            "  (345, 4339)\t0.12714985236825438\n",
            "  (345, 4338)\t0.09847642691682745\n",
            "  (345, 3543)\t0.08343589909139469\n",
            "  (345, 3041)\t0.1673356272727082\n",
            "  (345, 2632)\t0.2745675973493736\n",
            "  (345, 2390)\t0.19377103413195285\n",
            "  (345, 2094)\t0.3023624387993687\n",
            "  (345, 1455)\t0.3023624387993687\n",
            "  (345, 1156)\t0.22156587558194799\n",
            "  (345, 1152)\t0.18223513264369495\n",
            "  (345, 922)\t0.1010395663340083\n"
          ]
        }
      ]
    },
    {
      "cell_type": "code",
      "source": [
        "from sklearn.linear_model import LogisticRegression\n",
        "\n",
        "# Train a Multinomial Naive Bayes classifier\n",
        "classifier = LogisticRegression(max_iter=1000)  # Initial values\n",
        "\n",
        "classifier.fit(x_train, y_train)\n",
        "y_pred = classifier.predict(x_test)"
      ],
      "metadata": {
        "id": "PBbigm1S_3ss"
      },
      "execution_count": 50,
      "outputs": []
    },
    {
      "cell_type": "code",
      "source": [
        "from sklearn.metrics import accuracy_score, classification_report, confusion_matrix\n",
        "\n",
        "# Evaluate the performance of the classifier\n",
        "accuracy = accuracy_score(y_test, y_pred)\n",
        "conf_matrix = confusion_matrix(y_test, y_pred)\n",
        "classification_rep = classification_report(y_test, y_pred)\n",
        "\n",
        "print(f\"Accuracy: {accuracy:.2f}\")\n",
        "print(\"Confusion Matrix:\")\n",
        "print(conf_matrix)\n",
        "print(\"Classification Report:\")\n",
        "print(classification_rep)"
      ],
      "metadata": {
        "colab": {
          "base_uri": "https://localhost:8080/"
        },
        "id": "mSjwND0lAD23",
        "outputId": "3fb15d2f-84ae-40a9-b897-6d63d8aa6ed9"
      },
      "execution_count": 51,
      "outputs": [
        {
          "output_type": "stream",
          "name": "stdout",
          "text": [
            "Accuracy: 0.91\n",
            "Confusion Matrix:\n",
            "[[ 89  15   1]\n",
            " [  5 128   2]\n",
            " [  0   7  99]]\n",
            "Classification Report:\n",
            "              precision    recall  f1-score   support\n",
            "\n",
            "           0       0.95      0.85      0.89       105\n",
            "           1       0.85      0.95      0.90       135\n",
            "           2       0.97      0.93      0.95       106\n",
            "\n",
            "    accuracy                           0.91       346\n",
            "   macro avg       0.92      0.91      0.91       346\n",
            "weighted avg       0.92      0.91      0.91       346\n",
            "\n"
          ]
        }
      ]
    },
    {
      "cell_type": "code",
      "source": [
        "# x_new = [\"NASA tried to launch chandrayan to space\"]\n",
        "\n",
        "# x_new1 = [\"virat take century\"]\n",
        "\n",
        "x_new2 = [\"Ambani invested money to build jio petrol pumps\"]\n",
        "\n",
        "new_features = vectorizer.transform(x_new2)\n",
        "\n",
        "# Get the predicted topic label\n",
        "proba = classifier.predict_proba(new_features)\n",
        "\n",
        "categories = [\"Business\", \"Science\",\"Sports\"]\n",
        "# Print the predicted category and its probability\n",
        "predicted_category = categories[np.argmax(proba)]\n",
        "print(f\"Predicted category: {predicted_category}\")\n",
        "print(f\"Probabilities: {proba[0]}\")"
      ],
      "metadata": {
        "colab": {
          "base_uri": "https://localhost:8080/"
        },
        "id": "R7Ml79Y0_ULY",
        "outputId": "81f79383-514c-4a4a-dd03-c524bcc67a35"
      },
      "execution_count": 57,
      "outputs": [
        {
          "output_type": "stream",
          "name": "stdout",
          "text": [
            "Predicted category: Business\n",
            "Probabilities: [0.43677634 0.38660499 0.17661867]\n"
          ]
        }
      ]
    },
    {
      "cell_type": "code",
      "source": [
        "import pickle\n",
        "\n",
        "with open(\"news_model.pkl\",\"wb\") as f:\n",
        "  pickle.dump(classifier,f)\n",
        "with open(\"vectorizer_1.pkl\",\"wb\") as f:\n",
        "  pickle.dump(vectorizer,f)"
      ],
      "metadata": {
        "id": "6cYVi51VCcyr"
      },
      "execution_count": 61,
      "outputs": []
    },
    {
      "cell_type": "code",
      "source": [],
      "metadata": {
        "id": "f5Q9OjxqHsiD"
      },
      "execution_count": null,
      "outputs": []
    },
    {
      "cell_type": "code",
      "source": [],
      "metadata": {
        "id": "4HY_YbDAHslC"
      },
      "execution_count": null,
      "outputs": []
    },
    {
      "cell_type": "code",
      "source": [],
      "metadata": {
        "id": "20pfiTBmr55m"
      },
      "execution_count": null,
      "outputs": []
    }
  ]
}